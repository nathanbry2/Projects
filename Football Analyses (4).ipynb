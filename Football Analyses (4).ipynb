{
 "cells": [
  {
   "cell_type": "markdown",
   "metadata": {},
   "source": [
    "# Football Analyses"
   ]
  },
  {
   "cell_type": "code",
   "execution_count": 6,
   "metadata": {},
   "outputs": [],
   "source": [
    "# importing used libraries\n",
    "\n",
    "import pandas as pd\n",
    "import numpy as np\n",
    "import matplotlib.pyplot as plt\n",
    "import seaborn as sns\n",
    "import re\n",
    "sns.set()"
   ]
  },
  {
   "cell_type": "code",
   "execution_count": 7,
   "metadata": {
    "scrolled": true
   },
   "outputs": [
    {
     "data": {
      "text/html": [
       "<div>\n",
       "<style scoped>\n",
       "    .dataframe tbody tr th:only-of-type {\n",
       "        vertical-align: middle;\n",
       "    }\n",
       "\n",
       "    .dataframe tbody tr th {\n",
       "        vertical-align: top;\n",
       "    }\n",
       "\n",
       "    .dataframe thead th {\n",
       "        text-align: right;\n",
       "    }\n",
       "</style>\n",
       "<table border=\"1\" class=\"dataframe\">\n",
       "  <thead>\n",
       "    <tr style=\"text-align: right;\">\n",
       "      <th></th>\n",
       "      <th>wyId</th>\n",
       "      <th>shortName</th>\n",
       "      <th>firstName</th>\n",
       "      <th>middleName</th>\n",
       "      <th>lastName</th>\n",
       "      <th>birthDate</th>\n",
       "      <th>birthArea</th>\n",
       "      <th>passportArea</th>\n",
       "      <th>currentTeamId</th>\n",
       "    </tr>\n",
       "  </thead>\n",
       "  <tbody>\n",
       "    <tr>\n",
       "      <td>0</td>\n",
       "      <td>275580</td>\n",
       "      <td>Cesar Domingo</td>\n",
       "      <td>César Domingo</td>\n",
       "      <td></td>\n",
       "      <td>Mendiondo López</td>\n",
       "      <td>None</td>\n",
       "      <td>{'id': 76, 'alpha2code': 'BR', 'alpha3code': '...</td>\n",
       "      <td>{'id': 76, 'alpha2code': 'BR', 'alpha3code': '...</td>\n",
       "      <td>0</td>\n",
       "    </tr>\n",
       "    <tr>\n",
       "      <td>1</td>\n",
       "      <td>14710</td>\n",
       "      <td>J. Heynckes</td>\n",
       "      <td>Josef</td>\n",
       "      <td></td>\n",
       "      <td>Heynckes</td>\n",
       "      <td>1945-05-09</td>\n",
       "      <td>{'id': 276, 'alpha2code': 'DE', 'alpha3code': ...</td>\n",
       "      <td>{'id': 276, 'alpha2code': 'DE', 'alpha3code': ...</td>\n",
       "      <td>0</td>\n",
       "    </tr>\n",
       "    <tr>\n",
       "      <td>2</td>\n",
       "      <td>135480</td>\n",
       "      <td>G. De Biasi</td>\n",
       "      <td>Giovanni</td>\n",
       "      <td></td>\n",
       "      <td>De Biasi</td>\n",
       "      <td>1956-06-16</td>\n",
       "      <td>{'id': 380, 'alpha2code': 'IT', 'alpha3code': ...</td>\n",
       "      <td>{'id': 380, 'alpha2code': 'IT', 'alpha3code': ...</td>\n",
       "      <td>0</td>\n",
       "    </tr>\n",
       "    <tr>\n",
       "      <td>3</td>\n",
       "      <td>210074</td>\n",
       "      <td>Marcelino</td>\n",
       "      <td>Marcelino</td>\n",
       "      <td></td>\n",
       "      <td>García Toral</td>\n",
       "      <td>1965-08-14</td>\n",
       "      <td>{'id': 724, 'alpha2code': 'ES', 'alpha3code': ...</td>\n",
       "      <td>{'id': 724, 'alpha2code': 'ES', 'alpha3code': ...</td>\n",
       "      <td>674</td>\n",
       "    </tr>\n",
       "    <tr>\n",
       "      <td>4</td>\n",
       "      <td>293398</td>\n",
       "      <td>T. Korkut</td>\n",
       "      <td>Tayfun</td>\n",
       "      <td></td>\n",
       "      <td>Korkut</td>\n",
       "      <td>1974-04-02</td>\n",
       "      <td>{'id': 276, 'alpha2code': 'DE', 'alpha3code': ...</td>\n",
       "      <td>{'id': 792, 'alpha2code': 'TR', 'alpha3code': ...</td>\n",
       "      <td>0</td>\n",
       "    </tr>\n",
       "  </tbody>\n",
       "</table>\n",
       "</div>"
      ],
      "text/plain": [
       "     wyId      shortName      firstName middleName         lastName  \\\n",
       "0  275580  Cesar Domingo  César Domingo             Mendiondo López   \n",
       "1   14710    J. Heynckes          Josef                    Heynckes   \n",
       "2  135480    G. De Biasi       Giovanni                    De Biasi   \n",
       "3  210074      Marcelino      Marcelino                García Toral   \n",
       "4  293398      T. Korkut         Tayfun                      Korkut   \n",
       "\n",
       "    birthDate                                          birthArea  \\\n",
       "0        None  {'id': 76, 'alpha2code': 'BR', 'alpha3code': '...   \n",
       "1  1945-05-09  {'id': 276, 'alpha2code': 'DE', 'alpha3code': ...   \n",
       "2  1956-06-16  {'id': 380, 'alpha2code': 'IT', 'alpha3code': ...   \n",
       "3  1965-08-14  {'id': 724, 'alpha2code': 'ES', 'alpha3code': ...   \n",
       "4  1974-04-02  {'id': 276, 'alpha2code': 'DE', 'alpha3code': ...   \n",
       "\n",
       "                                        passportArea  currentTeamId  \n",
       "0  {'id': 76, 'alpha2code': 'BR', 'alpha3code': '...              0  \n",
       "1  {'id': 276, 'alpha2code': 'DE', 'alpha3code': ...              0  \n",
       "2  {'id': 380, 'alpha2code': 'IT', 'alpha3code': ...              0  \n",
       "3  {'id': 724, 'alpha2code': 'ES', 'alpha3code': ...            674  \n",
       "4  {'id': 792, 'alpha2code': 'TR', 'alpha3code': ...              0  "
      ]
     },
     "execution_count": 7,
     "metadata": {},
     "output_type": "execute_result"
    }
   ],
   "source": [
    "df_coaches = pd.read_json('coaches.json',encoding='utf-8')\n",
    "df_coaches.head()"
   ]
  },
  {
   "cell_type": "code",
   "execution_count": 8,
   "metadata": {
    "scrolled": true
   },
   "outputs": [
    {
     "data": {
      "text/html": [
       "<div>\n",
       "<style scoped>\n",
       "    .dataframe tbody tr th:only-of-type {\n",
       "        vertical-align: middle;\n",
       "    }\n",
       "\n",
       "    .dataframe tbody tr th {\n",
       "        vertical-align: top;\n",
       "    }\n",
       "\n",
       "    .dataframe thead th {\n",
       "        text-align: right;\n",
       "    }\n",
       "</style>\n",
       "<table border=\"1\" class=\"dataframe\">\n",
       "  <thead>\n",
       "    <tr style=\"text-align: right;\">\n",
       "      <th></th>\n",
       "      <th>passportArea</th>\n",
       "      <th>weight</th>\n",
       "      <th>firstName</th>\n",
       "      <th>middleName</th>\n",
       "      <th>lastName</th>\n",
       "      <th>currentTeamId</th>\n",
       "      <th>birthDate</th>\n",
       "      <th>height</th>\n",
       "      <th>role</th>\n",
       "      <th>birthArea</th>\n",
       "      <th>wyId</th>\n",
       "      <th>foot</th>\n",
       "      <th>shortName</th>\n",
       "      <th>currentNationalTeamId</th>\n",
       "    </tr>\n",
       "  </thead>\n",
       "  <tbody>\n",
       "    <tr>\n",
       "      <td>0</td>\n",
       "      <td>{'name': 'Turkey', 'id': '792', 'alpha3code': ...</td>\n",
       "      <td>78</td>\n",
       "      <td>Harun</td>\n",
       "      <td></td>\n",
       "      <td>Tekin</td>\n",
       "      <td>4502</td>\n",
       "      <td>1989-06-17</td>\n",
       "      <td>187</td>\n",
       "      <td>{'code2': 'GK', 'code3': 'GKP', 'name': 'Goalk...</td>\n",
       "      <td>{'name': 'Turkey', 'id': '792', 'alpha3code': ...</td>\n",
       "      <td>32777</td>\n",
       "      <td>right</td>\n",
       "      <td>H. Tekin</td>\n",
       "      <td>4687</td>\n",
       "    </tr>\n",
       "    <tr>\n",
       "      <td>1</td>\n",
       "      <td>{'name': 'Senegal', 'id': '686', 'alpha3code':...</td>\n",
       "      <td>73</td>\n",
       "      <td>Malang</td>\n",
       "      <td></td>\n",
       "      <td>Sarr</td>\n",
       "      <td>3775</td>\n",
       "      <td>1999-01-23</td>\n",
       "      <td>182</td>\n",
       "      <td>{'code2': 'DF', 'code3': 'DEF', 'name': 'Defen...</td>\n",
       "      <td>{'name': 'France', 'id': '250', 'alpha3code': ...</td>\n",
       "      <td>393228</td>\n",
       "      <td>left</td>\n",
       "      <td>M. Sarr</td>\n",
       "      <td>4423</td>\n",
       "    </tr>\n",
       "    <tr>\n",
       "      <td>2</td>\n",
       "      <td>{'name': 'France', 'id': '250', 'alpha3code': ...</td>\n",
       "      <td>72</td>\n",
       "      <td>Over</td>\n",
       "      <td></td>\n",
       "      <td>Mandanda</td>\n",
       "      <td>3772</td>\n",
       "      <td>1998-10-26</td>\n",
       "      <td>176</td>\n",
       "      <td>{'code2': 'GK', 'code3': 'GKP', 'name': 'Goalk...</td>\n",
       "      <td>{'name': 'France', 'id': '250', 'alpha3code': ...</td>\n",
       "      <td>393230</td>\n",
       "      <td></td>\n",
       "      <td>O. Mandanda</td>\n",
       "      <td>null</td>\n",
       "    </tr>\n",
       "    <tr>\n",
       "      <td>3</td>\n",
       "      <td>{'name': 'Senegal', 'id': '686', 'alpha3code':...</td>\n",
       "      <td>82</td>\n",
       "      <td>Alfred John Momar</td>\n",
       "      <td></td>\n",
       "      <td>N'Diaye</td>\n",
       "      <td>683</td>\n",
       "      <td>1990-03-06</td>\n",
       "      <td>187</td>\n",
       "      <td>{'code2': 'MD', 'code3': 'MID', 'name': 'Midfi...</td>\n",
       "      <td>{'name': 'France', 'id': '250', 'alpha3code': ...</td>\n",
       "      <td>32793</td>\n",
       "      <td>right</td>\n",
       "      <td>A. N'Diaye</td>\n",
       "      <td>19314</td>\n",
       "    </tr>\n",
       "    <tr>\n",
       "      <td>4</td>\n",
       "      <td>{'name': 'France', 'id': '250', 'alpha3code': ...</td>\n",
       "      <td>84</td>\n",
       "      <td>Ibrahima</td>\n",
       "      <td></td>\n",
       "      <td>Konaté</td>\n",
       "      <td>2975</td>\n",
       "      <td>1999-05-25</td>\n",
       "      <td>192</td>\n",
       "      <td>{'code2': 'DF', 'code3': 'DEF', 'name': 'Defen...</td>\n",
       "      <td>{'name': 'France', 'id': '250', 'alpha3code': ...</td>\n",
       "      <td>393247</td>\n",
       "      <td>right</td>\n",
       "      <td>I. Konaté</td>\n",
       "      <td>null</td>\n",
       "    </tr>\n",
       "  </tbody>\n",
       "</table>\n",
       "</div>"
      ],
      "text/plain": [
       "                                        passportArea  weight  \\\n",
       "0  {'name': 'Turkey', 'id': '792', 'alpha3code': ...      78   \n",
       "1  {'name': 'Senegal', 'id': '686', 'alpha3code':...      73   \n",
       "2  {'name': 'France', 'id': '250', 'alpha3code': ...      72   \n",
       "3  {'name': 'Senegal', 'id': '686', 'alpha3code':...      82   \n",
       "4  {'name': 'France', 'id': '250', 'alpha3code': ...      84   \n",
       "\n",
       "           firstName middleName  lastName currentTeamId   birthDate  height  \\\n",
       "0              Harun                Tekin          4502  1989-06-17     187   \n",
       "1             Malang                 Sarr          3775  1999-01-23     182   \n",
       "2               Over             Mandanda          3772  1998-10-26     176   \n",
       "3  Alfred John Momar              N'Diaye           683  1990-03-06     187   \n",
       "4           Ibrahima               Konaté          2975  1999-05-25     192   \n",
       "\n",
       "                                                role  \\\n",
       "0  {'code2': 'GK', 'code3': 'GKP', 'name': 'Goalk...   \n",
       "1  {'code2': 'DF', 'code3': 'DEF', 'name': 'Defen...   \n",
       "2  {'code2': 'GK', 'code3': 'GKP', 'name': 'Goalk...   \n",
       "3  {'code2': 'MD', 'code3': 'MID', 'name': 'Midfi...   \n",
       "4  {'code2': 'DF', 'code3': 'DEF', 'name': 'Defen...   \n",
       "\n",
       "                                           birthArea    wyId   foot  \\\n",
       "0  {'name': 'Turkey', 'id': '792', 'alpha3code': ...   32777  right   \n",
       "1  {'name': 'France', 'id': '250', 'alpha3code': ...  393228   left   \n",
       "2  {'name': 'France', 'id': '250', 'alpha3code': ...  393230          \n",
       "3  {'name': 'France', 'id': '250', 'alpha3code': ...   32793  right   \n",
       "4  {'name': 'France', 'id': '250', 'alpha3code': ...  393247  right   \n",
       "\n",
       "     shortName currentNationalTeamId  \n",
       "0     H. Tekin                  4687  \n",
       "1      M. Sarr                  4423  \n",
       "2  O. Mandanda                  null  \n",
       "3   A. N'Diaye                 19314  \n",
       "4    I. Konaté                  null  "
      ]
     },
     "execution_count": 8,
     "metadata": {},
     "output_type": "execute_result"
    }
   ],
   "source": [
    "df_players = pd.read_json('players_new.json',encoding='utf-8')\n",
    "df_players.head()"
   ]
  },
  {
   "cell_type": "code",
   "execution_count": 9,
   "metadata": {
    "scrolled": true
   },
   "outputs": [
    {
     "data": {
      "text/html": [
       "<div>\n",
       "<style scoped>\n",
       "    .dataframe tbody tr th:only-of-type {\n",
       "        vertical-align: middle;\n",
       "    }\n",
       "\n",
       "    .dataframe tbody tr th {\n",
       "        vertical-align: top;\n",
       "    }\n",
       "\n",
       "    .dataframe thead th {\n",
       "        text-align: right;\n",
       "    }\n",
       "</style>\n",
       "<table border=\"1\" class=\"dataframe\">\n",
       "  <thead>\n",
       "    <tr style=\"text-align: right;\">\n",
       "      <th></th>\n",
       "      <th>city</th>\n",
       "      <th>name</th>\n",
       "      <th>wyId</th>\n",
       "      <th>officialName</th>\n",
       "      <th>area</th>\n",
       "      <th>type</th>\n",
       "    </tr>\n",
       "  </thead>\n",
       "  <tbody>\n",
       "    <tr>\n",
       "      <td>0</td>\n",
       "      <td>Newcastle upon Tyne</td>\n",
       "      <td>Newcastle United</td>\n",
       "      <td>1613</td>\n",
       "      <td>Newcastle United FC</td>\n",
       "      <td>{'name': 'England', 'id': '0', 'alpha3code': '...</td>\n",
       "      <td>club</td>\n",
       "    </tr>\n",
       "    <tr>\n",
       "      <td>1</td>\n",
       "      <td>Vigo</td>\n",
       "      <td>Celta de Vigo</td>\n",
       "      <td>692</td>\n",
       "      <td>Real Club Celta de Vigo</td>\n",
       "      <td>{'name': 'Spain', 'id': '724', 'alpha3code': '...</td>\n",
       "      <td>club</td>\n",
       "    </tr>\n",
       "    <tr>\n",
       "      <td>2</td>\n",
       "      <td>Barcelona</td>\n",
       "      <td>Espanyol</td>\n",
       "      <td>691</td>\n",
       "      <td>Reial Club Deportiu Espanyol</td>\n",
       "      <td>{'name': 'Spain', 'id': '724', 'alpha3code': '...</td>\n",
       "      <td>club</td>\n",
       "    </tr>\n",
       "    <tr>\n",
       "      <td>3</td>\n",
       "      <td>Vitoria-Gasteiz</td>\n",
       "      <td>Deportivo Alavés</td>\n",
       "      <td>696</td>\n",
       "      <td>Deportivo Alavés</td>\n",
       "      <td>{'name': 'Spain', 'id': '724', 'alpha3code': '...</td>\n",
       "      <td>club</td>\n",
       "    </tr>\n",
       "    <tr>\n",
       "      <td>4</td>\n",
       "      <td>Valencia</td>\n",
       "      <td>Levante</td>\n",
       "      <td>695</td>\n",
       "      <td>Levante UD</td>\n",
       "      <td>{'name': 'Spain', 'id': '724', 'alpha3code': '...</td>\n",
       "      <td>club</td>\n",
       "    </tr>\n",
       "  </tbody>\n",
       "</table>\n",
       "</div>"
      ],
      "text/plain": [
       "                  city              name  wyId                  officialName  \\\n",
       "0  Newcastle upon Tyne  Newcastle United  1613           Newcastle United FC   \n",
       "1                 Vigo     Celta de Vigo   692       Real Club Celta de Vigo   \n",
       "2            Barcelona          Espanyol   691  Reial Club Deportiu Espanyol   \n",
       "3      Vitoria-Gasteiz  Deportivo Alavés   696              Deportivo Alavés   \n",
       "4             Valencia           Levante   695                    Levante UD   \n",
       "\n",
       "                                                area  type  \n",
       "0  {'name': 'England', 'id': '0', 'alpha3code': '...  club  \n",
       "1  {'name': 'Spain', 'id': '724', 'alpha3code': '...  club  \n",
       "2  {'name': 'Spain', 'id': '724', 'alpha3code': '...  club  \n",
       "3  {'name': 'Spain', 'id': '724', 'alpha3code': '...  club  \n",
       "4  {'name': 'Spain', 'id': '724', 'alpha3code': '...  club  "
      ]
     },
     "execution_count": 9,
     "metadata": {},
     "output_type": "execute_result"
    }
   ],
   "source": [
    "df_teams = pd.read_json('teams_new.json',encoding='utf-8')\n",
    "df_teams.head()"
   ]
  },
  {
   "cell_type": "code",
   "execution_count": 10,
   "metadata": {
    "scrolled": true
   },
   "outputs": [
    {
     "data": {
      "text/html": [
       "<div>\n",
       "<style scoped>\n",
       "    .dataframe tbody tr th:only-of-type {\n",
       "        vertical-align: middle;\n",
       "    }\n",
       "\n",
       "    .dataframe tbody tr th {\n",
       "        vertical-align: top;\n",
       "    }\n",
       "\n",
       "    .dataframe thead th {\n",
       "        text-align: right;\n",
       "    }\n",
       "</style>\n",
       "<table border=\"1\" class=\"dataframe\">\n",
       "  <thead>\n",
       "    <tr style=\"text-align: right;\">\n",
       "      <th></th>\n",
       "      <th>eventId</th>\n",
       "      <th>subEventName</th>\n",
       "      <th>tags</th>\n",
       "      <th>playerId</th>\n",
       "      <th>positions</th>\n",
       "      <th>matchId</th>\n",
       "      <th>eventName</th>\n",
       "      <th>teamId</th>\n",
       "      <th>matchPeriod</th>\n",
       "      <th>eventSec</th>\n",
       "      <th>subEventId</th>\n",
       "      <th>id</th>\n",
       "    </tr>\n",
       "  </thead>\n",
       "  <tbody>\n",
       "    <tr>\n",
       "      <td>0</td>\n",
       "      <td>8</td>\n",
       "      <td>Simple pass</td>\n",
       "      <td>[{'id': 1801}]</td>\n",
       "      <td>25413</td>\n",
       "      <td>[{'y': 49, 'x': 49}, {'y': 78, 'x': 31}]</td>\n",
       "      <td>2499719</td>\n",
       "      <td>Pass</td>\n",
       "      <td>1609</td>\n",
       "      <td>1H</td>\n",
       "      <td>2.758649</td>\n",
       "      <td>85</td>\n",
       "      <td>177959171</td>\n",
       "    </tr>\n",
       "    <tr>\n",
       "      <td>1</td>\n",
       "      <td>8</td>\n",
       "      <td>High pass</td>\n",
       "      <td>[{'id': 1801}]</td>\n",
       "      <td>370224</td>\n",
       "      <td>[{'y': 78, 'x': 31}, {'y': 75, 'x': 51}]</td>\n",
       "      <td>2499719</td>\n",
       "      <td>Pass</td>\n",
       "      <td>1609</td>\n",
       "      <td>1H</td>\n",
       "      <td>4.946850</td>\n",
       "      <td>83</td>\n",
       "      <td>177959172</td>\n",
       "    </tr>\n",
       "    <tr>\n",
       "      <td>2</td>\n",
       "      <td>8</td>\n",
       "      <td>Head pass</td>\n",
       "      <td>[{'id': 1801}]</td>\n",
       "      <td>3319</td>\n",
       "      <td>[{'y': 75, 'x': 51}, {'y': 71, 'x': 35}]</td>\n",
       "      <td>2499719</td>\n",
       "      <td>Pass</td>\n",
       "      <td>1609</td>\n",
       "      <td>1H</td>\n",
       "      <td>6.542188</td>\n",
       "      <td>82</td>\n",
       "      <td>177959173</td>\n",
       "    </tr>\n",
       "    <tr>\n",
       "      <td>3</td>\n",
       "      <td>8</td>\n",
       "      <td>Head pass</td>\n",
       "      <td>[{'id': 1801}]</td>\n",
       "      <td>120339</td>\n",
       "      <td>[{'y': 71, 'x': 35}, {'y': 95, 'x': 41}]</td>\n",
       "      <td>2499719</td>\n",
       "      <td>Pass</td>\n",
       "      <td>1609</td>\n",
       "      <td>1H</td>\n",
       "      <td>8.143395</td>\n",
       "      <td>82</td>\n",
       "      <td>177959174</td>\n",
       "    </tr>\n",
       "    <tr>\n",
       "      <td>4</td>\n",
       "      <td>8</td>\n",
       "      <td>Simple pass</td>\n",
       "      <td>[{'id': 1801}]</td>\n",
       "      <td>167145</td>\n",
       "      <td>[{'y': 95, 'x': 41}, {'y': 88, 'x': 72}]</td>\n",
       "      <td>2499719</td>\n",
       "      <td>Pass</td>\n",
       "      <td>1609</td>\n",
       "      <td>1H</td>\n",
       "      <td>10.302366</td>\n",
       "      <td>85</td>\n",
       "      <td>177959175</td>\n",
       "    </tr>\n",
       "  </tbody>\n",
       "</table>\n",
       "</div>"
      ],
      "text/plain": [
       "   eventId subEventName            tags  playerId  \\\n",
       "0        8  Simple pass  [{'id': 1801}]     25413   \n",
       "1        8    High pass  [{'id': 1801}]    370224   \n",
       "2        8    Head pass  [{'id': 1801}]      3319   \n",
       "3        8    Head pass  [{'id': 1801}]    120339   \n",
       "4        8  Simple pass  [{'id': 1801}]    167145   \n",
       "\n",
       "                                  positions  matchId eventName  teamId  \\\n",
       "0  [{'y': 49, 'x': 49}, {'y': 78, 'x': 31}]  2499719      Pass    1609   \n",
       "1  [{'y': 78, 'x': 31}, {'y': 75, 'x': 51}]  2499719      Pass    1609   \n",
       "2  [{'y': 75, 'x': 51}, {'y': 71, 'x': 35}]  2499719      Pass    1609   \n",
       "3  [{'y': 71, 'x': 35}, {'y': 95, 'x': 41}]  2499719      Pass    1609   \n",
       "4  [{'y': 95, 'x': 41}, {'y': 88, 'x': 72}]  2499719      Pass    1609   \n",
       "\n",
       "  matchPeriod   eventSec subEventId         id  \n",
       "0          1H   2.758649         85  177959171  \n",
       "1          1H   4.946850         83  177959172  \n",
       "2          1H   6.542188         82  177959173  \n",
       "3          1H   8.143395         82  177959174  \n",
       "4          1H  10.302366         85  177959175  "
      ]
     },
     "execution_count": 10,
     "metadata": {},
     "output_type": "execute_result"
    }
   ],
   "source": [
    "df_events_PL = pd.read_json('events_England.json',encoding='utf-8')\n",
    "df_events_PL.head()"
   ]
  },
  {
   "cell_type": "code",
   "execution_count": 20,
   "metadata": {
    "scrolled": true
   },
   "outputs": [
    {
     "data": {
      "text/html": [
       "<div>\n",
       "<style scoped>\n",
       "    .dataframe tbody tr th:only-of-type {\n",
       "        vertical-align: middle;\n",
       "    }\n",
       "\n",
       "    .dataframe tbody tr th {\n",
       "        vertical-align: top;\n",
       "    }\n",
       "\n",
       "    .dataframe thead th {\n",
       "        text-align: right;\n",
       "    }\n",
       "</style>\n",
       "<table border=\"1\" class=\"dataframe\">\n",
       "  <thead>\n",
       "    <tr style=\"text-align: right;\">\n",
       "      <th></th>\n",
       "      <th>status</th>\n",
       "      <th>roundId</th>\n",
       "      <th>gameweek</th>\n",
       "      <th>teamsData</th>\n",
       "      <th>seasonId</th>\n",
       "      <th>dateutc</th>\n",
       "      <th>winner</th>\n",
       "      <th>venue</th>\n",
       "      <th>wyId</th>\n",
       "      <th>label</th>\n",
       "      <th>date</th>\n",
       "      <th>referees</th>\n",
       "      <th>duration</th>\n",
       "      <th>competitionId</th>\n",
       "    </tr>\n",
       "  </thead>\n",
       "  <tbody>\n",
       "    <tr>\n",
       "      <td>0</td>\n",
       "      <td>Played</td>\n",
       "      <td>4405654</td>\n",
       "      <td>38</td>\n",
       "      <td>{'1646': {'scoreET': 0, 'coachId': 8880, 'side...</td>\n",
       "      <td>181150</td>\n",
       "      <td>2018-05-13 14:00:00</td>\n",
       "      <td>1659</td>\n",
       "      <td>Turf Moor</td>\n",
       "      <td>2500089</td>\n",
       "      <td>Burnley - AFC Bournemouth, 1 - 2</td>\n",
       "      <td>May 13, 2018 at 4:00:00 PM GMT+2</td>\n",
       "      <td>[{'refereeId': 385705, 'role': 'referee'}, {'r...</td>\n",
       "      <td>Regular</td>\n",
       "      <td>364</td>\n",
       "    </tr>\n",
       "    <tr>\n",
       "      <td>1</td>\n",
       "      <td>Played</td>\n",
       "      <td>4405654</td>\n",
       "      <td>38</td>\n",
       "      <td>{'1628': {'scoreET': 0, 'coachId': 8357, 'side...</td>\n",
       "      <td>181150</td>\n",
       "      <td>2018-05-13 14:00:00</td>\n",
       "      <td>1628</td>\n",
       "      <td>Selhurst Park</td>\n",
       "      <td>2500090</td>\n",
       "      <td>Crystal Palace - West Bromwich Albion, 2 - 0</td>\n",
       "      <td>May 13, 2018 at 4:00:00 PM GMT+2</td>\n",
       "      <td>[{'refereeId': 381851, 'role': 'referee'}, {'r...</td>\n",
       "      <td>Regular</td>\n",
       "      <td>364</td>\n",
       "    </tr>\n",
       "    <tr>\n",
       "      <td>2</td>\n",
       "      <td>Played</td>\n",
       "      <td>4405654</td>\n",
       "      <td>38</td>\n",
       "      <td>{'1609': {'scoreET': 0, 'coachId': 7845, 'side...</td>\n",
       "      <td>181150</td>\n",
       "      <td>2018-05-13 14:00:00</td>\n",
       "      <td>1609</td>\n",
       "      <td>The John Smith's Stadium</td>\n",
       "      <td>2500091</td>\n",
       "      <td>Huddersfield Town - Arsenal, 0 - 1</td>\n",
       "      <td>May 13, 2018 at 4:00:00 PM GMT+2</td>\n",
       "      <td>[{'refereeId': 384965, 'role': 'referee'}, {'r...</td>\n",
       "      <td>Regular</td>\n",
       "      <td>364</td>\n",
       "    </tr>\n",
       "    <tr>\n",
       "      <td>3</td>\n",
       "      <td>Played</td>\n",
       "      <td>4405654</td>\n",
       "      <td>38</td>\n",
       "      <td>{'1651': {'scoreET': 0, 'coachId': 8093, 'side...</td>\n",
       "      <td>181150</td>\n",
       "      <td>2018-05-13 14:00:00</td>\n",
       "      <td>1612</td>\n",
       "      <td>Anfield</td>\n",
       "      <td>2500092</td>\n",
       "      <td>Liverpool - Brighton &amp; Hove Albion, 4 - 0</td>\n",
       "      <td>May 13, 2018 at 4:00:00 PM GMT+2</td>\n",
       "      <td>[{'refereeId': 385704, 'role': 'referee'}, {'r...</td>\n",
       "      <td>Regular</td>\n",
       "      <td>364</td>\n",
       "    </tr>\n",
       "    <tr>\n",
       "      <td>4</td>\n",
       "      <td>Played</td>\n",
       "      <td>4405654</td>\n",
       "      <td>38</td>\n",
       "      <td>{'1644': {'scoreET': 0, 'coachId': 93112, 'sid...</td>\n",
       "      <td>181150</td>\n",
       "      <td>2018-05-13 14:00:00</td>\n",
       "      <td>1611</td>\n",
       "      <td>Old Trafford</td>\n",
       "      <td>2500093</td>\n",
       "      <td>Manchester United - Watford, 1 - 0</td>\n",
       "      <td>May 13, 2018 at 4:00:00 PM GMT+2</td>\n",
       "      <td>[{'refereeId': 381853, 'role': 'referee'}, {'r...</td>\n",
       "      <td>Regular</td>\n",
       "      <td>364</td>\n",
       "    </tr>\n",
       "  </tbody>\n",
       "</table>\n",
       "</div>"
      ],
      "text/plain": [
       "   status  roundId  gameweek  \\\n",
       "0  Played  4405654        38   \n",
       "1  Played  4405654        38   \n",
       "2  Played  4405654        38   \n",
       "3  Played  4405654        38   \n",
       "4  Played  4405654        38   \n",
       "\n",
       "                                           teamsData  seasonId  \\\n",
       "0  {'1646': {'scoreET': 0, 'coachId': 8880, 'side...    181150   \n",
       "1  {'1628': {'scoreET': 0, 'coachId': 8357, 'side...    181150   \n",
       "2  {'1609': {'scoreET': 0, 'coachId': 7845, 'side...    181150   \n",
       "3  {'1651': {'scoreET': 0, 'coachId': 8093, 'side...    181150   \n",
       "4  {'1644': {'scoreET': 0, 'coachId': 93112, 'sid...    181150   \n",
       "\n",
       "               dateutc  winner                     venue     wyId  \\\n",
       "0  2018-05-13 14:00:00    1659                 Turf Moor  2500089   \n",
       "1  2018-05-13 14:00:00    1628             Selhurst Park  2500090   \n",
       "2  2018-05-13 14:00:00    1609  The John Smith's Stadium  2500091   \n",
       "3  2018-05-13 14:00:00    1612                   Anfield  2500092   \n",
       "4  2018-05-13 14:00:00    1611              Old Trafford  2500093   \n",
       "\n",
       "                                          label  \\\n",
       "0              Burnley - AFC Bournemouth, 1 - 2   \n",
       "1  Crystal Palace - West Bromwich Albion, 2 - 0   \n",
       "2            Huddersfield Town - Arsenal, 0 - 1   \n",
       "3     Liverpool - Brighton & Hove Albion, 4 - 0   \n",
       "4            Manchester United - Watford, 1 - 0   \n",
       "\n",
       "                               date  \\\n",
       "0  May 13, 2018 at 4:00:00 PM GMT+2   \n",
       "1  May 13, 2018 at 4:00:00 PM GMT+2   \n",
       "2  May 13, 2018 at 4:00:00 PM GMT+2   \n",
       "3  May 13, 2018 at 4:00:00 PM GMT+2   \n",
       "4  May 13, 2018 at 4:00:00 PM GMT+2   \n",
       "\n",
       "                                            referees duration  competitionId  \n",
       "0  [{'refereeId': 385705, 'role': 'referee'}, {'r...  Regular            364  \n",
       "1  [{'refereeId': 381851, 'role': 'referee'}, {'r...  Regular            364  \n",
       "2  [{'refereeId': 384965, 'role': 'referee'}, {'r...  Regular            364  \n",
       "3  [{'refereeId': 385704, 'role': 'referee'}, {'r...  Regular            364  \n",
       "4  [{'refereeId': 381853, 'role': 'referee'}, {'r...  Regular            364  "
      ]
     },
     "execution_count": 20,
     "metadata": {},
     "output_type": "execute_result"
    }
   ],
   "source": [
    "df_matches_PL = pd.read_json('matches_England.json',encoding='utf-8')\n",
    "df_matches_PL.head()"
   ]
  },
  {
   "cell_type": "code",
   "execution_count": 21,
   "metadata": {},
   "outputs": [],
   "source": [
    "# Let's work with the df_matches_PL dataset"
   ]
  },
  {
   "cell_type": "code",
   "execution_count": 22,
   "metadata": {},
   "outputs": [],
   "source": [
    "# here we split the column 'label' and create 4 lists containing the splitted information (home team, awayteam,\n",
    "# home score and away score), for each game of the season\n",
    "\n",
    "home_teams = []\n",
    "away_teams = []\n",
    "home_scores = []\n",
    "away_scores = []\n",
    "\n",
    "\n",
    "for index,row in df_matches_PL.iterrows():\n",
    "    home_teams.append(row['label'].replace(',','-').split('-')[0].strip())\n",
    "    away_teams.append(row['label'].replace(',','-').split('-')[1].strip())\n",
    "    home_scores.append(row['label'].replace(',','-').split('-')[2].strip())\n",
    "    away_scores.append(row['label'].replace(',','-').split('-')[3].strip())\n",
    "    "
   ]
  },
  {
   "cell_type": "code",
   "execution_count": 23,
   "metadata": {},
   "outputs": [],
   "source": [
    "# we create new columns in the df, containing the lists we just created\n",
    "\n",
    "df_matches_PL['home_team'] = home_teams\n",
    "df_matches_PL['away_team'] = away_teams\n",
    "df_matches_PL['home_score'] = home_scores\n",
    "df_matches_PL['away_score'] = away_scores"
   ]
  },
  {
   "cell_type": "code",
   "execution_count": 24,
   "metadata": {
    "scrolled": true
   },
   "outputs": [
    {
     "data": {
      "text/html": [
       "<div>\n",
       "<style scoped>\n",
       "    .dataframe tbody tr th:only-of-type {\n",
       "        vertical-align: middle;\n",
       "    }\n",
       "\n",
       "    .dataframe tbody tr th {\n",
       "        vertical-align: top;\n",
       "    }\n",
       "\n",
       "    .dataframe thead th {\n",
       "        text-align: right;\n",
       "    }\n",
       "</style>\n",
       "<table border=\"1\" class=\"dataframe\">\n",
       "  <thead>\n",
       "    <tr style=\"text-align: right;\">\n",
       "      <th></th>\n",
       "      <th>status</th>\n",
       "      <th>roundId</th>\n",
       "      <th>gameweek</th>\n",
       "      <th>teamsData</th>\n",
       "      <th>seasonId</th>\n",
       "      <th>dateutc</th>\n",
       "      <th>winner</th>\n",
       "      <th>venue</th>\n",
       "      <th>wyId</th>\n",
       "      <th>label</th>\n",
       "      <th>date</th>\n",
       "      <th>referees</th>\n",
       "      <th>duration</th>\n",
       "      <th>competitionId</th>\n",
       "      <th>home_team</th>\n",
       "      <th>away_team</th>\n",
       "      <th>home_score</th>\n",
       "      <th>away_score</th>\n",
       "    </tr>\n",
       "  </thead>\n",
       "  <tbody>\n",
       "    <tr>\n",
       "      <td>0</td>\n",
       "      <td>Played</td>\n",
       "      <td>4405654</td>\n",
       "      <td>38</td>\n",
       "      <td>{'1646': {'scoreET': 0, 'coachId': 8880, 'side...</td>\n",
       "      <td>181150</td>\n",
       "      <td>2018-05-13 14:00:00</td>\n",
       "      <td>1659</td>\n",
       "      <td>Turf Moor</td>\n",
       "      <td>2500089</td>\n",
       "      <td>Burnley - AFC Bournemouth, 1 - 2</td>\n",
       "      <td>May 13, 2018 at 4:00:00 PM GMT+2</td>\n",
       "      <td>[{'refereeId': 385705, 'role': 'referee'}, {'r...</td>\n",
       "      <td>Regular</td>\n",
       "      <td>364</td>\n",
       "      <td>Burnley</td>\n",
       "      <td>AFC Bournemouth</td>\n",
       "      <td>1</td>\n",
       "      <td>2</td>\n",
       "    </tr>\n",
       "    <tr>\n",
       "      <td>1</td>\n",
       "      <td>Played</td>\n",
       "      <td>4405654</td>\n",
       "      <td>38</td>\n",
       "      <td>{'1628': {'scoreET': 0, 'coachId': 8357, 'side...</td>\n",
       "      <td>181150</td>\n",
       "      <td>2018-05-13 14:00:00</td>\n",
       "      <td>1628</td>\n",
       "      <td>Selhurst Park</td>\n",
       "      <td>2500090</td>\n",
       "      <td>Crystal Palace - West Bromwich Albion, 2 - 0</td>\n",
       "      <td>May 13, 2018 at 4:00:00 PM GMT+2</td>\n",
       "      <td>[{'refereeId': 381851, 'role': 'referee'}, {'r...</td>\n",
       "      <td>Regular</td>\n",
       "      <td>364</td>\n",
       "      <td>Crystal Palace</td>\n",
       "      <td>West Bromwich Albion</td>\n",
       "      <td>2</td>\n",
       "      <td>0</td>\n",
       "    </tr>\n",
       "    <tr>\n",
       "      <td>2</td>\n",
       "      <td>Played</td>\n",
       "      <td>4405654</td>\n",
       "      <td>38</td>\n",
       "      <td>{'1609': {'scoreET': 0, 'coachId': 7845, 'side...</td>\n",
       "      <td>181150</td>\n",
       "      <td>2018-05-13 14:00:00</td>\n",
       "      <td>1609</td>\n",
       "      <td>The John Smith's Stadium</td>\n",
       "      <td>2500091</td>\n",
       "      <td>Huddersfield Town - Arsenal, 0 - 1</td>\n",
       "      <td>May 13, 2018 at 4:00:00 PM GMT+2</td>\n",
       "      <td>[{'refereeId': 384965, 'role': 'referee'}, {'r...</td>\n",
       "      <td>Regular</td>\n",
       "      <td>364</td>\n",
       "      <td>Huddersfield Town</td>\n",
       "      <td>Arsenal</td>\n",
       "      <td>0</td>\n",
       "      <td>1</td>\n",
       "    </tr>\n",
       "    <tr>\n",
       "      <td>3</td>\n",
       "      <td>Played</td>\n",
       "      <td>4405654</td>\n",
       "      <td>38</td>\n",
       "      <td>{'1651': {'scoreET': 0, 'coachId': 8093, 'side...</td>\n",
       "      <td>181150</td>\n",
       "      <td>2018-05-13 14:00:00</td>\n",
       "      <td>1612</td>\n",
       "      <td>Anfield</td>\n",
       "      <td>2500092</td>\n",
       "      <td>Liverpool - Brighton &amp; Hove Albion, 4 - 0</td>\n",
       "      <td>May 13, 2018 at 4:00:00 PM GMT+2</td>\n",
       "      <td>[{'refereeId': 385704, 'role': 'referee'}, {'r...</td>\n",
       "      <td>Regular</td>\n",
       "      <td>364</td>\n",
       "      <td>Liverpool</td>\n",
       "      <td>Brighton &amp; Hove Albion</td>\n",
       "      <td>4</td>\n",
       "      <td>0</td>\n",
       "    </tr>\n",
       "    <tr>\n",
       "      <td>4</td>\n",
       "      <td>Played</td>\n",
       "      <td>4405654</td>\n",
       "      <td>38</td>\n",
       "      <td>{'1644': {'scoreET': 0, 'coachId': 93112, 'sid...</td>\n",
       "      <td>181150</td>\n",
       "      <td>2018-05-13 14:00:00</td>\n",
       "      <td>1611</td>\n",
       "      <td>Old Trafford</td>\n",
       "      <td>2500093</td>\n",
       "      <td>Manchester United - Watford, 1 - 0</td>\n",
       "      <td>May 13, 2018 at 4:00:00 PM GMT+2</td>\n",
       "      <td>[{'refereeId': 381853, 'role': 'referee'}, {'r...</td>\n",
       "      <td>Regular</td>\n",
       "      <td>364</td>\n",
       "      <td>Manchester United</td>\n",
       "      <td>Watford</td>\n",
       "      <td>1</td>\n",
       "      <td>0</td>\n",
       "    </tr>\n",
       "  </tbody>\n",
       "</table>\n",
       "</div>"
      ],
      "text/plain": [
       "   status  roundId  gameweek  \\\n",
       "0  Played  4405654        38   \n",
       "1  Played  4405654        38   \n",
       "2  Played  4405654        38   \n",
       "3  Played  4405654        38   \n",
       "4  Played  4405654        38   \n",
       "\n",
       "                                           teamsData  seasonId  \\\n",
       "0  {'1646': {'scoreET': 0, 'coachId': 8880, 'side...    181150   \n",
       "1  {'1628': {'scoreET': 0, 'coachId': 8357, 'side...    181150   \n",
       "2  {'1609': {'scoreET': 0, 'coachId': 7845, 'side...    181150   \n",
       "3  {'1651': {'scoreET': 0, 'coachId': 8093, 'side...    181150   \n",
       "4  {'1644': {'scoreET': 0, 'coachId': 93112, 'sid...    181150   \n",
       "\n",
       "               dateutc  winner                     venue     wyId  \\\n",
       "0  2018-05-13 14:00:00    1659                 Turf Moor  2500089   \n",
       "1  2018-05-13 14:00:00    1628             Selhurst Park  2500090   \n",
       "2  2018-05-13 14:00:00    1609  The John Smith's Stadium  2500091   \n",
       "3  2018-05-13 14:00:00    1612                   Anfield  2500092   \n",
       "4  2018-05-13 14:00:00    1611              Old Trafford  2500093   \n",
       "\n",
       "                                          label  \\\n",
       "0              Burnley - AFC Bournemouth, 1 - 2   \n",
       "1  Crystal Palace - West Bromwich Albion, 2 - 0   \n",
       "2            Huddersfield Town - Arsenal, 0 - 1   \n",
       "3     Liverpool - Brighton & Hove Albion, 4 - 0   \n",
       "4            Manchester United - Watford, 1 - 0   \n",
       "\n",
       "                               date  \\\n",
       "0  May 13, 2018 at 4:00:00 PM GMT+2   \n",
       "1  May 13, 2018 at 4:00:00 PM GMT+2   \n",
       "2  May 13, 2018 at 4:00:00 PM GMT+2   \n",
       "3  May 13, 2018 at 4:00:00 PM GMT+2   \n",
       "4  May 13, 2018 at 4:00:00 PM GMT+2   \n",
       "\n",
       "                                            referees duration  competitionId  \\\n",
       "0  [{'refereeId': 385705, 'role': 'referee'}, {'r...  Regular            364   \n",
       "1  [{'refereeId': 381851, 'role': 'referee'}, {'r...  Regular            364   \n",
       "2  [{'refereeId': 384965, 'role': 'referee'}, {'r...  Regular            364   \n",
       "3  [{'refereeId': 385704, 'role': 'referee'}, {'r...  Regular            364   \n",
       "4  [{'refereeId': 381853, 'role': 'referee'}, {'r...  Regular            364   \n",
       "\n",
       "           home_team               away_team home_score away_score  \n",
       "0            Burnley         AFC Bournemouth          1          2  \n",
       "1     Crystal Palace    West Bromwich Albion          2          0  \n",
       "2  Huddersfield Town                 Arsenal          0          1  \n",
       "3          Liverpool  Brighton & Hove Albion          4          0  \n",
       "4  Manchester United                 Watford          1          0  "
      ]
     },
     "execution_count": 24,
     "metadata": {},
     "output_type": "execute_result"
    }
   ],
   "source": [
    "df_matches_PL.head()"
   ]
  },
  {
   "cell_type": "code",
   "execution_count": 25,
   "metadata": {},
   "outputs": [],
   "source": [
    "# we determine the winner and loser (or draw) for each game by comparing the home and away scores\n",
    "\n",
    "winners = []\n",
    "losers = []\n",
    "\n",
    "for index,row in df_matches_PL.iterrows():\n",
    "    if row['home_score'] > row['away_score']:\n",
    "        winners.append(row['home_team'])\n",
    "        losers.append(row['away_team'])\n",
    "    elif row['home_score'] < row['away_score']:\n",
    "        winners.append(row['away_team'])\n",
    "        losers.append(row['home_team'])\n",
    "    elif row['home_score'] == row['away_score']:\n",
    "        winners.append('Draw')\n",
    "        losers.append('Draw')"
   ]
  },
  {
   "cell_type": "code",
   "execution_count": 26,
   "metadata": {},
   "outputs": [],
   "source": [
    "df_matches_PL['winner'] = winners\n",
    "df_matches_PL['loser'] = losers"
   ]
  },
  {
   "cell_type": "code",
   "execution_count": 27,
   "metadata": {
    "scrolled": true
   },
   "outputs": [
    {
     "data": {
      "text/html": [
       "<div>\n",
       "<style scoped>\n",
       "    .dataframe tbody tr th:only-of-type {\n",
       "        vertical-align: middle;\n",
       "    }\n",
       "\n",
       "    .dataframe tbody tr th {\n",
       "        vertical-align: top;\n",
       "    }\n",
       "\n",
       "    .dataframe thead th {\n",
       "        text-align: right;\n",
       "    }\n",
       "</style>\n",
       "<table border=\"1\" class=\"dataframe\">\n",
       "  <thead>\n",
       "    <tr style=\"text-align: right;\">\n",
       "      <th></th>\n",
       "      <th>status</th>\n",
       "      <th>roundId</th>\n",
       "      <th>gameweek</th>\n",
       "      <th>teamsData</th>\n",
       "      <th>seasonId</th>\n",
       "      <th>dateutc</th>\n",
       "      <th>winner</th>\n",
       "      <th>venue</th>\n",
       "      <th>wyId</th>\n",
       "      <th>label</th>\n",
       "      <th>date</th>\n",
       "      <th>referees</th>\n",
       "      <th>duration</th>\n",
       "      <th>competitionId</th>\n",
       "      <th>home_team</th>\n",
       "      <th>away_team</th>\n",
       "      <th>home_score</th>\n",
       "      <th>away_score</th>\n",
       "      <th>loser</th>\n",
       "    </tr>\n",
       "  </thead>\n",
       "  <tbody>\n",
       "    <tr>\n",
       "      <td>0</td>\n",
       "      <td>Played</td>\n",
       "      <td>4405654</td>\n",
       "      <td>38</td>\n",
       "      <td>{'1646': {'scoreET': 0, 'coachId': 8880, 'side...</td>\n",
       "      <td>181150</td>\n",
       "      <td>2018-05-13 14:00:00</td>\n",
       "      <td>AFC Bournemouth</td>\n",
       "      <td>Turf Moor</td>\n",
       "      <td>2500089</td>\n",
       "      <td>Burnley - AFC Bournemouth, 1 - 2</td>\n",
       "      <td>May 13, 2018 at 4:00:00 PM GMT+2</td>\n",
       "      <td>[{'refereeId': 385705, 'role': 'referee'}, {'r...</td>\n",
       "      <td>Regular</td>\n",
       "      <td>364</td>\n",
       "      <td>Burnley</td>\n",
       "      <td>AFC Bournemouth</td>\n",
       "      <td>1</td>\n",
       "      <td>2</td>\n",
       "      <td>Burnley</td>\n",
       "    </tr>\n",
       "    <tr>\n",
       "      <td>1</td>\n",
       "      <td>Played</td>\n",
       "      <td>4405654</td>\n",
       "      <td>38</td>\n",
       "      <td>{'1628': {'scoreET': 0, 'coachId': 8357, 'side...</td>\n",
       "      <td>181150</td>\n",
       "      <td>2018-05-13 14:00:00</td>\n",
       "      <td>Crystal Palace</td>\n",
       "      <td>Selhurst Park</td>\n",
       "      <td>2500090</td>\n",
       "      <td>Crystal Palace - West Bromwich Albion, 2 - 0</td>\n",
       "      <td>May 13, 2018 at 4:00:00 PM GMT+2</td>\n",
       "      <td>[{'refereeId': 381851, 'role': 'referee'}, {'r...</td>\n",
       "      <td>Regular</td>\n",
       "      <td>364</td>\n",
       "      <td>Crystal Palace</td>\n",
       "      <td>West Bromwich Albion</td>\n",
       "      <td>2</td>\n",
       "      <td>0</td>\n",
       "      <td>West Bromwich Albion</td>\n",
       "    </tr>\n",
       "    <tr>\n",
       "      <td>2</td>\n",
       "      <td>Played</td>\n",
       "      <td>4405654</td>\n",
       "      <td>38</td>\n",
       "      <td>{'1609': {'scoreET': 0, 'coachId': 7845, 'side...</td>\n",
       "      <td>181150</td>\n",
       "      <td>2018-05-13 14:00:00</td>\n",
       "      <td>Arsenal</td>\n",
       "      <td>The John Smith's Stadium</td>\n",
       "      <td>2500091</td>\n",
       "      <td>Huddersfield Town - Arsenal, 0 - 1</td>\n",
       "      <td>May 13, 2018 at 4:00:00 PM GMT+2</td>\n",
       "      <td>[{'refereeId': 384965, 'role': 'referee'}, {'r...</td>\n",
       "      <td>Regular</td>\n",
       "      <td>364</td>\n",
       "      <td>Huddersfield Town</td>\n",
       "      <td>Arsenal</td>\n",
       "      <td>0</td>\n",
       "      <td>1</td>\n",
       "      <td>Huddersfield Town</td>\n",
       "    </tr>\n",
       "    <tr>\n",
       "      <td>3</td>\n",
       "      <td>Played</td>\n",
       "      <td>4405654</td>\n",
       "      <td>38</td>\n",
       "      <td>{'1651': {'scoreET': 0, 'coachId': 8093, 'side...</td>\n",
       "      <td>181150</td>\n",
       "      <td>2018-05-13 14:00:00</td>\n",
       "      <td>Liverpool</td>\n",
       "      <td>Anfield</td>\n",
       "      <td>2500092</td>\n",
       "      <td>Liverpool - Brighton &amp; Hove Albion, 4 - 0</td>\n",
       "      <td>May 13, 2018 at 4:00:00 PM GMT+2</td>\n",
       "      <td>[{'refereeId': 385704, 'role': 'referee'}, {'r...</td>\n",
       "      <td>Regular</td>\n",
       "      <td>364</td>\n",
       "      <td>Liverpool</td>\n",
       "      <td>Brighton &amp; Hove Albion</td>\n",
       "      <td>4</td>\n",
       "      <td>0</td>\n",
       "      <td>Brighton &amp; Hove Albion</td>\n",
       "    </tr>\n",
       "    <tr>\n",
       "      <td>4</td>\n",
       "      <td>Played</td>\n",
       "      <td>4405654</td>\n",
       "      <td>38</td>\n",
       "      <td>{'1644': {'scoreET': 0, 'coachId': 93112, 'sid...</td>\n",
       "      <td>181150</td>\n",
       "      <td>2018-05-13 14:00:00</td>\n",
       "      <td>Manchester United</td>\n",
       "      <td>Old Trafford</td>\n",
       "      <td>2500093</td>\n",
       "      <td>Manchester United - Watford, 1 - 0</td>\n",
       "      <td>May 13, 2018 at 4:00:00 PM GMT+2</td>\n",
       "      <td>[{'refereeId': 381853, 'role': 'referee'}, {'r...</td>\n",
       "      <td>Regular</td>\n",
       "      <td>364</td>\n",
       "      <td>Manchester United</td>\n",
       "      <td>Watford</td>\n",
       "      <td>1</td>\n",
       "      <td>0</td>\n",
       "      <td>Watford</td>\n",
       "    </tr>\n",
       "  </tbody>\n",
       "</table>\n",
       "</div>"
      ],
      "text/plain": [
       "   status  roundId  gameweek  \\\n",
       "0  Played  4405654        38   \n",
       "1  Played  4405654        38   \n",
       "2  Played  4405654        38   \n",
       "3  Played  4405654        38   \n",
       "4  Played  4405654        38   \n",
       "\n",
       "                                           teamsData  seasonId  \\\n",
       "0  {'1646': {'scoreET': 0, 'coachId': 8880, 'side...    181150   \n",
       "1  {'1628': {'scoreET': 0, 'coachId': 8357, 'side...    181150   \n",
       "2  {'1609': {'scoreET': 0, 'coachId': 7845, 'side...    181150   \n",
       "3  {'1651': {'scoreET': 0, 'coachId': 8093, 'side...    181150   \n",
       "4  {'1644': {'scoreET': 0, 'coachId': 93112, 'sid...    181150   \n",
       "\n",
       "               dateutc             winner                     venue     wyId  \\\n",
       "0  2018-05-13 14:00:00    AFC Bournemouth                 Turf Moor  2500089   \n",
       "1  2018-05-13 14:00:00     Crystal Palace             Selhurst Park  2500090   \n",
       "2  2018-05-13 14:00:00            Arsenal  The John Smith's Stadium  2500091   \n",
       "3  2018-05-13 14:00:00          Liverpool                   Anfield  2500092   \n",
       "4  2018-05-13 14:00:00  Manchester United              Old Trafford  2500093   \n",
       "\n",
       "                                          label  \\\n",
       "0              Burnley - AFC Bournemouth, 1 - 2   \n",
       "1  Crystal Palace - West Bromwich Albion, 2 - 0   \n",
       "2            Huddersfield Town - Arsenal, 0 - 1   \n",
       "3     Liverpool - Brighton & Hove Albion, 4 - 0   \n",
       "4            Manchester United - Watford, 1 - 0   \n",
       "\n",
       "                               date  \\\n",
       "0  May 13, 2018 at 4:00:00 PM GMT+2   \n",
       "1  May 13, 2018 at 4:00:00 PM GMT+2   \n",
       "2  May 13, 2018 at 4:00:00 PM GMT+2   \n",
       "3  May 13, 2018 at 4:00:00 PM GMT+2   \n",
       "4  May 13, 2018 at 4:00:00 PM GMT+2   \n",
       "\n",
       "                                            referees duration  competitionId  \\\n",
       "0  [{'refereeId': 385705, 'role': 'referee'}, {'r...  Regular            364   \n",
       "1  [{'refereeId': 381851, 'role': 'referee'}, {'r...  Regular            364   \n",
       "2  [{'refereeId': 384965, 'role': 'referee'}, {'r...  Regular            364   \n",
       "3  [{'refereeId': 385704, 'role': 'referee'}, {'r...  Regular            364   \n",
       "4  [{'refereeId': 381853, 'role': 'referee'}, {'r...  Regular            364   \n",
       "\n",
       "           home_team               away_team home_score away_score  \\\n",
       "0            Burnley         AFC Bournemouth          1          2   \n",
       "1     Crystal Palace    West Bromwich Albion          2          0   \n",
       "2  Huddersfield Town                 Arsenal          0          1   \n",
       "3          Liverpool  Brighton & Hove Albion          4          0   \n",
       "4  Manchester United                 Watford          1          0   \n",
       "\n",
       "                    loser  \n",
       "0                 Burnley  \n",
       "1    West Bromwich Albion  \n",
       "2       Huddersfield Town  \n",
       "3  Brighton & Hove Albion  \n",
       "4                 Watford  "
      ]
     },
     "execution_count": 27,
     "metadata": {},
     "output_type": "execute_result"
    }
   ],
   "source": [
    "df_matches_PL.head()"
   ]
  },
  {
   "cell_type": "markdown",
   "metadata": {},
   "source": [
    "## Who's going to win the title?"
   ]
  },
  {
   "cell_type": "code",
   "execution_count": 28,
   "metadata": {},
   "outputs": [
    {
     "data": {
      "text/html": [
       "<div>\n",
       "<style scoped>\n",
       "    .dataframe tbody tr th:only-of-type {\n",
       "        vertical-align: middle;\n",
       "    }\n",
       "\n",
       "    .dataframe tbody tr th {\n",
       "        vertical-align: top;\n",
       "    }\n",
       "\n",
       "    .dataframe thead th {\n",
       "        text-align: right;\n",
       "    }\n",
       "</style>\n",
       "<table border=\"1\" class=\"dataframe\">\n",
       "  <thead>\n",
       "    <tr style=\"text-align: right;\">\n",
       "      <th></th>\n",
       "      <th>gameweek</th>\n",
       "      <th>home_team</th>\n",
       "      <th>away_team</th>\n",
       "      <th>home_score</th>\n",
       "      <th>away_score</th>\n",
       "      <th>winner</th>\n",
       "      <th>loser</th>\n",
       "      <th>label</th>\n",
       "    </tr>\n",
       "  </thead>\n",
       "  <tbody>\n",
       "    <tr>\n",
       "      <td>0</td>\n",
       "      <td>38</td>\n",
       "      <td>Burnley</td>\n",
       "      <td>AFC Bournemouth</td>\n",
       "      <td>1</td>\n",
       "      <td>2</td>\n",
       "      <td>AFC Bournemouth</td>\n",
       "      <td>Burnley</td>\n",
       "      <td>Burnley - AFC Bournemouth, 1 - 2</td>\n",
       "    </tr>\n",
       "    <tr>\n",
       "      <td>1</td>\n",
       "      <td>38</td>\n",
       "      <td>Crystal Palace</td>\n",
       "      <td>West Bromwich Albion</td>\n",
       "      <td>2</td>\n",
       "      <td>0</td>\n",
       "      <td>Crystal Palace</td>\n",
       "      <td>West Bromwich Albion</td>\n",
       "      <td>Crystal Palace - West Bromwich Albion, 2 - 0</td>\n",
       "    </tr>\n",
       "    <tr>\n",
       "      <td>2</td>\n",
       "      <td>38</td>\n",
       "      <td>Huddersfield Town</td>\n",
       "      <td>Arsenal</td>\n",
       "      <td>0</td>\n",
       "      <td>1</td>\n",
       "      <td>Arsenal</td>\n",
       "      <td>Huddersfield Town</td>\n",
       "      <td>Huddersfield Town - Arsenal, 0 - 1</td>\n",
       "    </tr>\n",
       "    <tr>\n",
       "      <td>3</td>\n",
       "      <td>38</td>\n",
       "      <td>Liverpool</td>\n",
       "      <td>Brighton &amp; Hove Albion</td>\n",
       "      <td>4</td>\n",
       "      <td>0</td>\n",
       "      <td>Liverpool</td>\n",
       "      <td>Brighton &amp; Hove Albion</td>\n",
       "      <td>Liverpool - Brighton &amp; Hove Albion, 4 - 0</td>\n",
       "    </tr>\n",
       "    <tr>\n",
       "      <td>4</td>\n",
       "      <td>38</td>\n",
       "      <td>Manchester United</td>\n",
       "      <td>Watford</td>\n",
       "      <td>1</td>\n",
       "      <td>0</td>\n",
       "      <td>Manchester United</td>\n",
       "      <td>Watford</td>\n",
       "      <td>Manchester United - Watford, 1 - 0</td>\n",
       "    </tr>\n",
       "  </tbody>\n",
       "</table>\n",
       "</div>"
      ],
      "text/plain": [
       "   gameweek          home_team               away_team home_score away_score  \\\n",
       "0        38            Burnley         AFC Bournemouth          1          2   \n",
       "1        38     Crystal Palace    West Bromwich Albion          2          0   \n",
       "2        38  Huddersfield Town                 Arsenal          0          1   \n",
       "3        38          Liverpool  Brighton & Hove Albion          4          0   \n",
       "4        38  Manchester United                 Watford          1          0   \n",
       "\n",
       "              winner                   loser  \\\n",
       "0    AFC Bournemouth                 Burnley   \n",
       "1     Crystal Palace    West Bromwich Albion   \n",
       "2            Arsenal       Huddersfield Town   \n",
       "3          Liverpool  Brighton & Hove Albion   \n",
       "4  Manchester United                 Watford   \n",
       "\n",
       "                                          label  \n",
       "0              Burnley - AFC Bournemouth, 1 - 2  \n",
       "1  Crystal Palace - West Bromwich Albion, 2 - 0  \n",
       "2            Huddersfield Town - Arsenal, 0 - 1  \n",
       "3     Liverpool - Brighton & Hove Albion, 4 - 0  \n",
       "4            Manchester United - Watford, 1 - 0  "
      ]
     },
     "execution_count": 28,
     "metadata": {},
     "output_type": "execute_result"
    }
   ],
   "source": [
    "#Now that we have all the data we need, let's select what we will use for question 1\n",
    "\n",
    "df_1 = df_matches_PL[['gameweek','home_team','away_team','home_score','away_score','winner','loser','label']]\n",
    "df_1.head()"
   ]
  },
  {
   "cell_type": "code",
   "execution_count": 29,
   "metadata": {},
   "outputs": [
    {
     "data": {
      "text/html": [
       "<div>\n",
       "<style scoped>\n",
       "    .dataframe tbody tr th:only-of-type {\n",
       "        vertical-align: middle;\n",
       "    }\n",
       "\n",
       "    .dataframe tbody tr th {\n",
       "        vertical-align: top;\n",
       "    }\n",
       "\n",
       "    .dataframe thead th {\n",
       "        text-align: right;\n",
       "    }\n",
       "</style>\n",
       "<table border=\"1\" class=\"dataframe\">\n",
       "  <thead>\n",
       "    <tr style=\"text-align: right;\">\n",
       "      <th></th>\n",
       "      <th>city</th>\n",
       "      <th>name</th>\n",
       "      <th>wyId</th>\n",
       "      <th>officialName</th>\n",
       "      <th>area</th>\n",
       "      <th>type</th>\n",
       "    </tr>\n",
       "  </thead>\n",
       "  <tbody>\n",
       "    <tr>\n",
       "      <td>0</td>\n",
       "      <td>Newcastle upon Tyne</td>\n",
       "      <td>Newcastle United</td>\n",
       "      <td>1613</td>\n",
       "      <td>Newcastle United FC</td>\n",
       "      <td>{'name': 'England', 'id': '0', 'alpha3code': '...</td>\n",
       "      <td>club</td>\n",
       "    </tr>\n",
       "    <tr>\n",
       "      <td>1</td>\n",
       "      <td>Vigo</td>\n",
       "      <td>Celta de Vigo</td>\n",
       "      <td>692</td>\n",
       "      <td>Real Club Celta de Vigo</td>\n",
       "      <td>{'name': 'Spain', 'id': '724', 'alpha3code': '...</td>\n",
       "      <td>club</td>\n",
       "    </tr>\n",
       "    <tr>\n",
       "      <td>2</td>\n",
       "      <td>Barcelona</td>\n",
       "      <td>Espanyol</td>\n",
       "      <td>691</td>\n",
       "      <td>Reial Club Deportiu Espanyol</td>\n",
       "      <td>{'name': 'Spain', 'id': '724', 'alpha3code': '...</td>\n",
       "      <td>club</td>\n",
       "    </tr>\n",
       "    <tr>\n",
       "      <td>3</td>\n",
       "      <td>Vitoria-Gasteiz</td>\n",
       "      <td>Deportivo Alavés</td>\n",
       "      <td>696</td>\n",
       "      <td>Deportivo Alavés</td>\n",
       "      <td>{'name': 'Spain', 'id': '724', 'alpha3code': '...</td>\n",
       "      <td>club</td>\n",
       "    </tr>\n",
       "    <tr>\n",
       "      <td>4</td>\n",
       "      <td>Valencia</td>\n",
       "      <td>Levante</td>\n",
       "      <td>695</td>\n",
       "      <td>Levante UD</td>\n",
       "      <td>{'name': 'Spain', 'id': '724', 'alpha3code': '...</td>\n",
       "      <td>club</td>\n",
       "    </tr>\n",
       "  </tbody>\n",
       "</table>\n",
       "</div>"
      ],
      "text/plain": [
       "                  city              name  wyId                  officialName  \\\n",
       "0  Newcastle upon Tyne  Newcastle United  1613           Newcastle United FC   \n",
       "1                 Vigo     Celta de Vigo   692       Real Club Celta de Vigo   \n",
       "2            Barcelona          Espanyol   691  Reial Club Deportiu Espanyol   \n",
       "3      Vitoria-Gasteiz  Deportivo Alavés   696              Deportivo Alavés   \n",
       "4             Valencia           Levante   695                    Levante UD   \n",
       "\n",
       "                                                area  type  \n",
       "0  {'name': 'England', 'id': '0', 'alpha3code': '...  club  \n",
       "1  {'name': 'Spain', 'id': '724', 'alpha3code': '...  club  \n",
       "2  {'name': 'Spain', 'id': '724', 'alpha3code': '...  club  \n",
       "3  {'name': 'Spain', 'id': '724', 'alpha3code': '...  club  \n",
       "4  {'name': 'Spain', 'id': '724', 'alpha3code': '...  club  "
      ]
     },
     "execution_count": 29,
     "metadata": {},
     "output_type": "execute_result"
    }
   ],
   "source": [
    "df_teams.head()"
   ]
  },
  {
   "cell_type": "code",
   "execution_count": 30,
   "metadata": {},
   "outputs": [
    {
     "data": {
      "image/png": "[encoded data removed]",
      "text/plain": [
       "<Figure size 432x288 with 1 Axes>"
      ]
     },
     "metadata": {},
     "output_type": "display_data"
    }
   ],
   "source": [
    "#just some visualization\n",
    "\n",
    "df_1['winner'].value_counts().plot(kind='bar')\n",
    "plt.show()"
   ]
  },
  {
   "cell_type": "code",
   "execution_count": 31,
   "metadata": {},
   "outputs": [
    {
     "data": {
      "image/png": "[encoded data removed]",
      "text/plain": [
       "<Figure size 432x288 with 1 Axes>"
      ]
     },
     "metadata": {},
     "output_type": "display_data"
    }
   ],
   "source": [
    "#just some visualization\n",
    "\n",
    "df_1['loser'].value_counts().plot(kind='bar')\n",
    "plt.show()"
   ]
  },
  {
   "cell_type": "code",
   "execution_count": 32,
   "metadata": {},
   "outputs": [],
   "source": [
    "PL_teams = df_1['home_team'].tolist()\n",
    "PL_teams = sorted(list(dict.fromkeys(PL_teams))) #deduplicate and sort"
   ]
  },
  {
   "cell_type": "code",
   "execution_count": 34,
   "metadata": {},
   "outputs": [
    {
     "data": {
      "text/plain": [
       "['AFC Bournemouth',\n",
       " 'Arsenal',\n",
       " 'Brighton & Hove Albion',\n",
       " 'Burnley',\n",
       " 'Chelsea',\n",
       " 'Crystal Palace',\n",
       " 'Everton',\n",
       " 'Huddersfield Town',\n",
       " 'Leicester City',\n",
       " 'Liverpool',\n",
       " 'Manchester City',\n",
       " 'Manchester United',\n",
       " 'Newcastle United',\n",
       " 'Southampton',\n",
       " 'Stoke City',\n",
       " 'Swansea City',\n",
       " 'Tottenham Hotspur',\n",
       " 'Watford',\n",
       " 'West Bromwich Albion',\n",
       " 'West Ham United']"
      ]
     },
     "execution_count": 34,
     "metadata": {},
     "output_type": "execute_result"
    }
   ],
   "source": [
    "PL_teams"
   ]
  },
  {
   "cell_type": "code",
   "execution_count": 35,
   "metadata": {},
   "outputs": [],
   "source": [
    "# We create a list containing each team with its number of points at the end of the season\n",
    "\n",
    "import pylab\n",
    "from numpy import cumsum\n",
    "from collections import OrderedDict\n",
    "\n",
    "lst = []\n",
    "\n",
    "for team in PL_teams:\n",
    "    points = [0]\n",
    "    dftest = df_1.loc[(df_1['home_team'] == team) | (df_1['away_team'] == team)].sort_values(by='gameweek')\n",
    "    for index,row in dftest.iterrows():\n",
    "        if (row['winner'] == team):\n",
    "            points.append(3)\n",
    "        elif (row['loser'] == team):  \n",
    "            points.append(0)      \n",
    "        else:\n",
    "            points.append(1)\n",
    "            \n",
    "    \n",
    "    lst.append((team,sum(points)))\n",
    "\n",
    "# Then we sort the teams according to their points (from highest to lowest), \n",
    "# and extract the team names to have the table ranking of the league\n",
    "\n",
    "sorted_by_second = sorted(lst, key=lambda tup: tup[1])\n",
    "ordered_table = [i[0] for i in sorted_by_second]\n",
    "ordered_table.reverse()"
   ]
  },
  {
   "cell_type": "code",
   "execution_count": 36,
   "metadata": {},
   "outputs": [
    {
     "data": {
      "text/plain": [
       "['Manchester City',\n",
       " 'Manchester United',\n",
       " 'Tottenham Hotspur',\n",
       " 'Liverpool',\n",
       " 'Chelsea',\n",
       " 'Arsenal',\n",
       " 'Burnley',\n",
       " 'Everton',\n",
       " 'Leicester City',\n",
       " 'Newcastle United',\n",
       " 'Crystal Palace',\n",
       " 'AFC Bournemouth',\n",
       " 'West Ham United',\n",
       " 'Watford',\n",
       " 'Brighton & Hove Albion',\n",
       " 'Huddersfield Town',\n",
       " 'Southampton',\n",
       " 'Swansea City',\n",
       " 'Stoke City',\n",
       " 'West Bromwich Albion']"
      ]
     },
     "execution_count": 36,
     "metadata": {},
     "output_type": "execute_result"
    }
   ],
   "source": [
    "ordered_table"
   ]
  },
  {
   "cell_type": "code",
   "execution_count": 37,
   "metadata": {},
   "outputs": [],
   "source": [
    "# we create two functions that will help us determine the longest streaks\n",
    "\n",
    "def longest_winning_streak(points):\n",
    "\n",
    "    longest = 0\n",
    "    current = 0\n",
    "    for num in points:\n",
    "        if num == 3:\n",
    "            current += 1\n",
    "        else:\n",
    "            longest = max(longest, current)\n",
    "            current = 0\n",
    "\n",
    "    return max(longest, current)\n",
    "\n",
    "\n",
    "def longest_losing_streak(points):\n",
    "\n",
    "    longest = 0\n",
    "    current = 0\n",
    "    for num in points:\n",
    "        if num == 0:\n",
    "            current += 1\n",
    "        else:\n",
    "            longest = max(longest, current)\n",
    "            current = 0\n",
    "\n",
    "    return max(longest, current)"
   ]
  },
  {
   "cell_type": "code",
   "execution_count": 38,
   "metadata": {},
   "outputs": [],
   "source": [
    "# and then for each team, we append to an empty list the team name, \n",
    "# its longest winning streak, and its longest losing streak\n",
    "\n",
    "# therefore, for each team, we append to a list the result (in points won) of each game\n",
    "\n",
    "streaks = []\n",
    "\n",
    "for team in ordered_table:\n",
    "    points = []\n",
    "    dftest = df_1.loc[(df_1['home_team'] == team) | (df_1['away_team'] == team)].sort_values(by='gameweek')\n",
    "    for index,row in dftest.iterrows():\n",
    "        if (row['winner'] == team):\n",
    "            points.append(3)\n",
    "        elif (row['loser'] == team):  \n",
    "            points.append(0)      \n",
    "        else:\n",
    "            points.append(1)\n",
    "            \n",
    "\n",
    "    streaks.append([team,longest_winning_streak(points),longest_losing_streak(points)])"
   ]
  },
  {
   "cell_type": "code",
   "execution_count": 39,
   "metadata": {},
   "outputs": [
    {
     "data": {
      "text/plain": [
       "[['Manchester City', 18, 1],\n",
       " ['Manchester United', 4, 1],\n",
       " ['Tottenham Hotspur', 7, 1],\n",
       " ['Liverpool', 4, 1],\n",
       " ['Chelsea', 4, 2],\n",
       " ['Arsenal', 3, 3],\n",
       " ['Burnley', 3, 3],\n",
       " ['Everton', 2, 3],\n",
       " ['Leicester City', 4, 3],\n",
       " ['Newcastle United', 3, 4],\n",
       " ['Crystal Palace', 3, 7],\n",
       " ['AFC Bournemouth', 2, 4],\n",
       " ['West Ham United', 2, 3],\n",
       " ['Watford', 2, 4],\n",
       " ['Brighton & Hove Albion', 2, 3],\n",
       " ['Huddersfield Town', 2, 5],\n",
       " ['Southampton', 1, 3],\n",
       " ['Swansea City', 2, 4],\n",
       " ['Stoke City', 1, 4],\n",
       " ['West Bromwich Albion', 2, 8]]"
      ]
     },
     "execution_count": 39,
     "metadata": {},
     "output_type": "execute_result"
    }
   ],
   "source": [
    "streaks\n",
    "\n",
    "#1st element = team name\n",
    "#2nd = longest winning streak\n",
    "#3rd = longest losing streak"
   ]
  },
  {
   "cell_type": "code",
   "execution_count": 40,
   "metadata": {},
   "outputs": [
    {
     "data": {
      "text/plain": [
       "['Manchester City', 'Tottenham Hotspur']"
      ]
     },
     "execution_count": 40,
     "metadata": {},
     "output_type": "execute_result"
    }
   ],
   "source": [
    "# we determine the 2 teams with longest winning streaks\n",
    "\n",
    "sorted_by_winning = sorted(streaks, key=lambda lis: lis[1])\n",
    "order_winning = [i[0] for i in sorted_by_winning]\n",
    "order_winning.reverse()\n",
    "highest_winning_teams = order_winning[0:2]\n",
    "\n",
    "highest_winning_teams"
   ]
  },
  {
   "cell_type": "code",
   "execution_count": 41,
   "metadata": {},
   "outputs": [
    {
     "data": {
      "text/plain": [
       "['West Bromwich Albion', 'Crystal Palace']"
      ]
     },
     "execution_count": 41,
     "metadata": {},
     "output_type": "execute_result"
    }
   ],
   "source": [
    "# we determine the 2 teams with longest losing streaks\n",
    "\n",
    "sorted_by_losing = sorted(streaks, key=lambda lis: lis[2])\n",
    "order_losing = [i[0] for i in sorted_by_losing]\n",
    "order_losing.reverse()\n",
    "highest_losing_teams = order_losing[0:2]\n",
    "\n",
    "highest_losing_teams"
   ]
  },
  {
   "cell_type": "code",
   "execution_count": 43,
   "metadata": {},
   "outputs": [
    {
     "name": "stdout",
     "output_type": "stream",
     "text": [
      "The 2 teams with longest winning streaks are displayed with dashed lines --- \n",
      "The 2 teams with longest losing streaks are displayed with dotted lines ...\n",
      "\n"
     ]
    },
    {
     "data": {
      "image/png": "[encoded data removed]",
      "text/plain": [
       "<Figure size 1080x720 with 1 Axes>"
      ]
     },
     "metadata": {},
     "output_type": "display_data"
    }
   ],
   "source": [
    "#Let's plot the whole thing\n",
    "\n",
    "for team in ordered_table:\n",
    "    points = [0] #we add a 0 at the beginning of the list to improve visualization \n",
    "    dftest = df_1.loc[(df_1['home_team'] == team) | (df_1['away_team'] == team)].sort_values(by='gameweek')\n",
    "    for index,row in dftest.iterrows():\n",
    "        if (row['winner'] == team):\n",
    "            points.append(3)\n",
    "        elif (row['loser'] == team):  \n",
    "            points.append(0)      \n",
    "        else:\n",
    "            points.append(1)\n",
    "    \n",
    "    \n",
    "    running_points = list(cumsum(points)) #we compute a running sum of each team's points to have their points after each gameweek\n",
    "    \n",
    "    fig = plt.figure(1, figsize=(15, 10))\n",
    "    \n",
    "    if team in highest_winning_teams: #we plot differently the 2 teams with longest winning streaks\n",
    "        plt.plot(running_points, label = team,linestyle='dashed',linewidth=2)\n",
    "    elif team in highest_losing_teams: #we plot differently the 2 teams with longest losing streaks\n",
    "        plt.plot(running_points, label = team,linestyle='dotted',linewidth=2)\n",
    "    else: #if no particular streak, we plot normally\n",
    "        plt.plot(running_points, label = team,linestyle='solid')   \n",
    "\n",
    "    \n",
    "plt.legend()\n",
    "plt.title('Points per team throughout season',size=22)\n",
    "plt.xticks(np.arange(1,39))\n",
    "plt.yticks(np.arange(0,105,step=10))\n",
    "plt.xlabel('Gameweek',size=18)\n",
    "plt.ylabel('Points',size=18)\n",
    "\n",
    "print(\"The 2 teams with longest winning streaks are displayed with dashed lines --- \\nThe 2 teams with longest losing streaks are displayed with dotted lines ...\\n\")"
   ]
  },
  {
   "cell_type": "markdown",
   "metadata": {},
   "source": [
    "## Is there a home-field advantage?"
   ]
  },
  {
   "cell_type": "code",
   "execution_count": null,
   "metadata": {},
   "outputs": [],
   "source": [
    "#We randomly choose our 5 teams\n",
    "\n",
    "import random\n",
    "\n",
    "temp = ordered_table.copy()\n",
    "teams_list_5 = []\n",
    "for i in range(5):\n",
    "    teams_list_5.append(temp.pop(random.randint(0,len(temp)-1)))"
   ]
  },
  {
   "cell_type": "code",
   "execution_count": null,
   "metadata": {},
   "outputs": [],
   "source": [
    "teams_list_5"
   ]
  },
  {
   "cell_type": "code",
   "execution_count": null,
   "metadata": {},
   "outputs": [],
   "source": [
    "# however, as we use team names in our analysis right below, we have to select 5 teams manually\n",
    "# so let's select Arsenal, Manchester City, Leicester City, Watford and Southampton\n",
    "\n",
    "teams_list_5 = ['Arsenal','Manchester City','Leicester City','Watford','Southampton']\n",
    "teams_list_5"
   ]
  },
  {
   "cell_type": "code",
   "execution_count": null,
   "metadata": {},
   "outputs": [],
   "source": [
    "from scipy import stats\n",
    "\n",
    "chi_list = []\n",
    "\n",
    "for team in teams_list_5:\n",
    "    df_temp = df_1.loc[(df_1['home_team'] == team) | (df_1['away_team'] == team)]\n",
    "    results = []\n",
    "    side = []\n",
    "    for index,row in df_temp.iterrows():\n",
    "        if row['winner'] != 'Draw':\n",
    "            if row['winner'] == team:\n",
    "                results.append('win')\n",
    "            else:\n",
    "                results.append(\"loss\")\n",
    "        else: \n",
    "            results.append(\"draw\")\n",
    "        if row['home_team'] == team:\n",
    "            side.append(\"home\")\n",
    "        else:\n",
    "            side.append(\"away\")\n",
    "    df_results = pd.DataFrame(results, columns = [\"results\"])\n",
    "    df_sides = pd.DataFrame(side, columns = [\"side\"])\n",
    "    df_concat = pd.concat([df_results, df_sides], axis = 1)\n",
    "    df_crosstab = pd.crosstab(df_concat['side'],df_concat['results'])      \n",
    "    f_obs = np.array([df_crosstab.iloc[0][1:3].values,df_crosstab.iloc[1][1:3].values])\n",
    "    \n",
    "    print(team,df_crosstab,'',sep='\\n')\n",
    "\n",
    "    chi_list.append([team,stats.chi2_contingency(f_obs)[0:3]])"
   ]
  },
  {
   "cell_type": "code",
   "execution_count": null,
   "metadata": {},
   "outputs": [],
   "source": [
    "chi_list[0]\n",
    "\n",
    "#after team's name, the third value is the p-value"
   ]
  },
  {
   "cell_type": "markdown",
   "metadata": {},
   "source": [
    "#### Null hypothesis H0 is that the field doesn't significantly impact the result. We can reject it if the p-value < 0,05\n",
    "#### We notice that the first p-value (from Arsenal) is significantly lower than 0,05, which enables us to reject the null hypothesis and state that the field significantly impact on Arsenal's results. Indeed, if we take a look at their results we can see that they won almost all their home games (15 out of 19), and lost a lot of away games (11 out of 19), which confirms the huge impact of the field"
   ]
  },
  {
   "cell_type": "code",
   "execution_count": null,
   "metadata": {},
   "outputs": [],
   "source": [
    "chi_list[1]\n",
    "\n",
    "#after team's name, the third value is the p-value"
   ]
  },
  {
   "cell_type": "markdown",
   "metadata": {},
   "source": [
    "#### Null hypothesis H0 is that the field doesn't significantly impact the result. We can reject it if the p-value < 0,05\n",
    "\n",
    "#### If we take a look at other teams and p-values, we even have a p-value of 1 for Manchester City (which is normal considering that they have exactly the same number of draw, loss and wins at home and away). This is a totally opposite result compared to Arsenal"
   ]
  },
  {
   "cell_type": "markdown",
   "metadata": {},
   "source": [
    "## RQ3) Which teams have the youngest coaches?"
   ]
  },
  {
   "cell_type": "code",
   "execution_count": null,
   "metadata": {
    "scrolled": true
   },
   "outputs": [],
   "source": [
    "df_coaches"
   ]
  },
  {
   "cell_type": "code",
   "execution_count": null,
   "metadata": {
    "scrolled": true
   },
   "outputs": [],
   "source": [
    "df_teams"
   ]
  },
  {
   "cell_type": "code",
   "execution_count": null,
   "metadata": {
    "scrolled": true
   },
   "outputs": [],
   "source": [
    "#we only keep Premier League teams\n",
    "\n",
    "df_teams_PL = df_teams.loc[df_teams['name'].isin(PL_teams)].reset_index(drop=True)\n",
    "df_teams_PL"
   ]
  },
  {
   "cell_type": "code",
   "execution_count": null,
   "metadata": {
    "scrolled": true
   },
   "outputs": [],
   "source": [
    "df_teams_coaches = pd.merge(df_teams_PL, df_coaches, left_on='wyId', right_on='currentTeamId')\n",
    "df_teams_coaches"
   ]
  },
  {
   "cell_type": "code",
   "execution_count": null,
   "metadata": {},
   "outputs": [],
   "source": [
    "#We notice we only have 14 coaches for Premier League, with Newcastle even having 2 coaches ==> only 13 clubs have a coach"
   ]
  },
  {
   "cell_type": "code",
   "execution_count": null,
   "metadata": {},
   "outputs": [],
   "source": [
    "#Let's only keep useful columns to simplify\n",
    "\n",
    "df_3_2 = df_teams_coaches[['name','birthDate','shortName']]"
   ]
  },
  {
   "cell_type": "code",
   "execution_count": null,
   "metadata": {},
   "outputs": [],
   "source": [
    "df_3_2"
   ]
  },
  {
   "cell_type": "code",
   "execution_count": null,
   "metadata": {},
   "outputs": [],
   "source": [
    "# we create a function computing the age from a given date\n",
    "\n",
    "from datetime import date\n",
    "\n",
    "def calculate_age(born):\n",
    "    today = date.today()\n",
    "    return today.year - born.year - ((today.month, today.day) < (born.month, born.day))"
   ]
  },
  {
   "cell_type": "code",
   "execution_count": null,
   "metadata": {},
   "outputs": [],
   "source": [
    "# then we calculate the age of each coach\n",
    "\n",
    "age_list = []\n",
    "date_list = []\n",
    "\n",
    "for index,row in df_3_2.iterrows():\n",
    "    date_format = row['birthDate'].split('-')\n",
    "    age_list.append(calculate_age(date(int(date_format[0]),int(date_format[1]),int(date_format[2]))))"
   ]
  },
  {
   "cell_type": "code",
   "execution_count": null,
   "metadata": {},
   "outputs": [],
   "source": [
    "df_3_2['age'] = age_list"
   ]
  },
  {
   "cell_type": "code",
   "execution_count": null,
   "metadata": {},
   "outputs": [],
   "source": [
    "# Show only first 10 teams with youngest coaches\n",
    "\n",
    "df_3_2.sort_values(by=['birthDate'],ascending=False).head(n=10).reset_index(drop=True)"
   ]
  },
  {
   "cell_type": "code",
   "execution_count": null,
   "metadata": {},
   "outputs": [],
   "source": [
    "# Plotting the boxplot\n",
    "\n",
    "df_3_2.boxplot(column=['age'])\n",
    "plt.show()"
   ]
  },
  {
   "cell_type": "code",
   "execution_count": null,
   "metadata": {},
   "outputs": [],
   "source": [
    "# However having only 14 coaches is not enough. Let's try to get our coaches data in another way"
   ]
  },
  {
   "cell_type": "code",
   "execution_count": null,
   "metadata": {
    "scrolled": true
   },
   "outputs": [],
   "source": [
    "df_matches_PL"
   ]
  },
  {
   "cell_type": "code",
   "execution_count": null,
   "metadata": {},
   "outputs": [],
   "source": [
    "# We dig into the 'teamsData' to extract the coach of each home and away team, \n",
    "# using the powerful re library and some regular expressions\n",
    "\n",
    "home_coach = []\n",
    "away_coach = []\n",
    "\n",
    "for index,row in df_matches_PL.iterrows():\n",
    "    text = str(row['teamsData'])\n",
    "    ids = re.findall('coachId(.+?),', text)\n",
    "    coachId1 = int(re.findall('\\d+',ids[0])[0])\n",
    "    coachId2 = int(re.findall('\\d+',ids[1])[0])\n",
    "    sides = re.findall('side(.+?),', text)\n",
    "    side1 = \"\".join(re.split(\"[^a-zA-Z]*\", sides[0]))\n",
    "    side2 = \"\".join(re.split(\"[^a-zA-Z]*\", sides[1]))\n",
    "    if side1 == 'home':\n",
    "        home_coach.append(coachId1)\n",
    "        away_coach.append(coachId2)\n",
    "    elif side1 == 'away':\n",
    "        home_coach.append(coachId2)\n",
    "        away_coach.append(coachId1)\n",
    "        \n",
    "    \n",
    "df_matches_PL['home_coachId'] = home_coach\n",
    "df_matches_PL['away_coachId'] = away_coach"
   ]
  },
  {
   "cell_type": "code",
   "execution_count": null,
   "metadata": {},
   "outputs": [],
   "source": [
    "# we concat home and away lists\n",
    "\n",
    "test_coach = df_matches_PL['home_coachId'].tolist() + df_matches_PL['away_coachId'].tolist()\n",
    "test_team = df_matches_PL['home_team'].tolist() + df_matches_PL['away_team'].tolist()"
   ]
  },
  {
   "cell_type": "code",
   "execution_count": null,
   "metadata": {},
   "outputs": [],
   "source": [
    "df_team_coach_PL = pd.DataFrame(list(zip(test_team, test_coach)), columns =['team', 'coachId'])"
   ]
  },
  {
   "cell_type": "code",
   "execution_count": null,
   "metadata": {},
   "outputs": [],
   "source": [
    "df_team_coach_PL.sort_values(by=['team'])"
   ]
  },
  {
   "cell_type": "code",
   "execution_count": null,
   "metadata": {},
   "outputs": [],
   "source": [
    "# we drop duplicate rows\n",
    "\n",
    "deduplicated_df = df_team_coach_PL.drop_duplicates()"
   ]
  },
  {
   "cell_type": "code",
   "execution_count": null,
   "metadata": {},
   "outputs": [],
   "source": [
    "# we drop rows with coachId = 0 (with is mainly due to missing data)\n",
    "\n",
    "deduplicated_df = deduplicated_df[deduplicated_df['coachId'] != 0].reset_index(drop=True)\n",
    "deduplicated_df"
   ]
  },
  {
   "cell_type": "code",
   "execution_count": null,
   "metadata": {},
   "outputs": [],
   "source": [
    "# we merge our cleaned dataset with the coaches one to get the coaches information\n",
    "\n",
    "coaches_df = pd.merge(deduplicated_df, df_coaches[['wyId','shortName','birthDate']], how='left', left_on='coachId', right_on='wyId')"
   ]
  },
  {
   "cell_type": "code",
   "execution_count": null,
   "metadata": {},
   "outputs": [],
   "source": [
    "coaches_df = coaches_df.dropna()"
   ]
  },
  {
   "cell_type": "code",
   "execution_count": null,
   "metadata": {},
   "outputs": [],
   "source": [
    "coaches_df"
   ]
  },
  {
   "cell_type": "code",
   "execution_count": null,
   "metadata": {},
   "outputs": [],
   "source": [
    "# we compute the age of each coach\n",
    "\n",
    "age_list = []\n",
    "\n",
    "for index,row in coaches_df.iterrows():\n",
    "    date_format = row['birthDate'].split('-')\n",
    "    age_list.append(calculate_age(date(int(date_format[0]),int(date_format[1]),int(date_format[2]))))"
   ]
  },
  {
   "cell_type": "code",
   "execution_count": null,
   "metadata": {},
   "outputs": [],
   "source": [
    "coaches_df['age'] = age_list"
   ]
  },
  {
   "cell_type": "code",
   "execution_count": null,
   "metadata": {},
   "outputs": [],
   "source": [
    "# we only keep useful information\n",
    "\n",
    "coaches_df2 = coaches_df[['team','shortName','birthDate','age']].sort_values(by=['birthDate'],ascending=False).reset_index(drop=True)"
   ]
  },
  {
   "cell_type": "code",
   "execution_count": null,
   "metadata": {},
   "outputs": [],
   "source": [
    "coaches_df2"
   ]
  },
  {
   "cell_type": "code",
   "execution_count": null,
   "metadata": {},
   "outputs": [],
   "source": [
    "# we only want one coach per team, so we keep the youngest coach for each team\n",
    "\n",
    "coaches_df3 = coaches_df2.drop_duplicates(subset =\"team\")"
   ]
  },
  {
   "cell_type": "code",
   "execution_count": null,
   "metadata": {},
   "outputs": [],
   "source": [
    "final_df_coaches = coaches_df3.sort_values(by=['birthDate'],ascending=False).reset_index(drop=True)"
   ]
  },
  {
   "cell_type": "code",
   "execution_count": null,
   "metadata": {},
   "outputs": [],
   "source": [
    "# here is our final ranking for the teams with yougest coaches!\n",
    "\n",
    "final_df_coaches"
   ]
  },
  {
   "cell_type": "code",
   "execution_count": null,
   "metadata": {},
   "outputs": [],
   "source": [
    "#showing only top10\n",
    "\n",
    "final_df_coaches.head(n=10)"
   ]
  },
  {
   "cell_type": "code",
   "execution_count": null,
   "metadata": {},
   "outputs": [],
   "source": [
    "#and here is the matplotlib boxplot\n",
    "\n",
    "final_df_coaches.boxplot(column=['age'])\n",
    "plt.show()"
   ]
  },
  {
   "cell_type": "code",
   "execution_count": null,
   "metadata": {},
   "outputs": [],
   "source": [
    "# here is the seaborn boxplot\n",
    "\n",
    "sns.boxplot(y='age',data=final_df_coaches)\n",
    "plt.show()"
   ]
  },
  {
   "cell_type": "code",
   "execution_count": null,
   "metadata": {},
   "outputs": [],
   "source": [
    "# The green line gives us the median\n",
    "# The \"box\" representes the Interquartile Range (IQR), with values from Q1 to Q3\n",
    "# The 2 points are for the 2 outliers that are higher than the maximum (calculated by the formula Q3 + 1.5*IQR), marked by the highest line\n",
    "# The lowest line gives us the minimum, calculated by the formula Q1 - 1.5*IQR"
   ]
  },
  {
   "cell_type": "markdown",
   "metadata": {},
   "source": [
    "## RQ4) Who are the best passers?"
   ]
  },
  {
   "cell_type": "code",
   "execution_count": null,
   "metadata": {
    "scrolled": true
   },
   "outputs": [],
   "source": [
    "df_players"
   ]
  },
  {
   "cell_type": "code",
   "execution_count": null,
   "metadata": {},
   "outputs": [],
   "source": [
    "# we get the id of each PL team\n",
    "\n",
    "list_id_teams_PL = df_teams_PL['wyId'].tolist()\n",
    "list_id_teams_PL"
   ]
  },
  {
   "cell_type": "code",
   "execution_count": null,
   "metadata": {},
   "outputs": [],
   "source": [
    "#let's keep only players playing in PL\n",
    "\n",
    "df_players_PL = df_players.loc[df_players['currentTeamId'].isin(list_id_teams_PL)].reset_index(drop=True)"
   ]
  },
  {
   "cell_type": "code",
   "execution_count": null,
   "metadata": {
    "scrolled": true
   },
   "outputs": [],
   "source": [
    "df_players_PL"
   ]
  },
  {
   "cell_type": "code",
   "execution_count": null,
   "metadata": {
    "scrolled": true
   },
   "outputs": [],
   "source": [
    "df_events_PL"
   ]
  },
  {
   "cell_type": "code",
   "execution_count": null,
   "metadata": {},
   "outputs": [],
   "source": [
    "#Let's only keep passes!\n",
    "\n",
    "df_passes_PL = df_events_PL.loc[df_events_PL['eventId'] == 8].reset_index(drop=True)\n",
    "df_passes_PL"
   ]
  },
  {
   "cell_type": "code",
   "execution_count": null,
   "metadata": {},
   "outputs": [],
   "source": [
    "# we determine if passes were successful or failed\n",
    "\n",
    "pass_state = []\n",
    "\n",
    "for index,row in df_passes_PL.iterrows():\n",
    "    for value in row['tags'][-1].values():\n",
    "        if value == 1801:\n",
    "            pass_state.append('successful')\n",
    "        elif value == 1802:\n",
    "            pass_state.append('failed')"
   ]
  },
  {
   "cell_type": "code",
   "execution_count": null,
   "metadata": {},
   "outputs": [],
   "source": [
    "df_passes_PL['pass_status'] = pass_state"
   ]
  },
  {
   "cell_type": "code",
   "execution_count": null,
   "metadata": {
    "scrolled": true
   },
   "outputs": [],
   "source": [
    "df_passes_PL"
   ]
  },
  {
   "cell_type": "code",
   "execution_count": null,
   "metadata": {
    "scrolled": true
   },
   "outputs": [],
   "source": [
    "# we merge passes and players\n",
    "\n",
    "df_passes_players_PL = pd.merge(df_passes_PL, df_players_PL, left_on='playerId', right_on='wyId')\n",
    "df_passes_players_PL"
   ]
  },
  {
   "cell_type": "code",
   "execution_count": null,
   "metadata": {},
   "outputs": [],
   "source": [
    "#we get a list with each PL player with at least one attempted pass\n",
    "\n",
    "list_players_PL = df_passes_players_PL['shortName'].tolist()\n",
    "list_players_PL = sorted(list(dict.fromkeys(list_players_PL))) #deduplicate and sort"
   ]
  },
  {
   "cell_type": "code",
   "execution_count": null,
   "metadata": {},
   "outputs": [],
   "source": [
    "len(list_players_PL)"
   ]
  },
  {
   "cell_type": "code",
   "execution_count": null,
   "metadata": {},
   "outputs": [],
   "source": [
    "# for each player, we compute the total attempted passed, total successful passes, \n",
    "# total failed passes, and ratio between successful and attempted passes\n",
    "\n",
    "total_list = []\n",
    "success_list = []\n",
    "fail_list = []\n",
    "ratio_list = []\n",
    "\n",
    "for player in list_players_PL:\n",
    "    success = 0\n",
    "    fail = 0\n",
    "    temp = df_passes_players_PL.loc[(df_passes_players_PL['shortName'] == player)]\n",
    "    for index,row in temp.iterrows():\n",
    "        if row['pass_status'] == 'successful':\n",
    "            success += 1\n",
    "        elif row['pass_status'] == 'failed':\n",
    "            fail += 1\n",
    "    total_passes = success+fail\n",
    "    ratio = success / total_passes\n",
    "\n",
    "    total_list.append(total_passes)\n",
    "    success_list.append(success)\n",
    "    fail_list.append(fail)\n",
    "    ratio_list.append(ratio)"
   ]
  },
  {
   "cell_type": "code",
   "execution_count": null,
   "metadata": {},
   "outputs": [],
   "source": [
    "len(total_list)"
   ]
  },
  {
   "cell_type": "code",
   "execution_count": null,
   "metadata": {},
   "outputs": [],
   "source": [
    "# and we create a new dataset with these values\n",
    "\n",
    "df_final_players_passes_PL = pd.DataFrame(list(zip(list_players_PL, total_list,success_list,fail_list,ratio_list)), columns = ['shortName', 'total_passes','successful_passes','failed_passes','ratio'])\n",
    "df_final_players_passes_PL"
   ]
  },
  {
   "cell_type": "code",
   "execution_count": null,
   "metadata": {},
   "outputs": [],
   "source": [
    "df_final_players_passes_PL.sort_values(by=['ratio'],ascending=False).head(n=10).reset_index(drop=True)"
   ]
  },
  {
   "cell_type": "raw",
   "metadata": {},
   "source": [
    "In order to avoid meaningless results such as players who have a ratio of 1 due to very small number of attempted passed, we will only consider players with a minimum of 40 passes, which is the average number of passes per game per player\n",
    "\n",
    "Calcul details: 330000 passes over season of 380 games = 868 ==> 22 players on the field (2*11) ==> 868 / 22 = 40 (approximately)\n"
   ]
  },
  {
   "cell_type": "code",
   "execution_count": null,
   "metadata": {},
   "outputs": [],
   "source": [
    "# keeping players with at least 40 passes attempted\n",
    "\n",
    "df_final_3_4 = df_final_players_passes_PL[df_final_players_passes_PL['total_passes'] >= 40]"
   ]
  },
  {
   "cell_type": "code",
   "execution_count": null,
   "metadata": {},
   "outputs": [],
   "source": [
    "# and here is the top10 players with highest passing ratio\n",
    "\n",
    "df_final_3_4.sort_values(by=['ratio'],ascending=False).head(n=10).reset_index(drop=True)"
   ]
  },
  {
   "cell_type": "markdown",
   "metadata": {},
   "source": [
    "## RQ5) Does being a tall player mean winning more air duels?"
   ]
  },
  {
   "cell_type": "code",
   "execution_count": null,
   "metadata": {
    "scrolled": true
   },
   "outputs": [],
   "source": [
    "#Let's only keep air duels\n",
    "\n",
    "df_air_duels_PL = df_events_PL.loc[df_events_PL['subEventId'] == 10].reset_index(drop=True)\n",
    "df_air_duels_PL"
   ]
  },
  {
   "cell_type": "code",
   "execution_count": null,
   "metadata": {},
   "outputs": [],
   "source": [
    "# for each duel, we check if it is successful or failed\n",
    "\n",
    "air_duels_state = []\n",
    "\n",
    "for index,row in df_air_duels_PL.iterrows():\n",
    "    for value in row['tags'][-1].values():\n",
    "        if value == 1801:\n",
    "            air_duels_state.append('successful')\n",
    "        elif value == 1802:\n",
    "            air_duels_state.append('failed')"
   ]
  },
  {
   "cell_type": "code",
   "execution_count": null,
   "metadata": {
    "scrolled": true
   },
   "outputs": [],
   "source": [
    "df_air_duels_PL['air_duel_status'] = air_duels_state\n",
    "df_air_duels_PL"
   ]
  },
  {
   "cell_type": "code",
   "execution_count": null,
   "metadata": {
    "scrolled": true
   },
   "outputs": [],
   "source": [
    "# we merge air duels and players\n",
    "\n",
    "df_air_duels_players_PL = pd.merge(df_air_duels_PL, df_players_PL, left_on='playerId', right_on='wyId')\n",
    "df_air_duels_players_PL"
   ]
  },
  {
   "cell_type": "code",
   "execution_count": null,
   "metadata": {},
   "outputs": [],
   "source": [
    "# we get all players with at least one attempted air duel\n",
    "\n",
    "list_players_air_duels_PL = df_air_duels_players_PL['shortName'].tolist()\n",
    "list_players_air_duels_PL = sorted(list(dict.fromkeys(list_players_air_duels_PL))) #deduplicate and sort"
   ]
  },
  {
   "cell_type": "code",
   "execution_count": null,
   "metadata": {},
   "outputs": [],
   "source": [
    "len(list_players_air_duels_PL)"
   ]
  },
  {
   "cell_type": "code",
   "execution_count": null,
   "metadata": {},
   "outputs": [],
   "source": [
    "# for each player, we compute the total attempted air duels, total successful air duels, \n",
    "# total failed air duels, and ratio between successful and attempted air duels\n",
    "\n",
    "total_list = []\n",
    "success_list = []\n",
    "fail_list = []\n",
    "ratio_list = []\n",
    "\n",
    "for player in list_players_air_duels_PL:\n",
    "    success = 0\n",
    "    fail = 0\n",
    "    temp = df_air_duels_players_PL.loc[(df_air_duels_players_PL['shortName'] == player)]\n",
    "    for index,row in temp.iterrows():\n",
    "        if row['air_duel_status'] == 'successful':\n",
    "            success += 1\n",
    "        elif row['air_duel_status'] == 'failed':\n",
    "            fail += 1\n",
    "    total_air_duels = success+fail\n",
    "    ratio = success / total_air_duels\n",
    "\n",
    "    total_list.append(total_air_duels)\n",
    "    success_list.append(success)\n",
    "    fail_list.append(fail)\n",
    "    ratio_list.append(ratio)"
   ]
  },
  {
   "cell_type": "code",
   "execution_count": null,
   "metadata": {},
   "outputs": [],
   "source": [
    "# we create a new dataset with all these information\n",
    "\n",
    "df_final_players_air_duels_PL = pd.DataFrame(list(zip(list_players_air_duels_PL, total_list,success_list,fail_list,ratio_list)), columns = ['shortName', 'total_air_duels','successful_air_duels','failed_air_duels','ratio'])"
   ]
  },
  {
   "cell_type": "code",
   "execution_count": null,
   "metadata": {},
   "outputs": [],
   "source": [
    "df_final_players_air_duels_PL"
   ]
  },
  {
   "cell_type": "code",
   "execution_count": null,
   "metadata": {},
   "outputs": [],
   "source": [
    "df_final_players_air_duels_PL.sort_values(by=['ratio'],ascending=False).head(n=10).reset_index(drop=True)"
   ]
  },
  {
   "cell_type": "raw",
   "metadata": {},
   "source": [
    "In order to avoid meaningless results such as players who have a ratio of 1 due to very small number of attempted air duels, we will only consider players with a minimum of 40 air duels, which is the average number of air duels per game per player\n",
    "\n",
    "Calcul details : 38000 air duels over season of 380 games = 100 per game ==> 22 players on the field (2*11) ==> 100 / 22 = 5 (approximately)\n"
   ]
  },
  {
   "cell_type": "code",
   "execution_count": null,
   "metadata": {},
   "outputs": [],
   "source": [
    "df_3_5 = df_final_players_air_duels_PL[df_final_players_air_duels_PL['total_air_duels'] >= 5]"
   ]
  },
  {
   "cell_type": "code",
   "execution_count": null,
   "metadata": {},
   "outputs": [],
   "source": [
    "df_3_5.sort_values(by=['ratio'],ascending=False).head(n=10).reset_index(drop=True)"
   ]
  },
  {
   "cell_type": "code",
   "execution_count": null,
   "metadata": {},
   "outputs": [],
   "source": [
    "# we notice that we only have goalkeepers in our top 10, which can be logical \n",
    "# as winning air duels is a crucial part of their game (when opponents attempt crosses and take corners) : \n",
    "# a lost duel for a goalkeeper would almost always result in a goal"
   ]
  },
  {
   "cell_type": "code",
   "execution_count": null,
   "metadata": {
    "scrolled": true
   },
   "outputs": [],
   "source": [
    "#Let's get the size of these players\n",
    "\n",
    "df_final_3_5 = pd.merge(df_3_5, df_players_PL[['shortName','height']], left_on='shortName', right_on='shortName')\n",
    "df_final_3_5"
   ]
  },
  {
   "cell_type": "code",
   "execution_count": null,
   "metadata": {},
   "outputs": [],
   "source": [
    "# to make the scatter plot clearer, we define colors for each height range\n",
    "\n",
    "temp_height_list = df_final_3_5['height'].tolist()\n",
    "temp_ratio_list = df_final_3_5['ratio'].tolist()\n",
    "colors = []\n",
    "\n",
    "for height in temp_height_list:\n",
    "    if height < 160:\n",
    "        colors.append('yellow')\n",
    "    elif height < 170:\n",
    "        colors.append('orange')\n",
    "    elif height < 180:\n",
    "        colors.append('red')\n",
    "    elif height < 190:\n",
    "        colors.append('purple')\n",
    "    elif height < 200:\n",
    "        colors.append('green')\n",
    "    else:\n",
    "        colors.append('blue')\n",
    "    "
   ]
  },
  {
   "cell_type": "code",
   "execution_count": null,
   "metadata": {},
   "outputs": [],
   "source": [
    "from scipy import stats\n",
    "\n",
    "slope, intercept, r_value, p_value, std_err = stats.linregress(temp_height_list,temp_ratio_list)\n",
    "\n",
    "def predict(x):\n",
    "   return slope * x + intercept\n",
    "\n",
    "fitLine = predict(np.array(temp_height_list))\n",
    "fig = plt.figure(1, figsize=(7, 7))\n",
    "plt.scatter(temp_height_list,y=temp_ratio_list,s=30,c=colors) \n",
    "plt.plot(temp_height_list, fitLine, c='r')\n",
    "plt.title('Air duels won ratio versus height',size=20)\n",
    "plt.xlabel('Height',size=15)\n",
    "plt.ylabel('Ratio',size=15)\n",
    "plt.show()"
   ]
  },
  {
   "cell_type": "markdown",
   "metadata": {},
   "source": [
    "#### We clearly notice that the height positively impacts the ratio of air duels won"
   ]
  },
  {
   "cell_type": "markdown",
   "metadata": {},
   "source": [
    "## RQ6) Free your mind!"
   ]
  },
  {
   "cell_type": "code",
   "execution_count": null,
   "metadata": {
    "scrolled": true
   },
   "outputs": [],
   "source": [
    "df_events_PL"
   ]
  },
  {
   "cell_type": "code",
   "execution_count": null,
   "metadata": {},
   "outputs": [],
   "source": [
    "#Let's re-use our passes df to see if the average pass completion ratio of a team has an impact on his final ranking at the end of the season"
   ]
  },
  {
   "cell_type": "code",
   "execution_count": null,
   "metadata": {
    "scrolled": true
   },
   "outputs": [],
   "source": [
    "df_passes_PL"
   ]
  },
  {
   "cell_type": "code",
   "execution_count": null,
   "metadata": {
    "scrolled": true
   },
   "outputs": [],
   "source": [
    "df_teams_PL"
   ]
  },
  {
   "cell_type": "code",
   "execution_count": null,
   "metadata": {},
   "outputs": [],
   "source": [
    "PL_teams"
   ]
  },
  {
   "cell_type": "code",
   "execution_count": null,
   "metadata": {},
   "outputs": [],
   "source": [
    "df_passes_teams_PL = pd.merge(df_passes_PL, df_teams_PL, left_on='teamId', right_on='wyId')"
   ]
  },
  {
   "cell_type": "code",
   "execution_count": null,
   "metadata": {
    "scrolled": true
   },
   "outputs": [],
   "source": [
    "df_passes_teams_PL = df_passes_teams_PL.sort_values(by='name')\n",
    "df_passes_teams_PL"
   ]
  },
  {
   "cell_type": "code",
   "execution_count": null,
   "metadata": {},
   "outputs": [],
   "source": [
    "# for each team, we compute the number of attempted passes, successful and failed passes, and the success ratio\n",
    "\n",
    "total_list = []\n",
    "success_list = []\n",
    "fail_list = []\n",
    "ratio_list = []\n",
    "\n",
    "for team in PL_teams:\n",
    "    success = 0\n",
    "    fail = 0\n",
    "    temp = df_passes_teams_PL.loc[(df_passes_teams_PL['name'] == team)]\n",
    "    for index,row in temp.iterrows():\n",
    "        if row['pass_status'] == 'successful':\n",
    "            success += 1\n",
    "        elif row['pass_status'] == 'failed':\n",
    "            fail += 1\n",
    "    total_passes = success+fail\n",
    "    ratio = success / total_passes\n",
    "\n",
    "    total_list.append(total_passes)\n",
    "    success_list.append(success)\n",
    "    fail_list.append(fail)\n",
    "    ratio_list.append(ratio)"
   ]
  },
  {
   "cell_type": "code",
   "execution_count": null,
   "metadata": {},
   "outputs": [],
   "source": [
    "len(total_list)"
   ]
  },
  {
   "cell_type": "code",
   "execution_count": null,
   "metadata": {},
   "outputs": [],
   "source": [
    "df_final_teams_passes_PL = pd.DataFrame(list(zip(PL_teams, total_list,success_list,fail_list,ratio_list)), columns = ['name', 'total_passes','successful_passes','failed_passes','ratio'])"
   ]
  },
  {
   "cell_type": "code",
   "execution_count": null,
   "metadata": {
    "scrolled": true
   },
   "outputs": [],
   "source": [
    "df_final_teams_passes_PL"
   ]
  },
  {
   "cell_type": "code",
   "execution_count": null,
   "metadata": {},
   "outputs": [],
   "source": [
    "#we re-use the list containing the end of season total points for each team\n",
    "\n",
    "lst"
   ]
  },
  {
   "cell_type": "code",
   "execution_count": null,
   "metadata": {},
   "outputs": [],
   "source": [
    "#we extract the total points\n",
    "\n",
    "scores_list = [lst[i][1] for i in range(0,len(lst))]"
   ]
  },
  {
   "cell_type": "code",
   "execution_count": null,
   "metadata": {
    "scrolled": false
   },
   "outputs": [],
   "source": [
    "scores_list"
   ]
  },
  {
   "cell_type": "code",
   "execution_count": null,
   "metadata": {},
   "outputs": [],
   "source": [
    "# and we add them to our dataset\n",
    "\n",
    "df_final_teams_passes_PL['end_season_points'] = scores_list"
   ]
  },
  {
   "cell_type": "code",
   "execution_count": null,
   "metadata": {},
   "outputs": [],
   "source": [
    "df_final_teams_passes_PL"
   ]
  },
  {
   "cell_type": "code",
   "execution_count": null,
   "metadata": {},
   "outputs": [],
   "source": [
    "temp_ratio_list = df_final_teams_passes_PL['ratio'].tolist()\n",
    "temp_score_list = df_final_teams_passes_PL['end_season_points'].tolist()\n",
    "\n",
    "from scipy import stats\n",
    "slope, intercept, r_value, p_value, std_err = stats.linregress(temp_ratio_list,temp_score_list)\n",
    "def predict(x):\n",
    "   return slope * x + intercept\n",
    "fitLine = predict(np.array(temp_ratio_list))\n",
    "fig = plt.figure(1, figsize=(7, 7))\n",
    "plt.scatter(temp_ratio_list,y=temp_score_list,s=30) \n",
    "plt.plot(temp_ratio_list, fitLine, c='r')\n",
    "plt.title('End of season points versus passes completion ratio',size=20)\n",
    "plt.xlabel('Passes completion ratio',size=15)\n",
    "plt.ylabel('End of season points',size=15)\n",
    "plt.show()"
   ]
  },
  {
   "cell_type": "code",
   "execution_count": null,
   "metadata": {},
   "outputs": [],
   "source": [
    "temp_passes_list = df_final_teams_passes_PL['total_passes'].tolist()\n",
    "temp_score_list = df_final_teams_passes_PL['end_season_points'].tolist()\n",
    "\n",
    "from scipy import stats\n",
    "slope, intercept, r_value, p_value, std_err = stats.linregress(temp_passes_list,temp_score_list)\n",
    "def predict(x):\n",
    "   return slope * x + intercept\n",
    "fitLine = predict(np.array(temp_passes_list))\n",
    "fig = plt.figure(1, figsize=(7, 7))\n",
    "plt.scatter(temp_passes_list,y=temp_score_list,s=30) \n",
    "plt.plot(temp_passes_list, fitLine, c='r')\n",
    "plt.title('End of season points versus attempted passes thoughout season',size=20)\n",
    "plt.xlabel('Attempted passes',size=15)\n",
    "plt.ylabel('End of season points',size=15)\n",
    "plt.show()"
   ]
  },
  {
   "cell_type": "markdown",
   "metadata": {},
   "source": [
    "The scatter plots right above actually confirm the dominance of Premier League's Big Six, the 6 major clubs in England, almost always being the 6 best clubs at the end of the season. The PL Big Six is composed of: Manchester United, Manchester City, Liverpool, Tottenham, Chelsea and Arsenal. \n",
    "\n",
    "The plots show us that these 6 clubs all have the ball more often that their opponents and use it with more accuracy (at least for passes). We notice that Manchester City clearly stands out from the other 5 clubs with a better accuracy and many more attempted passes (and also many more points), which was predictible as their coach is Pep Guardiola, world-known for his love for beautiful game and possession football.\n",
    "\n",
    "The 14 other clubs all have the ball less often and use it with less accuracy."
   ]
  },
  {
   "cell_type": "code",
   "execution_count": null,
   "metadata": {},
   "outputs": [],
   "source": [
    "#We previously saw that height was a significant advantage in aerial duels. But what about the weight? And the body mass index (BMI)?"
   ]
  },
  {
   "cell_type": "code",
   "execution_count": null,
   "metadata": {},
   "outputs": [],
   "source": [
    "df_6 = pd.merge(df_3_5, df_players_PL[['shortName','height','weight']], left_on='shortName', right_on='shortName')\n",
    "df_6"
   ]
  },
  {
   "cell_type": "raw",
   "metadata": {},
   "source": [
    "The formula for the BMI is the following: weight / height**2 with the weight in kg and height in m"
   ]
  },
  {
   "cell_type": "code",
   "execution_count": null,
   "metadata": {},
   "outputs": [],
   "source": [
    "#Let's compute the BMI for our players!\n",
    "\n",
    "df_6['BMI'] = round(df_6['weight'] / ((df_6['height'] / 100)**2),2)"
   ]
  },
  {
   "cell_type": "code",
   "execution_count": null,
   "metadata": {
    "scrolled": true
   },
   "outputs": [],
   "source": [
    "df_6"
   ]
  },
  {
   "cell_type": "code",
   "execution_count": null,
   "metadata": {},
   "outputs": [],
   "source": [
    "# we use different colors for weight intervals in order to make the plot clearer\n",
    "\n",
    "temp_weight_list = df_6['weight'].tolist()\n",
    "temp_ratio_list = df_6['ratio'].tolist()\n",
    "colors = []\n",
    "\n",
    "for weight in temp_weight_list:\n",
    "    if weight < 60:\n",
    "        colors.append('yellow')\n",
    "    elif weight < 70:\n",
    "        colors.append('orange')\n",
    "    elif weight < 80:\n",
    "        colors.append('red')\n",
    "    elif weight < 90:\n",
    "        colors.append('purple')\n",
    "    elif weight < 100:\n",
    "        colors.append('green')\n",
    "    else:\n",
    "        colors.append('blue')"
   ]
  },
  {
   "cell_type": "code",
   "execution_count": null,
   "metadata": {},
   "outputs": [],
   "source": [
    "#and we plot!\n",
    "\n",
    "from scipy import stats\n",
    "slope, intercept, r_value, p_value, std_err = stats.linregress(temp_weight_list,temp_ratio_list)\n",
    "def predict(x):\n",
    "   return slope * x + intercept\n",
    "fitLine = predict(np.array(temp_weight_list))\n",
    "fig = plt.figure(1, figsize=(7, 7))\n",
    "plt.scatter(temp_weight_list,y=temp_ratio_list,s=30,c=colors) \n",
    "plt.plot(temp_weight_list, fitLine, c='r')\n",
    "plt.title('Air duels won ratio versus weight',size=20)\n",
    "plt.xlabel('Weight',size=15)\n",
    "plt.ylabel('Ratio',size=15)\n",
    "plt.show()"
   ]
  },
  {
   "cell_type": "raw",
   "metadata": {},
   "source": [
    "Even though its impact is a bit smaller than height's, weight still has an important role in air duels and is definitely an asset that helps winning them "
   ]
  },
  {
   "cell_type": "code",
   "execution_count": null,
   "metadata": {},
   "outputs": [],
   "source": [
    "# we use different colors for BMI intervals in order to make the plot clearer\n",
    "\n",
    "temp_BMI_list = df_6['BMI'].tolist()\n",
    "temp_ratio_list = df_6['ratio'].tolist()\n",
    "colors = []\n",
    "\n",
    "for BMI in temp_BMI_list:\n",
    "    if BMI < 18.5:\n",
    "        colors.append('yellow')\n",
    "    elif BMI <= 25:\n",
    "        colors.append('red')\n",
    "    else:\n",
    "        colors.append('blue')"
   ]
  },
  {
   "cell_type": "code",
   "execution_count": null,
   "metadata": {
    "scrolled": false
   },
   "outputs": [],
   "source": [
    "# and we plot!\n",
    "\n",
    "from scipy import stats\n",
    "\n",
    "slope, intercept, r_value, p_value, std_err = stats.linregress(temp_BMI_list,temp_ratio_list)\n",
    "\n",
    "def predict(x):\n",
    "   return slope * x + intercept\n",
    "\n",
    "fitLine = predict(np.array(temp_BMI_list))\n",
    "fig = plt.figure(1, figsize=(7, 7))\n",
    "plt.scatter(temp_BMI_list,y=temp_ratio_list,s=30,c=colors) \n",
    "plt.plot(temp_BMI_list, fitLine, c='r')\n",
    "plt.title('Air duels won ratio versus BMI',size=20)\n",
    "plt.xlabel('BMI',size=15)\n",
    "plt.ylabel('Ratio',size=15)\n",
    "plt.show()"
   ]
  },
  {
   "cell_type": "raw",
   "metadata": {},
   "source": [
    "This time the plot is not convincing at all. \n",
    "It first shows that most part of BMIs are in the range (18-25) which is the healthy range. This is pretty logical: the least we can expect from an athlete is to be in top shape physically. As all our population has pretty similar attributes (a 22 BMI is not necessarily better that a 19 BMI), we can not establish trends and compare them. "
   ]
  },
  {
   "cell_type": "markdown",
   "metadata": {},
   "source": [
    "## CRQ1) What are the time slots of the match with more goals?"
   ]
  },
  {
   "cell_type": "markdown",
   "metadata": {},
   "source": [
    "#### i) Make a barplot with the absolute frequency of goals in all the time slots"
   ]
  },
  {
   "cell_type": "code",
   "execution_count": null,
   "metadata": {
    "scrolled": true
   },
   "outputs": [],
   "source": [
    "df_events_PL"
   ]
  },
  {
   "cell_type": "code",
   "execution_count": null,
   "metadata": {},
   "outputs": [],
   "source": [
    "event_types = df_events_PL['eventName'].tolist()\n",
    "event_types = sorted(list(dict.fromkeys(event_types))) #deduplicate and sort"
   ]
  },
  {
   "cell_type": "code",
   "execution_count": null,
   "metadata": {},
   "outputs": [],
   "source": [
    "event_types"
   ]
  },
  {
   "cell_type": "code",
   "execution_count": null,
   "metadata": {},
   "outputs": [],
   "source": [
    "# we only keep events potentially leading to goals\n",
    "\n",
    "goal_events = ['Free Kick', 'Shot']"
   ]
  },
  {
   "cell_type": "code",
   "execution_count": null,
   "metadata": {
    "scrolled": true
   },
   "outputs": [],
   "source": [
    "df_goal_events = df_events_PL.loc[df_events_PL['eventName'].isin(goal_events)]\n",
    "df_goal_events"
   ]
  },
  {
   "cell_type": "code",
   "execution_count": null,
   "metadata": {},
   "outputs": [],
   "source": [
    "# for each shot and free kick, we check if it led to a goal or not\n",
    "\n",
    "event_state = []\n",
    "\n",
    "for index,row in df_goal_events.iterrows():\n",
    "    if len(row['tags']) > 0:\n",
    "        for value in row['tags'][0].values():\n",
    "            if value == 101:\n",
    "                event_state.append('goal')\n",
    "            else:\n",
    "                event_state.append('no goal')\n",
    "    else:\n",
    "        event_state.append('no_goal') "
   ]
  },
  {
   "cell_type": "code",
   "execution_count": null,
   "metadata": {},
   "outputs": [],
   "source": [
    "len(event_state)"
   ]
  },
  {
   "cell_type": "code",
   "execution_count": null,
   "metadata": {},
   "outputs": [],
   "source": [
    "# according to Wikipedia, there was 1018 goals this season, so we only have 30 missing values\n",
    "\n",
    "event_state.count('goal')"
   ]
  },
  {
   "cell_type": "code",
   "execution_count": null,
   "metadata": {},
   "outputs": [],
   "source": [
    "df_goal_events['attempt_status'] = event_state"
   ]
  },
  {
   "cell_type": "code",
   "execution_count": null,
   "metadata": {
    "scrolled": true
   },
   "outputs": [],
   "source": [
    "df_goal_events"
   ]
  },
  {
   "cell_type": "code",
   "execution_count": null,
   "metadata": {
    "scrolled": true
   },
   "outputs": [],
   "source": [
    "df_goals_PL = df_goal_events[df_goal_events['attempt_status'] == 'goal']\n",
    "df_goals_PL"
   ]
  },
  {
   "cell_type": "code",
   "execution_count": null,
   "metadata": {},
   "outputs": [],
   "source": [
    "# we create time intervals and classify each goal\n",
    "\n",
    "time_list = []\n",
    "interval_list = []\n",
    "\n",
    "for index,row in df_goals_PL.iterrows():\n",
    "    if row['matchPeriod'] == '1H':\n",
    "        time_minutes = round((row['eventSec'] / 60),2)\n",
    "    elif row['matchPeriod'] == '2H':\n",
    "        time_minutes = round((row['eventSec'] / 60) + 45,2)\n",
    "    time_list.append(time_minutes)\n",
    "    if time_minutes < 9:\n",
    "        interval = '0-9'\n",
    "    elif time_minutes < 18:\n",
    "        interval = '09-18'\n",
    "    elif time_minutes < 27:\n",
    "        interval = '18-27'\n",
    "    elif time_minutes < 36:\n",
    "        interval = '27-36'\n",
    "    elif time_minutes < 45:\n",
    "        interval = '36-45'\n",
    "    elif (time_minutes > 45) & (str(row['matchPeriod']) == '1H'):\n",
    "        interval = '45+'\n",
    "    elif time_minutes < 54:\n",
    "        interval = '45-54'\n",
    "    elif time_minutes < 63:\n",
    "        interval = '54-63'\n",
    "    elif time_minutes < 72:\n",
    "        interval = '63-72'\n",
    "    elif time_minutes < 81:\n",
    "        interval = '72-81'\n",
    "    elif time_minutes < 90:\n",
    "        interval = '81-90'\n",
    "    elif time_minutes >= 90:\n",
    "        interval = '90+'\n",
    "    interval_list.append(interval)"
   ]
  },
  {
   "cell_type": "code",
   "execution_count": null,
   "metadata": {},
   "outputs": [],
   "source": [
    "df_goals_PL['event_time_minutes'] = time_list\n",
    "df_goals_PL['time_interval'] = interval_list"
   ]
  },
  {
   "cell_type": "code",
   "execution_count": null,
   "metadata": {
    "scrolled": true
   },
   "outputs": [],
   "source": [
    "df_goals_PL"
   ]
  },
  {
   "cell_type": "code",
   "execution_count": null,
   "metadata": {},
   "outputs": [],
   "source": [
    "# here comes the barplot with the absolute frequency of goals in all the time slots\n",
    "\n",
    "fig = plt.figure(1, figsize=(10, 5))\n",
    "df_goals_PL['time_interval'].value_counts(normalize=True).sort_index().plot(kind='bar')\n",
    "plt.title('Goals per time interval',size=20)\n",
    "plt.xlabel('Time intervals (minutes)',size=15)\n",
    "plt.ylabel('Goals',size=15)\n",
    "plt.show()"
   ]
  },
  {
   "cell_type": "markdown",
   "metadata": {},
   "source": [
    "#### ii) Find the top 10 teams that score the most in the interval \"81-90\""
   ]
  },
  {
   "cell_type": "code",
   "execution_count": null,
   "metadata": {},
   "outputs": [],
   "source": [
    "# we merge our goals df with the teams df\n",
    "\n",
    "df_goals_teams_PL = pd.merge(df_teams_PL,df_goals_PL, left_on='wyId', right_on='teamId')\n",
    "df_goals_teams_PL"
   ]
  },
  {
   "cell_type": "code",
   "execution_count": null,
   "metadata": {},
   "outputs": [],
   "source": [
    "# we only keep goals from the 81-90 time interval\n",
    "\n",
    "df_goals_81_90_PL = df_goals_teams_PL[df_goals_teams_PL['time_interval'] == '81-90']"
   ]
  },
  {
   "cell_type": "code",
   "execution_count": null,
   "metadata": {},
   "outputs": [],
   "source": [
    "# first way to get a ranking\n",
    "\n",
    "df_goals_81_90_PL['name'].value_counts()"
   ]
  },
  {
   "cell_type": "code",
   "execution_count": null,
   "metadata": {},
   "outputs": [],
   "source": [
    "list_teams_goals_81_90_PL = df_goals_81_90_PL['name'].tolist()\n",
    "list_teams_goals_81_90_PL = sorted(list(dict.fromkeys(list_teams_goals_81_90_PL))) #deduplicate and sort"
   ]
  },
  {
   "cell_type": "code",
   "execution_count": null,
   "metadata": {},
   "outputs": [],
   "source": [
    "# we count goals for each team\n",
    "\n",
    "goals_81_90_list = []\n",
    "\n",
    "\n",
    "for team in list_teams_goals_81_90_PL:\n",
    "    goals = 0\n",
    "    for index,row in df_goals_81_90_PL.iterrows():\n",
    "        if row['name'] == team:\n",
    "            goals += 1\n",
    "\n",
    "    goals_81_90_list.append(goals)"
   ]
  },
  {
   "cell_type": "code",
   "execution_count": null,
   "metadata": {},
   "outputs": [],
   "source": [
    "goals_81_90_list"
   ]
  },
  {
   "cell_type": "code",
   "execution_count": null,
   "metadata": {},
   "outputs": [],
   "source": [
    "# we merge team names and goals\n",
    "\n",
    "df_crq1_2 = pd.DataFrame(list(zip(list_teams_goals_81_90_PL, goals_81_90_list)), columns = ['name', 'goals'])"
   ]
  },
  {
   "cell_type": "code",
   "execution_count": null,
   "metadata": {},
   "outputs": [],
   "source": [
    "# and here is our top10!\n",
    "\n",
    "df_crq1_2.sort_values(by=['goals'],ascending=False).head(n=10).reset_index(drop=True)"
   ]
  },
  {
   "cell_type": "markdown",
   "metadata": {},
   "source": [
    "#### iii) Show if there are players that were able to score at least one goal in 8 different intervals"
   ]
  },
  {
   "cell_type": "code",
   "execution_count": null,
   "metadata": {
    "scrolled": true
   },
   "outputs": [],
   "source": [
    "df_players_PL"
   ]
  },
  {
   "cell_type": "code",
   "execution_count": null,
   "metadata": {
    "scrolled": true
   },
   "outputs": [],
   "source": [
    "df_goals_PL"
   ]
  },
  {
   "cell_type": "code",
   "execution_count": null,
   "metadata": {
    "scrolled": true
   },
   "outputs": [],
   "source": [
    "# we merge goals df and players df, to attribute each goal to a player\n",
    "\n",
    "df_goals_players_PL = pd.merge(df_players_PL,df_goals_PL, left_on='wyId', right_on='playerId')\n",
    "df_goals_players_PL"
   ]
  },
  {
   "cell_type": "code",
   "execution_count": null,
   "metadata": {},
   "outputs": [],
   "source": [
    "# we do a crosstab to get the number of goals for every time intervals for each player\n",
    "\n",
    "players_intervals_PF = pd.crosstab(df_goals_players_PL['shortName'],df_goals_players_PL['time_interval'])\n",
    "players_intervals_PF"
   ]
  },
  {
   "cell_type": "code",
   "execution_count": null,
   "metadata": {},
   "outputs": [],
   "source": [
    "# for each player, we count the number of intervals he has scored in\n",
    "\n",
    "intervals_nbr_list = []\n",
    "\n",
    "for index, row in players_intervals_PF.iterrows():\n",
    "    nbr_intervals = 0\n",
    "    for i in range(0, len(players_intervals_PF.columns)):\n",
    "        if row[players_intervals_PF.columns[i]] > 0:\n",
    "            nbr_intervals += 1\n",
    "    intervals_nbr_list.append(nbr_intervals)"
   ]
  },
  {
   "cell_type": "code",
   "execution_count": null,
   "metadata": {
    "scrolled": true
   },
   "outputs": [],
   "source": [
    "intervals_nbr_list"
   ]
  },
  {
   "cell_type": "code",
   "execution_count": null,
   "metadata": {},
   "outputs": [],
   "source": [
    "players_intervals_PF['total_intervals'] = intervals_nbr_list"
   ]
  },
  {
   "cell_type": "code",
   "execution_count": null,
   "metadata": {},
   "outputs": [],
   "source": [
    "# we only keep players with at least 8 intervals\n",
    "\n",
    "df_crq1_3 = players_intervals_PF[players_intervals_PF['total_intervals'] >= 8]"
   ]
  },
  {
   "cell_type": "code",
   "execution_count": null,
   "metadata": {},
   "outputs": [],
   "source": [
    "# and here are our players with goals in at least 8 different time slots!\n",
    "\n",
    "df_crq1_3.sort_values(by=['total_intervals'],ascending=False)"
   ]
  },
  {
   "cell_type": "markdown",
   "metadata": {},
   "source": [
    "## CRQ2) Visualize movements and passes on the pitch!"
   ]
  },
  {
   "cell_type": "markdown",
   "metadata": {},
   "source": [
    "#### 1) Considering only the match Barcelona - Real Madrid played on the 6 May 2018"
   ]
  },
  {
   "cell_type": "code",
   "execution_count": null,
   "metadata": {},
   "outputs": [],
   "source": [
    "import matplotlib\n",
    "\n",
    "#here is our function that will draw the pitch\n",
    "\n",
    "def draw_pitch(ax):\n",
    "    # focus on only half of the pitch\n",
    "    #Pitch Outline & Centre Line\n",
    "    Pitch = plt.Rectangle([0,0], width = 120, height = 80, fill = False,color=\"black\")\n",
    "    #Left, Right Penalty Area and midline\n",
    "    LeftPenalty = plt.Rectangle([0,22.3], width = 14.6, height = 35.3, fill = False,color=\"black\")\n",
    "    RightPenalty = plt.Rectangle([105.4,22.3], width = 14.6, height = 35.3, fill = False,color=\"black\")\n",
    "    midline = matplotlib.patches.ConnectionPatch([60,0], [60,80], \"data\", \"data\",color=\"black\")\n",
    "\n",
    "    #Left, Right 6-yard Box\n",
    "    LeftSixYard = plt.Rectangle([0,32], width = 4.9, height = 16, fill = False,color=\"black\")\n",
    "    RightSixYard = plt.Rectangle([115.1,32], width = 4.9, height = 16, fill = False,color=\"black\")\n",
    "\n",
    "\n",
    "    #Prepare Circles\n",
    "    centreCircle = plt.Circle((60,40),8.1,color=\"black\", fill = False)\n",
    "    centreSpot = plt.Circle((60,40),0.71,color=\"black\")\n",
    "    #Penalty spots and Arcs around penalty boxes\n",
    "    leftPenSpot = plt.Circle((9.7,40),0.71,color=\"black\")\n",
    "    rightPenSpot = plt.Circle((110.3,40),0.71,color=\"black\")\n",
    "    leftArc = matplotlib.patches.Arc((9.7,40),height=16.2,width=16.2,angle=0,theta1=310,theta2=50,color=\"black\")\n",
    "    rightArc = matplotlib.patches.Arc((110.3,40),height=16.2,width=16.2,angle=0,theta1=130,theta2=230,color=\"black\")\n",
    "    \n",
    "    element = [Pitch, LeftPenalty, RightPenalty, midline, LeftSixYard, RightSixYard, centreCircle, \n",
    "               centreSpot, rightPenSpot, leftPenSpot, leftArc, rightArc]\n",
    "    for i in element:\n",
    "        ax.add_patch(i)"
   ]
  },
  {
   "cell_type": "code",
   "execution_count": null,
   "metadata": {
    "scrolled": true
   },
   "outputs": [],
   "source": [
    "#Let's try to draw a full football pitch\n",
    "\n",
    "fig=plt.figure() #set up the figures\n",
    "fig.set_size_inches(7, 5)\n",
    "ax=fig.add_subplot(1,1,1)\n",
    "draw_pitch(ax) #overlay our different objects on the pitch\n",
    "plt.ylim(-2, 82)\n",
    "plt.xlim(-2, 122)\n",
    "plt.axis('off')\n",
    "plt.show()"
   ]
  },
  {
   "cell_type": "code",
   "execution_count": null,
   "metadata": {
    "scrolled": true
   },
   "outputs": [],
   "source": [
    "#Let's import La Liga matches data\n",
    "\n",
    "df_matches_Liga =  pd.read_json('matches_Spain.json',encoding='utf-8')\n",
    "df_matches_Liga"
   ]
  },
  {
   "cell_type": "code",
   "execution_count": null,
   "metadata": {},
   "outputs": [],
   "source": [
    "#by looking at the data we find the id of the Clasico game we are interested in\n",
    "\n",
    "df_classico = df_matches_Liga[df_matches_Liga['wyId'] == 2565907]\n",
    "df_classico"
   ]
  },
  {
   "cell_type": "code",
   "execution_count": null,
   "metadata": {},
   "outputs": [],
   "source": [
    "#Let's import La Liga events data\n",
    "\n",
    "df_events_Liga =  pd.read_json('events_Spain.json',encoding='utf-8')\n",
    "df_events_Liga"
   ]
  },
  {
   "cell_type": "code",
   "execution_count": null,
   "metadata": {},
   "outputs": [],
   "source": [
    "#we only keep the events that happened during El Clasico\n",
    "\n",
    "df_events_classico = df_events_Liga[df_events_Liga['matchId'] == 2565907]\n",
    "df_events_classico"
   ]
  },
  {
   "cell_type": "code",
   "execution_count": null,
   "metadata": {
    "scrolled": true
   },
   "outputs": [],
   "source": [
    "df_players"
   ]
  },
  {
   "cell_type": "code",
   "execution_count": null,
   "metadata": {},
   "outputs": [],
   "source": [
    "#we find Cristiano Ronaldo's id\n",
    "\n",
    "cr7 = df_players[df_players['shortName'] == 'Cristiano Ronaldo']\n",
    "cr7"
   ]
  },
  {
   "cell_type": "code",
   "execution_count": null,
   "metadata": {},
   "outputs": [],
   "source": [
    "#we find Messi's id\n",
    "\n",
    "messi = df_players[df_players['shortName'] == 'L. Messi']\n",
    "messi"
   ]
  },
  {
   "cell_type": "code",
   "execution_count": null,
   "metadata": {},
   "outputs": [],
   "source": [
    "# we store Cristiano Ronaldo's events\n",
    "\n",
    "df_events_CR7 = df_events_classico[df_events_classico['playerId'] == 3322]\n",
    "df_events_CR7"
   ]
  },
  {
   "cell_type": "code",
   "execution_count": null,
   "metadata": {},
   "outputs": [],
   "source": [
    "# we store Messi's events\n",
    "\n",
    "df_events_messi = df_events_classico[df_events_classico['playerId'] == 3359]\n",
    "df_events_messi"
   ]
  },
  {
   "cell_type": "code",
   "execution_count": null,
   "metadata": {},
   "outputs": [],
   "source": [
    "# we only keep relevant events for both players\n",
    "relevant_events = ['Duel', 'Pass', 'Shot', 'Free Kick']\n",
    "\n",
    "df_events_CR7 = df_events_CR7[df_events_CR7['eventName'].isin(relevant_events)]\n",
    "df_events_messi = df_events_messi[df_events_messi['eventName'].isin(relevant_events)]"
   ]
  },
  {
   "cell_type": "code",
   "execution_count": null,
   "metadata": {},
   "outputs": [],
   "source": [
    "# we get starting and ending positions for all events using the powerful re library\n",
    "\n",
    "y_start = []\n",
    "x_start = []\n",
    "y_end = []\n",
    "x_end = []\n",
    "\n",
    "for index,row in df_events_CR7.iterrows():\n",
    "    int_list = [int(s) for s in re.findall(r'\\b\\d+\\b', str(row['positions']))]\n",
    "    y_start.append(0.8*int_list[0])\n",
    "    x_start.append(120-1.2*int_list[1])\n",
    "    y_end.append(0.8*int_list[2])\n",
    "    x_end.append(120-1.2*int_list[3])"
   ]
  },
  {
   "cell_type": "code",
   "execution_count": null,
   "metadata": {},
   "outputs": [],
   "source": [
    "df_events_CR7['y_start'] = y_start\n",
    "df_events_CR7['x_start'] = x_start\n",
    "df_events_CR7['y_end'] = y_end\n",
    "df_events_CR7['x_end'] = x_end"
   ]
  },
  {
   "cell_type": "code",
   "execution_count": null,
   "metadata": {},
   "outputs": [],
   "source": [
    "df_events_CR7"
   ]
  },
  {
   "cell_type": "code",
   "execution_count": null,
   "metadata": {},
   "outputs": [],
   "source": [
    "#CR7 heatmap\n",
    "\n",
    "fig, ax = plt.subplots()\n",
    "fig.set_size_inches(7, 5)\n",
    "#ax=fig.add_subplot(1,1,1)\n",
    "draw_pitch(ax) #overlay our different objects on the pitch\n",
    "plt.ylim(-2, 82)\n",
    "plt.xlim(-2, 122)\n",
    "plt.axis('on')\n",
    "\n",
    "\n",
    "x_coord = df_events_CR7['x_start'].tolist()\n",
    "y_coord = df_events_CR7['y_start'].tolist()\n",
    "\n",
    "#shades: give us the heat map we desire\n",
    "# n_levels: draw more lines, the larger n, the more blurry it looks\n",
    "sns.kdeplot(x_coord, y_coord, shade = \"True\", color = \"green\", n_levels = 15)\n",
    "plt.show()"
   ]
  },
  {
   "cell_type": "raw",
   "metadata": {},
   "source": [
    "Cristiano Ronaldo's heatmap is actually pretty predictible as we know he plays as a Left Winger (so down le left side of the pitch), with a weak implication in defensive tasks (which is why the down part of left side is much clearer than the high part) but also a huge goal appetite which leads to the strong presence in the penalty area"
   ]
  },
  {
   "cell_type": "code",
   "execution_count": null,
   "metadata": {},
   "outputs": [],
   "source": [
    "# we get starting and ending positions for all events using the powerful re library\n",
    "\n",
    "y_start = []\n",
    "x_start = []\n",
    "y_end = []\n",
    "x_end = []\n",
    "\n",
    "for index,row in df_events_messi.iterrows():\n",
    "    int_list = [int(s) for s in re.findall(r'\\b\\d+\\b', str(row['positions']))]\n",
    "    y_start.append(0.8*int_list[0])\n",
    "    x_start.append(120-1.2*int_list[1])\n",
    "    y_end.append(0.8*int_list[2])\n",
    "    x_end.append(120-1.2*int_list[3])"
   ]
  },
  {
   "cell_type": "code",
   "execution_count": null,
   "metadata": {},
   "outputs": [],
   "source": [
    "df_events_messi['y_start'] = y_start\n",
    "df_events_messi['x_start'] = x_start\n",
    "df_events_messi['y_end'] = y_end\n",
    "df_events_messi['x_end'] = x_end"
   ]
  },
  {
   "cell_type": "code",
   "execution_count": null,
   "metadata": {},
   "outputs": [],
   "source": [
    "#Messi heatmap\n",
    "\n",
    "fig, ax = plt.subplots()\n",
    "fig.set_size_inches(7, 5)\n",
    "#ax=fig.add_subplot(1,1,1)\n",
    "draw_pitch(ax) #overlay our different objects on the pitch\n",
    "plt.ylim(-2, 82)\n",
    "plt.xlim(-2, 122)\n",
    "plt.axis('on')\n",
    "\n",
    "\n",
    "x_coord = df_events_messi['x_start'].tolist()\n",
    "y_coord = df_events_messi['y_start'].tolist()\n",
    "\n",
    "#shades: give us the heat map we desire\n",
    "# n_levels: draw more lines, the larger n, the more blurry it looks\n",
    "sns.kdeplot(x_coord, y_coord, shade = \"True\", color = \"green\", n_levels = 15)\n",
    "plt.show()"
   ]
  },
  {
   "cell_type": "raw",
   "metadata": {},
   "source": [
    "When we take a look at Messi's heatmap we notice that he plays at a very central position, with a number 10 role. His presence in the box is consequently smaller than Ronaldo's one. As Cristiano Ronaldo, Messi doesn't participate much in the defensive effort. Indeed, the fact that the pitch is not coloured around FC Barcelona's goals shows us that Messi doesn't event reply when Real Madrid are taking set-pieces such as free-kicks or corner kicks."
   ]
  },
  {
   "cell_type": "markdown",
   "metadata": {},
   "source": [
    "#### 2) Considering only the match Juventus - Napoli played on the 22 April 2018"
   ]
  },
  {
   "cell_type": "code",
   "execution_count": null,
   "metadata": {
    "scrolled": true
   },
   "outputs": [],
   "source": [
    "df_matches_SerieA =  pd.read_json('matches_Italy.json',encoding='utf-8')\n",
    "df_matches_SerieA.head(n=50)"
   ]
  },
  {
   "cell_type": "code",
   "execution_count": null,
   "metadata": {},
   "outputs": [],
   "source": [
    "#The Juve - Napoli game has ID 2576295"
   ]
  },
  {
   "cell_type": "code",
   "execution_count": null,
   "metadata": {
    "scrolled": true
   },
   "outputs": [],
   "source": [
    "# Let's import our Serie A data\n",
    "\n",
    "df_events_SerieA =  pd.read_json('events_Italy.json',encoding='utf-8')\n",
    "df_events_SerieA"
   ]
  },
  {
   "cell_type": "code",
   "execution_count": null,
   "metadata": {
    "scrolled": true
   },
   "outputs": [],
   "source": [
    "# we only keep events from the Juve - Napoli game we are interested in\n",
    "\n",
    "df_events_juve_napoli = df_events_SerieA[df_events_SerieA['matchId'] == 2576295]\n",
    "df_events_juve_napoli"
   ]
  },
  {
   "cell_type": "code",
   "execution_count": null,
   "metadata": {},
   "outputs": [],
   "source": [
    "# we find Pjanic id\n",
    "\n",
    "pjanic = df_players[df_players['shortName'] == 'M. Pjanić']\n",
    "pjanic"
   ]
  },
  {
   "cell_type": "code",
   "execution_count": null,
   "metadata": {},
   "outputs": [],
   "source": [
    "# we find Jorginho id\n",
    "\n",
    "jorginho = df_players[df_players['shortName'] == 'Jorginho']\n",
    "jorginho"
   ]
  },
  {
   "cell_type": "code",
   "execution_count": null,
   "metadata": {},
   "outputs": [],
   "source": [
    "# we store events for both players\n",
    "\n",
    "df_events_pjanic = df_events_juve_napoli[df_events_juve_napoli['playerId'] == 20443]\n",
    "df_events_jorginho = df_events_juve_napoli[df_events_juve_napoli['playerId'] == 21315]"
   ]
  },
  {
   "cell_type": "code",
   "execution_count": null,
   "metadata": {},
   "outputs": [],
   "source": [
    "# we only keep relevant events for both players, with a distinction between passes and other relevant events\n",
    "relevant_events = ['Duel', 'Pass', 'Shot', 'Free Kick']\n",
    "\n",
    "df_events_pjanic = df_events_pjanic[df_events_pjanic['eventName'].isin(relevant_events)]\n",
    "df_events_jorginho = df_events_jorginho[df_events_jorginho['eventName'].isin(relevant_events)]\n",
    "df_passes_pjanic = df_events_pjanic[df_events_pjanic['eventId'] == 8]\n",
    "df_passes_jorginho = df_events_jorginho[df_events_jorginho['eventId'] == 8]"
   ]
  },
  {
   "cell_type": "code",
   "execution_count": null,
   "metadata": {
    "scrolled": true
   },
   "outputs": [],
   "source": [
    "df_passes_pjanic"
   ]
  },
  {
   "cell_type": "code",
   "execution_count": null,
   "metadata": {},
   "outputs": [],
   "source": [
    "# we check if Pjanic passes were successful or failed\n",
    "\n",
    "pass_state = []\n",
    "\n",
    "for index,row in df_passes_pjanic.iterrows():\n",
    "    for value in row['tags'][-1].values():\n",
    "        if value == 1801:\n",
    "            pass_state.append('successful')\n",
    "        elif value == 1802:\n",
    "            pass_state.append('failed')"
   ]
  },
  {
   "cell_type": "code",
   "execution_count": null,
   "metadata": {},
   "outputs": [],
   "source": [
    "df_passes_pjanic['pass_status'] = pass_state"
   ]
  },
  {
   "cell_type": "code",
   "execution_count": null,
   "metadata": {},
   "outputs": [],
   "source": [
    "# we check if Jorginho passes were successful or failed\n",
    "\n",
    "pass_state = []\n",
    "\n",
    "for index,row in df_passes_jorginho.iterrows():\n",
    "    for value in row['tags'][-1].values():\n",
    "        if value == 1801:\n",
    "            pass_state.append('successful')\n",
    "        elif value == 1802:\n",
    "            pass_state.append('failed')"
   ]
  },
  {
   "cell_type": "code",
   "execution_count": null,
   "metadata": {},
   "outputs": [],
   "source": [
    "df_passes_jorginho['pass_status'] = pass_state"
   ]
  },
  {
   "cell_type": "code",
   "execution_count": null,
   "metadata": {},
   "outputs": [],
   "source": [
    "# we get starting and ending positions for all Pjanic passes using the powerful re library\n",
    "\n",
    "y_start = []\n",
    "x_start = []\n",
    "y_end = []\n",
    "x_end = []\n",
    "\n",
    "for index,row in df_passes_pjanic.iterrows():\n",
    "    int_list = [int(s) for s in re.findall(r'\\b\\d+\\b', str(row['positions']))]\n",
    "    y_start.append(0.8*int_list[0])\n",
    "    x_start.append(1.2*int_list[1])\n",
    "    y_end.append(0.8*int_list[2])\n",
    "    x_end.append(1.2*int_list[3])\n",
    "    \n",
    "df_passes_pjanic['y_start'] = y_start\n",
    "df_passes_pjanic['x_start'] = x_start\n",
    "df_passes_pjanic['y_end'] = y_end\n",
    "df_passes_pjanic['x_end'] = x_end"
   ]
  },
  {
   "cell_type": "code",
   "execution_count": null,
   "metadata": {},
   "outputs": [],
   "source": [
    "# we get starting and ending positions for all Pjanic events using the powerful re library\n",
    "\n",
    "y_start = []\n",
    "x_start = []\n",
    "y_end = []\n",
    "x_end = []\n",
    "\n",
    "for index,row in df_events_pjanic.iterrows():\n",
    "    int_list = [int(s) for s in re.findall(r'\\b\\d+\\b', str(row['positions']))]\n",
    "    y_start.append(0.8*int_list[0])\n",
    "    x_start.append(1.2*int_list[1])\n",
    "    y_end.append(0.8*int_list[2])\n",
    "    x_end.append(1.2*int_list[3])\n",
    "    \n",
    "df_events_pjanic['y_start'] = y_start\n",
    "df_events_pjanic['x_start'] = x_start\n",
    "df_events_pjanic['y_end'] = y_end\n",
    "df_events_pjanic['x_end'] = x_end"
   ]
  },
  {
   "cell_type": "code",
   "execution_count": null,
   "metadata": {},
   "outputs": [],
   "source": [
    "# we create 2 dataframes: one with successful passes and the other with failed ones\n",
    "\n",
    "df_successful_passes_pjanic = df_passes_pjanic[df_passes_pjanic['pass_status'] == 'successful']\n",
    "df_failed_passes_pjanic = df_passes_pjanic[df_passes_pjanic['pass_status'] == 'failed']"
   ]
  },
  {
   "cell_type": "code",
   "execution_count": null,
   "metadata": {},
   "outputs": [],
   "source": [
    "#Pjanic heatmap\n",
    "\n",
    "fig, ax = plt.subplots()\n",
    "fig.set_size_inches(7, 5)\n",
    "#ax=fig.add_subplot(1,1,1)\n",
    "draw_pitch(ax) #overlay our different objects on the pitch\n",
    "plt.title(\"Pjanic Heatmap\")\n",
    "plt.ylim(-2, 82)\n",
    "plt.xlim(-2, 122)\n",
    "plt.axis('on')\n",
    "\n",
    "for i in range(len(df_successful_passes_pjanic)):\n",
    "    # annotate draw an arrow from a current position to pass_end_location\n",
    "    ax.annotate(\"\", xy = (df_successful_passes_pjanic.iloc[i]['x_end'], df_successful_passes_pjanic.iloc[i]['y_end']), xycoords = 'data',\n",
    "               xytext = (df_successful_passes_pjanic.iloc[i]['x_start'], df_successful_passes_pjanic.iloc[i]['y_start']), textcoords = 'data',\n",
    "               arrowprops=dict(arrowstyle=\"->\",connectionstyle=\"arc3\", color = \"blue\"),)\n",
    "    \n",
    "for i in range(len(df_failed_passes_pjanic)):\n",
    "    # annotate draw an arrow from a current position to pass_end_location\n",
    "    ax.annotate(\"\", xy = (df_failed_passes_pjanic.iloc[i]['x_end'], df_failed_passes_pjanic.iloc[i]['y_end']), xycoords = 'data',\n",
    "               xytext = (df_failed_passes_pjanic.iloc[i]['x_start'], df_failed_passes_pjanic.iloc[i]['y_start']), textcoords = 'data',\n",
    "               arrowprops=dict(arrowstyle=\"->\",connectionstyle=\"arc3\", color = \"red\"),)\n",
    "\n",
    "x_coord = df_events_pjanic['x_start'].tolist()\n",
    "y_coord = df_events_pjanic['y_start'].tolist()\n",
    "\n",
    "#shades: give us the heat map we desire\n",
    "# n_levels: draw more lines, the larger n, the more blurry it looks\n",
    "sns.kdeplot(x_coord, y_coord, shade = \"True\", color = \"green\", n_levels = 15)\n",
    "plt.show()\n",
    "\n",
    "print(\"Sucessful pases are in blue and failed ones in red\")"
   ]
  },
  {
   "cell_type": "raw",
   "metadata": {},
   "source": [
    "We notice a very strong presence in the center of the pitch, with was predictible as Pjanic is a central Midfielder (at ease with both 6 and 8 positions). We also notice that Pjanic has only missed 1 (!) pass on the 44 he attempted. This is an excellent performance, even for such a pass master (Pjanic is famous for his passing and free-kick kills) "
   ]
  },
  {
   "cell_type": "code",
   "execution_count": null,
   "metadata": {},
   "outputs": [],
   "source": [
    "#Let's do the same thing for Jorginho"
   ]
  },
  {
   "cell_type": "code",
   "execution_count": null,
   "metadata": {},
   "outputs": [],
   "source": [
    "# we get starting and ending positions for all Jorginho passes using the powerful re library\n",
    "\n",
    "y_start = []\n",
    "x_start = []\n",
    "y_end = []\n",
    "x_end = []\n",
    "\n",
    "for index,row in df_passes_jorginho.iterrows():\n",
    "    int_list = [int(s) for s in re.findall(r'\\b\\d+\\b', str(row['positions']))]\n",
    "    y_start.append(0.8*int_list[0])\n",
    "    x_start.append(1.2*int_list[1])\n",
    "    y_end.append(0.8*int_list[2])\n",
    "    x_end.append(1.2*int_list[3])\n",
    "    \n",
    "df_passes_jorginho['y_start'] = y_start\n",
    "df_passes_jorginho['x_start'] = x_start\n",
    "df_passes_jorginho['y_end'] = y_end\n",
    "df_passes_jorginho['x_end'] = x_end"
   ]
  },
  {
   "cell_type": "code",
   "execution_count": null,
   "metadata": {},
   "outputs": [],
   "source": [
    "# we get starting and ending positions for all Jorginho events using the powerful re library\n",
    "\n",
    "y_start = []\n",
    "x_start = []\n",
    "y_end = []\n",
    "x_end = []\n",
    "\n",
    "for index,row in df_events_jorginho.iterrows():\n",
    "    int_list = [int(s) for s in re.findall(r'\\b\\d+\\b', str(row['positions']))]\n",
    "    y_start.append(0.8*int_list[0])\n",
    "    x_start.append(1.2*int_list[1])\n",
    "    y_end.append(0.8*int_list[2])\n",
    "    x_end.append(1.2*int_list[3])\n",
    "    \n",
    "df_events_jorginho['y_start'] = y_start\n",
    "df_events_jorginho['x_start'] = x_start\n",
    "df_events_jorginho['y_end'] = y_end\n",
    "df_events_jorginho['x_end'] = x_end"
   ]
  },
  {
   "cell_type": "code",
   "execution_count": null,
   "metadata": {},
   "outputs": [],
   "source": [
    "df_successful_passes_jorginho = df_passes_jorginho[df_passes_jorginho['pass_status'] == 'successful']\n",
    "df_failed_passes_jorginho = df_passes_jorginho[df_passes_jorginho['pass_status'] == 'failed']"
   ]
  },
  {
   "cell_type": "code",
   "execution_count": null,
   "metadata": {},
   "outputs": [],
   "source": [
    "#Jorginho heatmap\n",
    "\n",
    "fig, ax = plt.subplots()\n",
    "fig.set_size_inches(7, 5)\n",
    "#ax=fig.add_subplot(1,1,1)\n",
    "draw_pitch(ax) #overlay our different objects on the pitch\n",
    "plt.title(\"Jorginho's Heatmap\")\n",
    "plt.ylim(-2, 82)\n",
    "plt.xlim(-2, 122)\n",
    "plt.axis('on')\n",
    "\n",
    "for i in range(len(df_successful_passes_jorginho)):\n",
    "    # annotate draw an arrow from a current position to pass_end_location\n",
    "    ax.annotate(\"\", xy = (df_successful_passes_jorginho.iloc[i]['x_end'], df_successful_passes_jorginho.iloc[i]['y_end']), xycoords = 'data',\n",
    "               xytext = (df_successful_passes_jorginho.iloc[i]['x_start'], df_successful_passes_jorginho.iloc[i]['y_start']), textcoords = 'data',\n",
    "               arrowprops=dict(arrowstyle=\"->\",connectionstyle=\"arc3\", color = \"blue\"),)\n",
    "    \n",
    "for i in range(len(df_failed_passes_jorginho)):\n",
    "    # annotate draw an arrow from a current position to pass_end_location\n",
    "    ax.annotate(\"\", xy = (df_failed_passes_jorginho.iloc[i]['x_end'], df_failed_passes_jorginho.iloc[i]['y_end']), xycoords = 'data',\n",
    "               xytext = (df_failed_passes_jorginho.iloc[i]['x_start'], df_failed_passes_jorginho.iloc[i]['y_start']), textcoords = 'data',\n",
    "               arrowprops=dict(arrowstyle=\"->\",connectionstyle=\"arc3\", color = \"red\"),)\n",
    "\n",
    "x_coord = df_events_jorginho['x_start'].tolist()\n",
    "y_coord = df_events_jorginho['y_start'].tolist()\n",
    "\n",
    "#shades: give us the heat map we desire\n",
    "# n_levels: draw more lines, the larger n, the more blurry it looks\n",
    "sns.kdeplot(x_coord, y_coord, shade = \"True\", color = \"green\", n_levels = 15)\n",
    "plt.show()\n",
    "\n",
    "print(\"Sucessful passes are in blue and failed ones in red\")"
   ]
  },
  {
   "cell_type": "raw",
   "metadata": {},
   "source": [
    "Jorginho's heatmap hows us that he played at a overall more advanced position than Pjanic, still in midfield but more as a number 8, with a strong preference for the right side of the pitch. \n",
    "We notice a hugh number of passes, with 16 faied passes out of 114. This still gives us a very good ratio, but maybe a little lower than what we are used to with Jorginho (who is known for being one of the most accurate passers in football world).\n",
    "\n",
    "In my opinion this unual high number of failed passes can be explained by Jorginho's high position on the pitch (as a number 8), whereas his favourite position is as a number 6 (a bit lower on the pitch). A higher position means being closer to opponent's goals and having to take more risks when attempting passes to reach your team's forwards."
   ]
  },
  {
   "cell_type": "raw",
   "metadata": {},
   "source": [
    "Overall, Pjanic's better pass accuracy ratio can mainly be explained by:\n",
    "- a smaller number of passes (44 versus 114). Naturally, the more you pass the more you can fail\n",
    "- a lower positon on the pitch and as a result less risky passes (we see on Pjanic's heatmap that contrary to Jorginho, he didn't even try to reach a teammate in the opponent's penalty area)\n",
    "- maybe an unusually high position for Jorginho, who is used to play as a number 6 lower on the pitch"
   ]
  }
 ],
 "metadata": {
  "kernelspec": {
   "display_name": "Python 3",
   "language": "python",
   "name": "python3"
  },
  "language_info": {
   "codemirror_mode": {
    "name": "ipython",
    "version": 3
   },
   "file_extension": ".py",
   "mimetype": "text/x-python",
   "name": "python",
   "nbconvert_exporter": "python",
   "pygments_lexer": "ipython3",
   "version": "3.7.4"
  }
 },
 "nbformat": 4,
 "nbformat_minor": 2
}
