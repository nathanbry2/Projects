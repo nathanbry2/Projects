{
 "cells": [
  {
   "cell_type": "markdown",
   "metadata": {},
   "source": [
    "# Pokemon Project // Data Scraping Part"
   ]
  },
  {
   "cell_type": "code",
   "execution_count": 1,
   "metadata": {},
   "outputs": [],
   "source": [
    "# importing used lbraries and modules\n",
    "\n",
    "import requests\n",
    "from bs4 import BeautifulSoup\n",
    "import pandas as pd\n",
    "import numpy as np\n",
    "import re"
   ]
  },
  {
   "cell_type": "code",
   "execution_count": 2,
   "metadata": {},
   "outputs": [],
   "source": [
    "# we define the web page we are going to parse\n",
    "\n",
    "page = requests.get(\"https://pokemondb.net/pokedex/all\")\n",
    "soup = BeautifulSoup(page.content,'html.parser')"
   ]
  },
  {
   "cell_type": "code",
   "execution_count": 5,
   "metadata": {},
   "outputs": [
    {
     "data": {
      "text/plain": [
       "'001'"
      ]
     },
     "execution_count": 5,
     "metadata": {},
     "output_type": "execute_result"
    }
   ],
   "source": [
    "number_test = soup.find_all('span', class_=\"infocard-cell-data\")[0].get_text()\n",
    "number_test"
   ]
  },
  {
   "cell_type": "markdown",
   "metadata": {},
   "source": [
    "### Pokedex Number"
   ]
  },
  {
   "cell_type": "code",
   "execution_count": 6,
   "metadata": {},
   "outputs": [],
   "source": [
    "# we get the pokedex number for all pokemon\n",
    "\n",
    "pokedex_number = []\n",
    "\n",
    "def get_pokedex_number():\n",
    "    for row in soup.find_all('span', class_=\"infocard-cell-data\"):\n",
    "        text = row.get_text()\n",
    "        num = int(text)\n",
    "        pokedex_number.append(num)"
   ]
  },
  {
   "cell_type": "code",
   "execution_count": 7,
   "metadata": {},
   "outputs": [],
   "source": [
    "get_pokedex_number()"
   ]
  },
  {
   "cell_type": "markdown",
   "metadata": {},
   "source": [
    "### Name"
   ]
  },
  {
   "cell_type": "code",
   "execution_count": 10,
   "metadata": {},
   "outputs": [],
   "source": [
    "# we get the name of all pokemon, and deal with a few exceptions\n",
    "\n",
    "pokemon_name = []\n",
    "\n",
    "def get_pokemon_name():\n",
    "    for row in soup.find_all('a', class_=\"ent-name\"):\n",
    "        name = row.get_text().replace('é','e').replace('è','e')\n",
    "        if name == 'Nidoran♀':\n",
    "            name = 'Nidoran-f'\n",
    "        if name == 'Nidoran♂':\n",
    "            name = 'Nidoran-m'\n",
    "        if name == 'Mr. Mime':\n",
    "            name = 'Mr-Mime'\n",
    "        if name == 'Mime Jr.':\n",
    "            name = 'Mime-Jr'\n",
    "        if name == 'Type: Null':\n",
    "            name = 'Type-Null'\n",
    "            \n",
    "        pokemon_name.append(name)"
   ]
  },
  {
   "cell_type": "code",
   "execution_count": 11,
   "metadata": {},
   "outputs": [],
   "source": [
    "get_pokemon_name()"
   ]
  },
  {
   "cell_type": "code",
   "execution_count": 13,
   "metadata": {},
   "outputs": [],
   "source": [
    "# we create a dataframe with the 2 lists we've previously created\n",
    "\n",
    "df_pokemon = pd.DataFrame(list(zip(pokedex_number, pokemon_name)), columns = ['Pokedex Number', 'Name'])"
   ]
  },
  {
   "cell_type": "code",
   "execution_count": 14,
   "metadata": {},
   "outputs": [
    {
     "data": {
      "text/html": [
       "<div>\n",
       "<style scoped>\n",
       "    .dataframe tbody tr th:only-of-type {\n",
       "        vertical-align: middle;\n",
       "    }\n",
       "\n",
       "    .dataframe tbody tr th {\n",
       "        vertical-align: top;\n",
       "    }\n",
       "\n",
       "    .dataframe thead th {\n",
       "        text-align: right;\n",
       "    }\n",
       "</style>\n",
       "<table border=\"1\" class=\"dataframe\">\n",
       "  <thead>\n",
       "    <tr style=\"text-align: right;\">\n",
       "      <th></th>\n",
       "      <th>Pokedex Number</th>\n",
       "      <th>Name</th>\n",
       "    </tr>\n",
       "  </thead>\n",
       "  <tbody>\n",
       "    <tr>\n",
       "      <td>0</td>\n",
       "      <td>1</td>\n",
       "      <td>Bulbasaur</td>\n",
       "    </tr>\n",
       "    <tr>\n",
       "      <td>1</td>\n",
       "      <td>2</td>\n",
       "      <td>Ivysaur</td>\n",
       "    </tr>\n",
       "    <tr>\n",
       "      <td>2</td>\n",
       "      <td>3</td>\n",
       "      <td>Venusaur</td>\n",
       "    </tr>\n",
       "    <tr>\n",
       "      <td>3</td>\n",
       "      <td>3</td>\n",
       "      <td>Venusaur</td>\n",
       "    </tr>\n",
       "    <tr>\n",
       "      <td>4</td>\n",
       "      <td>4</td>\n",
       "      <td>Charmander</td>\n",
       "    </tr>\n",
       "    <tr>\n",
       "      <td>...</td>\n",
       "      <td>...</td>\n",
       "      <td>...</td>\n",
       "    </tr>\n",
       "    <tr>\n",
       "      <td>921</td>\n",
       "      <td>805</td>\n",
       "      <td>Stakataka</td>\n",
       "    </tr>\n",
       "    <tr>\n",
       "      <td>922</td>\n",
       "      <td>806</td>\n",
       "      <td>Blacephalon</td>\n",
       "    </tr>\n",
       "    <tr>\n",
       "      <td>923</td>\n",
       "      <td>807</td>\n",
       "      <td>Zeraora</td>\n",
       "    </tr>\n",
       "    <tr>\n",
       "      <td>924</td>\n",
       "      <td>808</td>\n",
       "      <td>Meltan</td>\n",
       "    </tr>\n",
       "    <tr>\n",
       "      <td>925</td>\n",
       "      <td>809</td>\n",
       "      <td>Melmetal</td>\n",
       "    </tr>\n",
       "  </tbody>\n",
       "</table>\n",
       "<p>926 rows × 2 columns</p>\n",
       "</div>"
      ],
      "text/plain": [
       "     Pokedex Number         Name\n",
       "0                 1    Bulbasaur\n",
       "1                 2      Ivysaur\n",
       "2                 3     Venusaur\n",
       "3                 3     Venusaur\n",
       "4                 4   Charmander\n",
       "..              ...          ...\n",
       "921             805    Stakataka\n",
       "922             806  Blacephalon\n",
       "923             807      Zeraora\n",
       "924             808       Meltan\n",
       "925             809     Melmetal\n",
       "\n",
       "[926 rows x 2 columns]"
      ]
     },
     "execution_count": 14,
     "metadata": {},
     "output_type": "execute_result"
    }
   ],
   "source": [
    "df_pokemon"
   ]
  },
  {
   "cell_type": "markdown",
   "metadata": {},
   "source": [
    "### URL"
   ]
  },
  {
   "cell_type": "code",
   "execution_count": 15,
   "metadata": {},
   "outputs": [],
   "source": [
    "# we define the url of all pokemon pages\n",
    "\n",
    "url_list = []\n",
    "base_url = \"https://pokemondb.net/pokedex/\"\n",
    "\n",
    "for index, row in df_pokemon.iterrows():\n",
    "    url = base_url + row['Name'].lower().replace(' ','-')\n",
    "    url_list.append(url)"
   ]
  },
  {
   "cell_type": "code",
   "execution_count": 17,
   "metadata": {},
   "outputs": [],
   "source": [
    "# and we store these url in our dataframe\n",
    "\n",
    "df_pokemon['URL'] = url_list"
   ]
  },
  {
   "cell_type": "markdown",
   "metadata": {},
   "source": [
    "### Types"
   ]
  },
  {
   "cell_type": "code",
   "execution_count": 19,
   "metadata": {},
   "outputs": [],
   "source": [
    "pagetest = requests.get(\"https://pokemondb.net/pokedex/mr-mime\")\n",
    "souptest = BeautifulSoup(pagetest.content,'html.parser')"
   ]
  },
  {
   "cell_type": "code",
   "execution_count": 20,
   "metadata": {},
   "outputs": [
    {
     "data": {
      "text/plain": [
       "['Psychic', 'Fairy']"
      ]
     },
     "execution_count": 20,
     "metadata": {},
     "output_type": "execute_result"
    }
   ],
   "source": [
    "souptest.find_all('tr')[1].find('td').get_text().strip().split(\" \")"
   ]
  },
  {
   "cell_type": "code",
   "execution_count": 21,
   "metadata": {},
   "outputs": [],
   "source": [
    "# we get the types for all pokemon (all pokemon have either 1 or 2 types)\n",
    "\n",
    "type1 = []\n",
    "type2 = []\n",
    "\n",
    "def get_types():\n",
    "    for index, row in df_pokemon.iterrows():\n",
    "        page = requests.get(str(row['URL']))\n",
    "        soup  = BeautifulSoup(page.content,'html.parser')\n",
    "        types = soup.find_all('tr')[1].find('td').get_text().strip().split(\" \")\n",
    "        type1.append(types[0])\n",
    "        if len(types) == 1:\n",
    "            type2.append(\"None\")\n",
    "        else:\n",
    "            type2.append(types[1])"
   ]
  },
  {
   "cell_type": "code",
   "execution_count": 22,
   "metadata": {
    "scrolled": true
   },
   "outputs": [],
   "source": [
    "get_types()"
   ]
  },
  {
   "cell_type": "code",
   "execution_count": 24,
   "metadata": {},
   "outputs": [],
   "source": [
    "df_pokemon['Type1'] = type1\n",
    "df_pokemon['Type2'] = type2"
   ]
  },
  {
   "cell_type": "markdown",
   "metadata": {},
   "source": [
    "### Height"
   ]
  },
  {
   "cell_type": "code",
   "execution_count": 26,
   "metadata": {},
   "outputs": [],
   "source": [
    "raw_height = souptest.find_all('tr')[3].find('td').get_text()"
   ]
  },
  {
   "cell_type": "code",
   "execution_count": 27,
   "metadata": {},
   "outputs": [
    {
     "data": {
      "text/plain": [
       "1.3"
      ]
     },
     "execution_count": 27,
     "metadata": {},
     "output_type": "execute_result"
    }
   ],
   "source": [
    "float(re.findall(\"\\d+\\.\\d+\", raw_height)[0])"
   ]
  },
  {
   "cell_type": "code",
   "execution_count": 28,
   "metadata": {},
   "outputs": [],
   "source": [
    "# we parse all pokemon personal pages and get the pokemon's height (in m)\n",
    "\n",
    "height_list = []\n",
    "\n",
    "def get_height():\n",
    "    for index, row in df_pokemon.iterrows():\n",
    "        page = requests.get(str(row['URL']))\n",
    "        soup  = BeautifulSoup(page.content,'html.parser')\n",
    "        raw_height = soup.find_all('tr')[3].find('td').get_text()\n",
    "        height = float(re.findall(\"\\d+\\.\\d+\", raw_height)[0])\n",
    "        height_list.append(height)"
   ]
  },
  {
   "cell_type": "code",
   "execution_count": 29,
   "metadata": {},
   "outputs": [],
   "source": [
    "get_height()"
   ]
  },
  {
   "cell_type": "markdown",
   "metadata": {},
   "source": [
    "### Weight"
   ]
  },
  {
   "cell_type": "code",
   "execution_count": 31,
   "metadata": {},
   "outputs": [],
   "source": [
    "raw_weight = souptest.find_all('tr')[4].find('td').get_text()"
   ]
  },
  {
   "cell_type": "code",
   "execution_count": 32,
   "metadata": {},
   "outputs": [
    {
     "data": {
      "text/plain": [
       "54.5"
      ]
     },
     "execution_count": 32,
     "metadata": {},
     "output_type": "execute_result"
    }
   ],
   "source": [
    "float(re.findall(\"\\d+\\.\\d+\", raw_weight)[0])"
   ]
  },
  {
   "cell_type": "code",
   "execution_count": 33,
   "metadata": {},
   "outputs": [],
   "source": [
    "# we parse all pokemon personal pages and get the pokemon's weight (in kg)\n",
    "\n",
    "weight_list = []\n",
    "\n",
    "def get_weight():\n",
    "    for index, row in df_pokemon.iterrows():\n",
    "        page = requests.get(str(row['URL']))\n",
    "        soup  = BeautifulSoup(page.content,'html.parser')\n",
    "        raw_weight = soup.find_all('tr')[4].find('td').get_text()\n",
    "        weight = float(re.findall(\"\\d+\\.\\d+\", raw_weight)[0])\n",
    "        weight_list.append(weight)"
   ]
  },
  {
   "cell_type": "code",
   "execution_count": 34,
   "metadata": {},
   "outputs": [],
   "source": [
    "get_weight()"
   ]
  },
  {
   "cell_type": "code",
   "execution_count": 36,
   "metadata": {},
   "outputs": [],
   "source": [
    "# and we store these info in our dataframe\n",
    "\n",
    "df_pokemon['Height'] = height_list\n",
    "df_pokemon['Weight'] = weight_list"
   ]
  },
  {
   "cell_type": "code",
   "execution_count": null,
   "metadata": {},
   "outputs": [],
   "source": []
  },
  {
   "cell_type": "markdown",
   "metadata": {},
   "source": [
    "### HP"
   ]
  },
  {
   "cell_type": "code",
   "execution_count": 38,
   "metadata": {},
   "outputs": [],
   "source": [
    "pagetest= requests.get(\"https://pokemondb.net/pokedex/salamence\")\n",
    "souptest = BeautifulSoup(pagetest.content,'html.parser')"
   ]
  },
  {
   "cell_type": "code",
   "execution_count": 39,
   "metadata": {},
   "outputs": [
    {
     "data": {
      "text/plain": [
       "'95'"
      ]
     },
     "execution_count": 39,
     "metadata": {},
     "output_type": "execute_result"
    }
   ],
   "source": [
    "souptest.find_all('tr')[15].find_all('td')[-4].get_text()"
   ]
  },
  {
   "cell_type": "code",
   "execution_count": 40,
   "metadata": {},
   "outputs": [],
   "source": [
    "# we parse all pokemon personal pages and get the pokemon's base HP (at lvl 1), \n",
    "# min HP (at lvl 100) and max HP (at lvl 100)\n",
    "\n",
    "base_HP_list = []\n",
    "min_HP_list = []\n",
    "max_HP_list = []\n",
    "\n",
    "def get_HP():\n",
    "    for index, row in df_pokemon.iterrows():\n",
    "        page = requests.get(str(row['URL']))\n",
    "        soup  = BeautifulSoup(page.content,'html.parser')\n",
    "        base_HP = soup.find_all('tr')[15].find_all('td')[-4].get_text()\n",
    "        min_HP = soup.find_all('tr')[15].find_all('td')[-2].get_text()\n",
    "        max_HP = soup.find_all('tr')[15].find_all('td')[-1].get_text()\n",
    "        base_HP_list.append(int(base_HP))\n",
    "        min_HP_list.append(int(min_HP))\n",
    "        max_HP_list.append(int(max_HP))"
   ]
  },
  {
   "cell_type": "code",
   "execution_count": 41,
   "metadata": {},
   "outputs": [],
   "source": [
    "get_HP()"
   ]
  },
  {
   "cell_type": "code",
   "execution_count": 42,
   "metadata": {},
   "outputs": [],
   "source": [
    "# and we store these stats in our dataframe\n",
    "\n",
    "df_pokemon['Base HP'] = base_HP_list\n",
    "df_pokemon['Min HP'] = min_HP_list\n",
    "df_pokemon['Max HP'] = max_HP_list"
   ]
  },
  {
   "cell_type": "markdown",
   "metadata": {},
   "source": [
    "### Attack"
   ]
  },
  {
   "cell_type": "code",
   "execution_count": 44,
   "metadata": {},
   "outputs": [],
   "source": [
    "# we parse all pokemon personal pages and get the pokemon's base Attack (at lvl 1), \n",
    "# min Attack (at lvl 100) and max Attack (at lvl 100)\n",
    "\n",
    "base_attack_list = []\n",
    "min_attack_list = []\n",
    "max_attack_list = []\n",
    "\n",
    "def get_attack():\n",
    "    for index, row in df_pokemon.iterrows():\n",
    "        page = requests.get(str(row['URL']))\n",
    "        soup  = BeautifulSoup(page.content,'html.parser')\n",
    "        base_attack = soup.find_all('tr')[16].find_all('td')[-4].get_text()\n",
    "        min_attack = soup.find_all('tr')[16].find_all('td')[-2].get_text()\n",
    "        max_attack = soup.find_all('tr')[16].find_all('td')[-1].get_text()\n",
    "        base_attack_list.append(int(base_attack))\n",
    "        min_attack_list.append(int(min_attack))\n",
    "        max_attack_list.append(int(max_attack))"
   ]
  },
  {
   "cell_type": "code",
   "execution_count": 45,
   "metadata": {},
   "outputs": [],
   "source": [
    "get_attack()"
   ]
  },
  {
   "cell_type": "code",
   "execution_count": 46,
   "metadata": {},
   "outputs": [],
   "source": [
    "# and we store these stats in our dataframe\n",
    "\n",
    "df_pokemon['Base Attack'] = base_attack_list\n",
    "df_pokemon['Min Attack'] = min_attack_list\n",
    "df_pokemon['Max Attack'] = max_attack_list"
   ]
  },
  {
   "cell_type": "markdown",
   "metadata": {},
   "source": [
    "### Defense"
   ]
  },
  {
   "cell_type": "code",
   "execution_count": 47,
   "metadata": {},
   "outputs": [],
   "source": [
    "# we parse all pokemon personal pages and get the pokemon's base Defense (at lvl 1), \n",
    "# min Defense (at lvl 100) and max Defense (at lvl 100)\n",
    "\n",
    "base_defense_list = []\n",
    "min_defense_list = []\n",
    "max_defense_list = []\n",
    "\n",
    "def get_defense():\n",
    "    for index, row in df_pokemon.iterrows():\n",
    "        page = requests.get(str(row['URL']))\n",
    "        soup  = BeautifulSoup(page.content,'html.parser')\n",
    "        base_defense = soup.find_all('tr')[17].find_all('td')[-4].get_text()\n",
    "        min_defense = soup.find_all('tr')[17].find_all('td')[-2].get_text()\n",
    "        max_defense = soup.find_all('tr')[17].find_all('td')[-1].get_text()\n",
    "        base_defense_list.append(int(base_defense))\n",
    "        min_defense_list.append(int(min_defense))\n",
    "        max_defense_list.append(int(max_defense))"
   ]
  },
  {
   "cell_type": "code",
   "execution_count": 48,
   "metadata": {},
   "outputs": [],
   "source": [
    "get_defense()"
   ]
  },
  {
   "cell_type": "code",
   "execution_count": 49,
   "metadata": {},
   "outputs": [],
   "source": [
    "# and we store these stats in our dataframe\n",
    "\n",
    "df_pokemon['Base Defense'] = base_defense_list\n",
    "df_pokemon['Min Defense'] = min_defense_list\n",
    "df_pokemon['Max Defense'] = max_defense_list"
   ]
  },
  {
   "cell_type": "markdown",
   "metadata": {},
   "source": [
    "### Sp. Attack"
   ]
  },
  {
   "cell_type": "code",
   "execution_count": 51,
   "metadata": {},
   "outputs": [],
   "source": [
    "# we parse all pokemon personal pages and get the pokemon's base Sp. Attack (at lvl 1), \n",
    "# min Sp. Attack (at lvl 100) and max Sp. Attack (at lvl 100)\n",
    "\n",
    "base_sp_attack_list = []\n",
    "min_sp_attack_list = []\n",
    "max_sp_attack_list = []\n",
    "\n",
    "def get_sp_attack():\n",
    "    for index, row in df_pokemon.iterrows():\n",
    "        page = requests.get(str(row['URL']))\n",
    "        soup  = BeautifulSoup(page.content,'html.parser')\n",
    "        base_sp_attack = soup.find_all('tr')[18].find_all('td')[-4].get_text()\n",
    "        min_sp_attack = soup.find_all('tr')[18].find_all('td')[-2].get_text()\n",
    "        max_sp_attack = soup.find_all('tr')[18].find_all('td')[-1].get_text()\n",
    "        base_sp_attack_list.append(int(base_sp_attack))\n",
    "        min_sp_attack_list.append(int(min_sp_attack))\n",
    "        max_sp_attack_list.append(int(max_sp_attack))"
   ]
  },
  {
   "cell_type": "code",
   "execution_count": 52,
   "metadata": {},
   "outputs": [],
   "source": [
    "get_sp_attack()"
   ]
  },
  {
   "cell_type": "code",
   "execution_count": 53,
   "metadata": {},
   "outputs": [],
   "source": [
    "# and we store these stats in our dataframe\n",
    "\n",
    "df_pokemon['Base Sp. Attack'] = base_sp_attack_list\n",
    "df_pokemon['Min Sp. Attack'] = min_sp_attack_list\n",
    "df_pokemon['Max Sp. Attack'] = max_sp_attack_list"
   ]
  },
  {
   "cell_type": "markdown",
   "metadata": {},
   "source": [
    "### Sp. Defense"
   ]
  },
  {
   "cell_type": "code",
   "execution_count": 55,
   "metadata": {},
   "outputs": [],
   "source": [
    "# we parse all pokemon personal pages and get the pokemon's base Sp. Defense (at lvl 1), \n",
    "# min Sp. Defense (at lvl 100) and max Sp. Defense (at lvl 100)\n",
    "\n",
    "base_sp_defense_list = []\n",
    "min_sp_defense_list = []\n",
    "max_sp_defense_list = []\n",
    "\n",
    "def get_sp_defense():\n",
    "    for index, row in df_pokemon.iterrows():\n",
    "        page = requests.get(str(row['URL']))\n",
    "        soup  = BeautifulSoup(page.content,'html.parser')\n",
    "        base_sp_defense = soup.find_all('tr')[19].find_all('td')[-4].get_text()\n",
    "        min_sp_defense = soup.find_all('tr')[19].find_all('td')[-2].get_text()\n",
    "        max_sp_defense = soup.find_all('tr')[19].find_all('td')[-1].get_text()\n",
    "        base_sp_defense_list.append(int(base_sp_defense))\n",
    "        min_sp_defense_list.append(int(min_sp_defense))\n",
    "        max_sp_defense_list.append(int(max_sp_defense))"
   ]
  },
  {
   "cell_type": "code",
   "execution_count": 56,
   "metadata": {},
   "outputs": [],
   "source": [
    "get_sp_defense()"
   ]
  },
  {
   "cell_type": "code",
   "execution_count": 57,
   "metadata": {},
   "outputs": [],
   "source": [
    "# and we store these stats in our dataframe\n",
    "\n",
    "df_pokemon['Base Sp. Defense'] = base_sp_defense_list\n",
    "df_pokemon['Min Sp. Defense'] = min_sp_defense_list\n",
    "df_pokemon['Max Sp. Defense'] = max_sp_defense_list"
   ]
  },
  {
   "cell_type": "markdown",
   "metadata": {},
   "source": [
    "### Speed"
   ]
  },
  {
   "cell_type": "code",
   "execution_count": 59,
   "metadata": {},
   "outputs": [],
   "source": [
    "# we parse all pokemon personal pages and get the pokemon's base Speed (at lvl 1), \n",
    "# min Speed (at lvl 100) and max Speed (at lvl 100)\n",
    "\n",
    "base_speed_list = []\n",
    "min_speed_list = []\n",
    "max_speed_list = []\n",
    "\n",
    "def get_speed():\n",
    "    for index, row in df_pokemon.iterrows():\n",
    "        page = requests.get(str(row['URL']))\n",
    "        soup  = BeautifulSoup(page.content,'html.parser')\n",
    "        base_speed = soup.find_all('tr')[20].find_all('td')[-4].get_text()\n",
    "        min_speed = soup.find_all('tr')[20].find_all('td')[-2].get_text()\n",
    "        max_speed = soup.find_all('tr')[20].find_all('td')[-1].get_text()\n",
    "        base_speed_list.append(int(base_speed))\n",
    "        min_speed_list.append(int(min_speed))\n",
    "        max_speed_list.append(int(max_speed))"
   ]
  },
  {
   "cell_type": "code",
   "execution_count": 60,
   "metadata": {},
   "outputs": [],
   "source": [
    "get_speed()"
   ]
  },
  {
   "cell_type": "code",
   "execution_count": 61,
   "metadata": {},
   "outputs": [],
   "source": [
    "# and we store these stats in our dataframe\n",
    "\n",
    "df_pokemon['Base Speed'] = base_speed_list\n",
    "df_pokemon['Min Speed'] = min_speed_list\n",
    "df_pokemon['Max Speed'] = max_speed_list"
   ]
  },
  {
   "cell_type": "code",
   "execution_count": 63,
   "metadata": {},
   "outputs": [],
   "source": [
    "# we don't want the \"Mega\" forms of our pokemon (around 100 values out of 900), so we drop them\n",
    "\n",
    "df_pokemon = df_pokemon.drop_duplicates(subset=None, keep='first', inplace=False).reset_index(drop=True)"
   ]
  },
  {
   "cell_type": "code",
   "execution_count": 64,
   "metadata": {},
   "outputs": [
    {
     "data": {
      "text/html": [
       "<div>\n",
       "<style scoped>\n",
       "    .dataframe tbody tr th:only-of-type {\n",
       "        vertical-align: middle;\n",
       "    }\n",
       "\n",
       "    .dataframe tbody tr th {\n",
       "        vertical-align: top;\n",
       "    }\n",
       "\n",
       "    .dataframe thead th {\n",
       "        text-align: right;\n",
       "    }\n",
       "</style>\n",
       "<table border=\"1\" class=\"dataframe\">\n",
       "  <thead>\n",
       "    <tr style=\"text-align: right;\">\n",
       "      <th></th>\n",
       "      <th>Pokedex Number</th>\n",
       "      <th>Name</th>\n",
       "      <th>URL</th>\n",
       "      <th>Type1</th>\n",
       "      <th>Type2</th>\n",
       "      <th>Height</th>\n",
       "      <th>Weight</th>\n",
       "      <th>Base HP</th>\n",
       "      <th>Min HP</th>\n",
       "      <th>Max HP</th>\n",
       "      <th>...</th>\n",
       "      <th>Max Defense</th>\n",
       "      <th>Base Sp. Attack</th>\n",
       "      <th>Min Sp. Attack</th>\n",
       "      <th>Max Sp. Attack</th>\n",
       "      <th>Base Sp. Defense</th>\n",
       "      <th>Min Sp. Defense</th>\n",
       "      <th>Max Sp. Defense</th>\n",
       "      <th>Base Speed</th>\n",
       "      <th>Min Speed</th>\n",
       "      <th>Max Speed</th>\n",
       "    </tr>\n",
       "  </thead>\n",
       "  <tbody>\n",
       "    <tr>\n",
       "      <td>0</td>\n",
       "      <td>1</td>\n",
       "      <td>Bulbasaur</td>\n",
       "      <td>https://pokemondb.net/pokedex/bulbasaur</td>\n",
       "      <td>Grass</td>\n",
       "      <td>Poison</td>\n",
       "      <td>0.7</td>\n",
       "      <td>6.9</td>\n",
       "      <td>45</td>\n",
       "      <td>200</td>\n",
       "      <td>294</td>\n",
       "      <td>...</td>\n",
       "      <td>216</td>\n",
       "      <td>65</td>\n",
       "      <td>121</td>\n",
       "      <td>251</td>\n",
       "      <td>65</td>\n",
       "      <td>121</td>\n",
       "      <td>251</td>\n",
       "      <td>45</td>\n",
       "      <td>85</td>\n",
       "      <td>207</td>\n",
       "    </tr>\n",
       "    <tr>\n",
       "      <td>1</td>\n",
       "      <td>2</td>\n",
       "      <td>Ivysaur</td>\n",
       "      <td>https://pokemondb.net/pokedex/ivysaur</td>\n",
       "      <td>Grass</td>\n",
       "      <td>Poison</td>\n",
       "      <td>1.0</td>\n",
       "      <td>13.0</td>\n",
       "      <td>60</td>\n",
       "      <td>230</td>\n",
       "      <td>324</td>\n",
       "      <td>...</td>\n",
       "      <td>247</td>\n",
       "      <td>80</td>\n",
       "      <td>148</td>\n",
       "      <td>284</td>\n",
       "      <td>80</td>\n",
       "      <td>148</td>\n",
       "      <td>284</td>\n",
       "      <td>60</td>\n",
       "      <td>112</td>\n",
       "      <td>240</td>\n",
       "    </tr>\n",
       "    <tr>\n",
       "      <td>2</td>\n",
       "      <td>3</td>\n",
       "      <td>Venusaur</td>\n",
       "      <td>https://pokemondb.net/pokedex/venusaur</td>\n",
       "      <td>Grass</td>\n",
       "      <td>Poison</td>\n",
       "      <td>2.0</td>\n",
       "      <td>100.0</td>\n",
       "      <td>80</td>\n",
       "      <td>270</td>\n",
       "      <td>364</td>\n",
       "      <td>...</td>\n",
       "      <td>291</td>\n",
       "      <td>100</td>\n",
       "      <td>184</td>\n",
       "      <td>328</td>\n",
       "      <td>100</td>\n",
       "      <td>184</td>\n",
       "      <td>328</td>\n",
       "      <td>80</td>\n",
       "      <td>148</td>\n",
       "      <td>284</td>\n",
       "    </tr>\n",
       "    <tr>\n",
       "      <td>3</td>\n",
       "      <td>4</td>\n",
       "      <td>Charmander</td>\n",
       "      <td>https://pokemondb.net/pokedex/charmander</td>\n",
       "      <td>Fire</td>\n",
       "      <td>None</td>\n",
       "      <td>0.6</td>\n",
       "      <td>8.5</td>\n",
       "      <td>39</td>\n",
       "      <td>188</td>\n",
       "      <td>282</td>\n",
       "      <td>...</td>\n",
       "      <td>203</td>\n",
       "      <td>60</td>\n",
       "      <td>112</td>\n",
       "      <td>240</td>\n",
       "      <td>50</td>\n",
       "      <td>94</td>\n",
       "      <td>218</td>\n",
       "      <td>65</td>\n",
       "      <td>121</td>\n",
       "      <td>251</td>\n",
       "    </tr>\n",
       "    <tr>\n",
       "      <td>4</td>\n",
       "      <td>5</td>\n",
       "      <td>Charmeleon</td>\n",
       "      <td>https://pokemondb.net/pokedex/charmeleon</td>\n",
       "      <td>Fire</td>\n",
       "      <td>None</td>\n",
       "      <td>1.1</td>\n",
       "      <td>19.0</td>\n",
       "      <td>58</td>\n",
       "      <td>226</td>\n",
       "      <td>320</td>\n",
       "      <td>...</td>\n",
       "      <td>236</td>\n",
       "      <td>80</td>\n",
       "      <td>148</td>\n",
       "      <td>284</td>\n",
       "      <td>65</td>\n",
       "      <td>121</td>\n",
       "      <td>251</td>\n",
       "      <td>80</td>\n",
       "      <td>148</td>\n",
       "      <td>284</td>\n",
       "    </tr>\n",
       "    <tr>\n",
       "      <td>...</td>\n",
       "      <td>...</td>\n",
       "      <td>...</td>\n",
       "      <td>...</td>\n",
       "      <td>...</td>\n",
       "      <td>...</td>\n",
       "      <td>...</td>\n",
       "      <td>...</td>\n",
       "      <td>...</td>\n",
       "      <td>...</td>\n",
       "      <td>...</td>\n",
       "      <td>...</td>\n",
       "      <td>...</td>\n",
       "      <td>...</td>\n",
       "      <td>...</td>\n",
       "      <td>...</td>\n",
       "      <td>...</td>\n",
       "      <td>...</td>\n",
       "      <td>...</td>\n",
       "      <td>...</td>\n",
       "      <td>...</td>\n",
       "      <td>...</td>\n",
       "    </tr>\n",
       "    <tr>\n",
       "      <td>804</td>\n",
       "      <td>805</td>\n",
       "      <td>Stakataka</td>\n",
       "      <td>https://pokemondb.net/pokedex/stakataka</td>\n",
       "      <td>Rock</td>\n",
       "      <td>Steel</td>\n",
       "      <td>5.5</td>\n",
       "      <td>820.0</td>\n",
       "      <td>61</td>\n",
       "      <td>232</td>\n",
       "      <td>326</td>\n",
       "      <td>...</td>\n",
       "      <td>573</td>\n",
       "      <td>53</td>\n",
       "      <td>99</td>\n",
       "      <td>225</td>\n",
       "      <td>101</td>\n",
       "      <td>186</td>\n",
       "      <td>331</td>\n",
       "      <td>13</td>\n",
       "      <td>27</td>\n",
       "      <td>137</td>\n",
       "    </tr>\n",
       "    <tr>\n",
       "      <td>805</td>\n",
       "      <td>806</td>\n",
       "      <td>Blacephalon</td>\n",
       "      <td>https://pokemondb.net/pokedex/blacephalon</td>\n",
       "      <td>Fire</td>\n",
       "      <td>Ghost</td>\n",
       "      <td>1.8</td>\n",
       "      <td>13.0</td>\n",
       "      <td>53</td>\n",
       "      <td>216</td>\n",
       "      <td>310</td>\n",
       "      <td>...</td>\n",
       "      <td>225</td>\n",
       "      <td>151</td>\n",
       "      <td>276</td>\n",
       "      <td>441</td>\n",
       "      <td>79</td>\n",
       "      <td>146</td>\n",
       "      <td>282</td>\n",
       "      <td>107</td>\n",
       "      <td>197</td>\n",
       "      <td>344</td>\n",
       "    </tr>\n",
       "    <tr>\n",
       "      <td>806</td>\n",
       "      <td>807</td>\n",
       "      <td>Zeraora</td>\n",
       "      <td>https://pokemondb.net/pokedex/zeraora</td>\n",
       "      <td>Electric</td>\n",
       "      <td>None</td>\n",
       "      <td>1.5</td>\n",
       "      <td>44.5</td>\n",
       "      <td>88</td>\n",
       "      <td>286</td>\n",
       "      <td>380</td>\n",
       "      <td>...</td>\n",
       "      <td>273</td>\n",
       "      <td>102</td>\n",
       "      <td>188</td>\n",
       "      <td>333</td>\n",
       "      <td>80</td>\n",
       "      <td>148</td>\n",
       "      <td>284</td>\n",
       "      <td>143</td>\n",
       "      <td>261</td>\n",
       "      <td>423</td>\n",
       "    </tr>\n",
       "    <tr>\n",
       "      <td>807</td>\n",
       "      <td>808</td>\n",
       "      <td>Meltan</td>\n",
       "      <td>https://pokemondb.net/pokedex/meltan</td>\n",
       "      <td>Steel</td>\n",
       "      <td>None</td>\n",
       "      <td>0.2</td>\n",
       "      <td>8.0</td>\n",
       "      <td>46</td>\n",
       "      <td>202</td>\n",
       "      <td>296</td>\n",
       "      <td>...</td>\n",
       "      <td>251</td>\n",
       "      <td>55</td>\n",
       "      <td>103</td>\n",
       "      <td>229</td>\n",
       "      <td>35</td>\n",
       "      <td>67</td>\n",
       "      <td>185</td>\n",
       "      <td>34</td>\n",
       "      <td>65</td>\n",
       "      <td>183</td>\n",
       "    </tr>\n",
       "    <tr>\n",
       "      <td>808</td>\n",
       "      <td>809</td>\n",
       "      <td>Melmetal</td>\n",
       "      <td>https://pokemondb.net/pokedex/melmetal</td>\n",
       "      <td>Steel</td>\n",
       "      <td>None</td>\n",
       "      <td>2.5</td>\n",
       "      <td>800.0</td>\n",
       "      <td>135</td>\n",
       "      <td>380</td>\n",
       "      <td>474</td>\n",
       "      <td>...</td>\n",
       "      <td>423</td>\n",
       "      <td>80</td>\n",
       "      <td>148</td>\n",
       "      <td>284</td>\n",
       "      <td>65</td>\n",
       "      <td>121</td>\n",
       "      <td>251</td>\n",
       "      <td>34</td>\n",
       "      <td>65</td>\n",
       "      <td>183</td>\n",
       "    </tr>\n",
       "  </tbody>\n",
       "</table>\n",
       "<p>809 rows × 25 columns</p>\n",
       "</div>"
      ],
      "text/plain": [
       "     Pokedex Number         Name                                        URL  \\\n",
       "0                 1    Bulbasaur    https://pokemondb.net/pokedex/bulbasaur   \n",
       "1                 2      Ivysaur      https://pokemondb.net/pokedex/ivysaur   \n",
       "2                 3     Venusaur     https://pokemondb.net/pokedex/venusaur   \n",
       "3                 4   Charmander   https://pokemondb.net/pokedex/charmander   \n",
       "4                 5   Charmeleon   https://pokemondb.net/pokedex/charmeleon   \n",
       "..              ...          ...                                        ...   \n",
       "804             805    Stakataka    https://pokemondb.net/pokedex/stakataka   \n",
       "805             806  Blacephalon  https://pokemondb.net/pokedex/blacephalon   \n",
       "806             807      Zeraora      https://pokemondb.net/pokedex/zeraora   \n",
       "807             808       Meltan       https://pokemondb.net/pokedex/meltan   \n",
       "808             809     Melmetal     https://pokemondb.net/pokedex/melmetal   \n",
       "\n",
       "        Type1   Type2  Height  Weight  Base HP  Min HP  Max HP  ...  \\\n",
       "0       Grass  Poison     0.7     6.9       45     200     294  ...   \n",
       "1       Grass  Poison     1.0    13.0       60     230     324  ...   \n",
       "2       Grass  Poison     2.0   100.0       80     270     364  ...   \n",
       "3        Fire    None     0.6     8.5       39     188     282  ...   \n",
       "4        Fire    None     1.1    19.0       58     226     320  ...   \n",
       "..        ...     ...     ...     ...      ...     ...     ...  ...   \n",
       "804      Rock   Steel     5.5   820.0       61     232     326  ...   \n",
       "805      Fire   Ghost     1.8    13.0       53     216     310  ...   \n",
       "806  Electric    None     1.5    44.5       88     286     380  ...   \n",
       "807     Steel    None     0.2     8.0       46     202     296  ...   \n",
       "808     Steel    None     2.5   800.0      135     380     474  ...   \n",
       "\n",
       "     Max Defense  Base Sp. Attack  Min Sp. Attack  Max Sp. Attack  \\\n",
       "0            216               65             121             251   \n",
       "1            247               80             148             284   \n",
       "2            291              100             184             328   \n",
       "3            203               60             112             240   \n",
       "4            236               80             148             284   \n",
       "..           ...              ...             ...             ...   \n",
       "804          573               53              99             225   \n",
       "805          225              151             276             441   \n",
       "806          273              102             188             333   \n",
       "807          251               55             103             229   \n",
       "808          423               80             148             284   \n",
       "\n",
       "     Base Sp. Defense  Min Sp. Defense  Max Sp. Defense  Base Speed  \\\n",
       "0                  65              121              251          45   \n",
       "1                  80              148              284          60   \n",
       "2                 100              184              328          80   \n",
       "3                  50               94              218          65   \n",
       "4                  65              121              251          80   \n",
       "..                ...              ...              ...         ...   \n",
       "804               101              186              331          13   \n",
       "805                79              146              282         107   \n",
       "806                80              148              284         143   \n",
       "807                35               67              185          34   \n",
       "808                65              121              251          34   \n",
       "\n",
       "     Min Speed  Max Speed  \n",
       "0           85        207  \n",
       "1          112        240  \n",
       "2          148        284  \n",
       "3          121        251  \n",
       "4          148        284  \n",
       "..         ...        ...  \n",
       "804         27        137  \n",
       "805        197        344  \n",
       "806        261        423  \n",
       "807         65        183  \n",
       "808         65        183  \n",
       "\n",
       "[809 rows x 25 columns]"
      ]
     },
     "execution_count": 64,
     "metadata": {},
     "output_type": "execute_result"
    }
   ],
   "source": [
    "df_pokemon"
   ]
  },
  {
   "cell_type": "markdown",
   "metadata": {},
   "source": [
    "### Total"
   ]
  },
  {
   "cell_type": "code",
   "execution_count": 65,
   "metadata": {},
   "outputs": [],
   "source": [
    "# we compute the total for each stats category (base at lvl 1, min at lvl 100 and max at lvl 100)\n",
    "\n",
    "df_pokemon['Base Total'] = df_pokemon['Base HP'] + df_pokemon['Base Attack'] + df_pokemon['Base Defense'] + df_pokemon['Base Sp. Attack'] + df_pokemon['Base Sp. Defense'] + df_pokemon['Base Speed']\n",
    "df_pokemon['Min Total'] = df_pokemon['Min HP'] + df_pokemon['Min Attack'] + df_pokemon['Min Defense'] + df_pokemon['Min Sp. Attack'] + df_pokemon['Min Sp. Defense'] + df_pokemon['Min Speed']\n",
    "df_pokemon['Max Total'] = df_pokemon['Max HP'] + df_pokemon['Max Attack'] + df_pokemon['Max Defense'] + df_pokemon['Max Sp. Attack'] + df_pokemon['Max Sp. Defense'] + df_pokemon['Max Speed']"
   ]
  },
  {
   "cell_type": "markdown",
   "metadata": {},
   "source": [
    "### Legendary"
   ]
  },
  {
   "cell_type": "code",
   "execution_count": 66,
   "metadata": {},
   "outputs": [],
   "source": [
    "# we copy and paste a legendary pokemon list found on Wikipedia\n",
    "\n",
    "legendary_raw_list = 'Articuno • Zapdos • Moltres • Mewtwo • Mew • Raikou • Entei • Suicune • Lugia • Ho-oh • Celebi • Regirock • Regice • Registeel • Latias • Latios • Kyogre • Groudon • Rayquaza • Jirachi • Deoxys • Uxie • Mesprit • Azelf • Dialga • Palkia • Heatran • Regigigas • Giratina • Cresselia • Phione • Manaphy • Darkrai • Shaymin • Arceus • Victini • Cobalion • Terrakion • Virizion • Tornadus • Thundurus • Reshiram • Zekrom • Landorus • Kyurem • Keldeo • Meloetta • Genesect • Xerneas • Yveltal • Zygarde • Diancie • Hoopa • Volcanion • Type-Null • Silvally • Tapu Koko • Tapu Lele • Tapu Bulu • Tapu Fini • Cosmog • Cosmoem • Solgaleo • Lunala • Necrozma • Magearna • Marshadow • Zeraora • Meltan • Melmetal'"
   ]
  },
  {
   "cell_type": "code",
   "execution_count": 67,
   "metadata": {},
   "outputs": [],
   "source": [
    "legendary_raw_list = legendary_raw_list.replace('•',',')"
   ]
  },
  {
   "cell_type": "code",
   "execution_count": 68,
   "metadata": {},
   "outputs": [
    {
     "data": {
      "text/plain": [
       "'Articuno , Zapdos , Moltres , Mewtwo , Mew , Raikou , Entei , Suicune , Lugia , Ho-oh , Celebi , Regirock , Regice , Registeel , Latias , Latios , Kyogre , Groudon , Rayquaza , Jirachi , Deoxys , Uxie , Mesprit , Azelf , Dialga , Palkia , Heatran , Regigigas , Giratina , Cresselia , Phione , Manaphy , Darkrai , Shaymin , Arceus , Victini , Cobalion , Terrakion , Virizion , Tornadus , Thundurus , Reshiram , Zekrom , Landorus , Kyurem , Keldeo , Meloetta , Genesect , Xerneas , Yveltal , Zygarde , Diancie , Hoopa , Volcanion , Type-Null , Silvally , Tapu Koko , Tapu Lele , Tapu Bulu , Tapu Fini , Cosmog , Cosmoem , Solgaleo , Lunala , Necrozma , Magearna , Marshadow , Zeraora , Meltan , Melmetal'"
      ]
     },
     "execution_count": 68,
     "metadata": {},
     "output_type": "execute_result"
    }
   ],
   "source": [
    "legendary_raw_list"
   ]
  },
  {
   "cell_type": "code",
   "execution_count": 69,
   "metadata": {},
   "outputs": [],
   "source": [
    "legendary_list = legendary_raw_list.split(',')"
   ]
  },
  {
   "cell_type": "code",
   "execution_count": 71,
   "metadata": {},
   "outputs": [],
   "source": [
    "legendary_list = [name.strip() for name in legendary_list]"
   ]
  },
  {
   "cell_type": "code",
   "execution_count": 72,
   "metadata": {
    "scrolled": true
   },
   "outputs": [
    {
     "data": {
      "text/plain": [
       "['Articuno',\n",
       " 'Zapdos',\n",
       " 'Moltres',\n",
       " 'Mewtwo',\n",
       " 'Mew',\n",
       " 'Raikou',\n",
       " 'Entei',\n",
       " 'Suicune',\n",
       " 'Lugia',\n",
       " 'Ho-oh',\n",
       " 'Celebi',\n",
       " 'Regirock',\n",
       " 'Regice',\n",
       " 'Registeel',\n",
       " 'Latias',\n",
       " 'Latios',\n",
       " 'Kyogre',\n",
       " 'Groudon',\n",
       " 'Rayquaza',\n",
       " 'Jirachi',\n",
       " 'Deoxys',\n",
       " 'Uxie',\n",
       " 'Mesprit',\n",
       " 'Azelf',\n",
       " 'Dialga',\n",
       " 'Palkia',\n",
       " 'Heatran',\n",
       " 'Regigigas',\n",
       " 'Giratina',\n",
       " 'Cresselia',\n",
       " 'Phione',\n",
       " 'Manaphy',\n",
       " 'Darkrai',\n",
       " 'Shaymin',\n",
       " 'Arceus',\n",
       " 'Victini',\n",
       " 'Cobalion',\n",
       " 'Terrakion',\n",
       " 'Virizion',\n",
       " 'Tornadus',\n",
       " 'Thundurus',\n",
       " 'Reshiram',\n",
       " 'Zekrom',\n",
       " 'Landorus',\n",
       " 'Kyurem',\n",
       " 'Keldeo',\n",
       " 'Meloetta',\n",
       " 'Genesect',\n",
       " 'Xerneas',\n",
       " 'Yveltal',\n",
       " 'Zygarde',\n",
       " 'Diancie',\n",
       " 'Hoopa',\n",
       " 'Volcanion',\n",
       " 'Type-Null',\n",
       " 'Silvally',\n",
       " 'Tapu Koko',\n",
       " 'Tapu Lele',\n",
       " 'Tapu Bulu',\n",
       " 'Tapu Fini',\n",
       " 'Cosmog',\n",
       " 'Cosmoem',\n",
       " 'Solgaleo',\n",
       " 'Lunala',\n",
       " 'Necrozma',\n",
       " 'Magearna',\n",
       " 'Marshadow',\n",
       " 'Zeraora',\n",
       " 'Meltan',\n",
       " 'Melmetal']"
      ]
     },
     "execution_count": 72,
     "metadata": {},
     "output_type": "execute_result"
    }
   ],
   "source": [
    "legendary_list"
   ]
  },
  {
   "cell_type": "code",
   "execution_count": 73,
   "metadata": {},
   "outputs": [],
   "source": [
    "# we create a list containing a boolean for each Pokemon (True if legendary, False if not legendary)\n",
    "\n",
    "legendary = []\n",
    "\n",
    "for index, row in df_pokemon.iterrows():\n",
    "    if row['Name'] in legendary_list:\n",
    "        legendary.append(\"True\")\n",
    "    else:\n",
    "        legendary.append(\"False\")"
   ]
  },
  {
   "cell_type": "code",
   "execution_count": 76,
   "metadata": {},
   "outputs": [],
   "source": [
    "df_pokemon['Legendary'] = legendary"
   ]
  },
  {
   "cell_type": "markdown",
   "metadata": {},
   "source": [
    "### Generation"
   ]
  },
  {
   "cell_type": "code",
   "execution_count": 78,
   "metadata": {},
   "outputs": [],
   "source": [
    "# according to their pokedex number, we define the generation which each pokemon belongs to (ranges found on the internet)\n",
    "\n",
    "gen_list = []\n",
    "\n",
    "for index, row in df_pokemon.iterrows():\n",
    "    if 0 < row['Pokedex Number'] < 152:\n",
    "        gen = 1\n",
    "    elif 151 < row['Pokedex Number'] < 252:\n",
    "        gen = 2\n",
    "    elif 251 < row['Pokedex Number'] < 387:\n",
    "        gen = 3\n",
    "    elif 386 < row['Pokedex Number'] < 494:\n",
    "        gen = 4\n",
    "    elif 493 < row['Pokedex Number'] < 650:\n",
    "        gen = 5\n",
    "    elif 649 < row['Pokedex Number'] < 722:\n",
    "        gen = 6\n",
    "    elif 721 < row['Pokedex Number']:\n",
    "        gen = 7\n",
    "    \n",
    "    gen_list.append(gen)"
   ]
  },
  {
   "cell_type": "code",
   "execution_count": 80,
   "metadata": {},
   "outputs": [],
   "source": [
    "df_pokemon['Generation'] = gen_list"
   ]
  },
  {
   "cell_type": "code",
   "execution_count": 82,
   "metadata": {},
   "outputs": [
    {
     "data": {
      "text/html": [
       "<div>\n",
       "<style scoped>\n",
       "    .dataframe tbody tr th:only-of-type {\n",
       "        vertical-align: middle;\n",
       "    }\n",
       "\n",
       "    .dataframe tbody tr th {\n",
       "        vertical-align: top;\n",
       "    }\n",
       "\n",
       "    .dataframe thead th {\n",
       "        text-align: right;\n",
       "    }\n",
       "</style>\n",
       "<table border=\"1\" class=\"dataframe\">\n",
       "  <thead>\n",
       "    <tr style=\"text-align: right;\">\n",
       "      <th></th>\n",
       "      <th>Pokedex Number</th>\n",
       "      <th>Name</th>\n",
       "      <th>URL</th>\n",
       "      <th>Type1</th>\n",
       "      <th>Type2</th>\n",
       "      <th>Height</th>\n",
       "      <th>Weight</th>\n",
       "      <th>Base HP</th>\n",
       "      <th>Min HP</th>\n",
       "      <th>Max HP</th>\n",
       "      <th>...</th>\n",
       "      <th>Min Sp. Defense</th>\n",
       "      <th>Max Sp. Defense</th>\n",
       "      <th>Base Speed</th>\n",
       "      <th>Min Speed</th>\n",
       "      <th>Max Speed</th>\n",
       "      <th>Base Total</th>\n",
       "      <th>Min Total</th>\n",
       "      <th>Max Total</th>\n",
       "      <th>Legendary</th>\n",
       "      <th>Generation</th>\n",
       "    </tr>\n",
       "  </thead>\n",
       "  <tbody>\n",
       "    <tr>\n",
       "      <td>0</td>\n",
       "      <td>1</td>\n",
       "      <td>Bulbasaur</td>\n",
       "      <td>https://pokemondb.net/pokedex/bulbasaur</td>\n",
       "      <td>Grass</td>\n",
       "      <td>Poison</td>\n",
       "      <td>0.7</td>\n",
       "      <td>6.9</td>\n",
       "      <td>45</td>\n",
       "      <td>200</td>\n",
       "      <td>294</td>\n",
       "      <td>...</td>\n",
       "      <td>121</td>\n",
       "      <td>251</td>\n",
       "      <td>45</td>\n",
       "      <td>85</td>\n",
       "      <td>207</td>\n",
       "      <td>318</td>\n",
       "      <td>711</td>\n",
       "      <td>1435</td>\n",
       "      <td>False</td>\n",
       "      <td>1</td>\n",
       "    </tr>\n",
       "    <tr>\n",
       "      <td>1</td>\n",
       "      <td>2</td>\n",
       "      <td>Ivysaur</td>\n",
       "      <td>https://pokemondb.net/pokedex/ivysaur</td>\n",
       "      <td>Grass</td>\n",
       "      <td>Poison</td>\n",
       "      <td>1.0</td>\n",
       "      <td>13.0</td>\n",
       "      <td>60</td>\n",
       "      <td>230</td>\n",
       "      <td>324</td>\n",
       "      <td>...</td>\n",
       "      <td>148</td>\n",
       "      <td>284</td>\n",
       "      <td>60</td>\n",
       "      <td>112</td>\n",
       "      <td>240</td>\n",
       "      <td>405</td>\n",
       "      <td>871</td>\n",
       "      <td>1624</td>\n",
       "      <td>False</td>\n",
       "      <td>1</td>\n",
       "    </tr>\n",
       "    <tr>\n",
       "      <td>2</td>\n",
       "      <td>3</td>\n",
       "      <td>Venusaur</td>\n",
       "      <td>https://pokemondb.net/pokedex/venusaur</td>\n",
       "      <td>Grass</td>\n",
       "      <td>Poison</td>\n",
       "      <td>2.0</td>\n",
       "      <td>100.0</td>\n",
       "      <td>80</td>\n",
       "      <td>270</td>\n",
       "      <td>364</td>\n",
       "      <td>...</td>\n",
       "      <td>184</td>\n",
       "      <td>328</td>\n",
       "      <td>80</td>\n",
       "      <td>148</td>\n",
       "      <td>284</td>\n",
       "      <td>525</td>\n",
       "      <td>1091</td>\n",
       "      <td>1884</td>\n",
       "      <td>False</td>\n",
       "      <td>1</td>\n",
       "    </tr>\n",
       "    <tr>\n",
       "      <td>3</td>\n",
       "      <td>4</td>\n",
       "      <td>Charmander</td>\n",
       "      <td>https://pokemondb.net/pokedex/charmander</td>\n",
       "      <td>Fire</td>\n",
       "      <td>None</td>\n",
       "      <td>0.6</td>\n",
       "      <td>8.5</td>\n",
       "      <td>39</td>\n",
       "      <td>188</td>\n",
       "      <td>282</td>\n",
       "      <td>...</td>\n",
       "      <td>94</td>\n",
       "      <td>218</td>\n",
       "      <td>65</td>\n",
       "      <td>121</td>\n",
       "      <td>251</td>\n",
       "      <td>309</td>\n",
       "      <td>694</td>\n",
       "      <td>1417</td>\n",
       "      <td>False</td>\n",
       "      <td>1</td>\n",
       "    </tr>\n",
       "    <tr>\n",
       "      <td>4</td>\n",
       "      <td>5</td>\n",
       "      <td>Charmeleon</td>\n",
       "      <td>https://pokemondb.net/pokedex/charmeleon</td>\n",
       "      <td>Fire</td>\n",
       "      <td>None</td>\n",
       "      <td>1.1</td>\n",
       "      <td>19.0</td>\n",
       "      <td>58</td>\n",
       "      <td>226</td>\n",
       "      <td>320</td>\n",
       "      <td>...</td>\n",
       "      <td>121</td>\n",
       "      <td>251</td>\n",
       "      <td>80</td>\n",
       "      <td>148</td>\n",
       "      <td>284</td>\n",
       "      <td>405</td>\n",
       "      <td>870</td>\n",
       "      <td>1624</td>\n",
       "      <td>False</td>\n",
       "      <td>1</td>\n",
       "    </tr>\n",
       "    <tr>\n",
       "      <td>...</td>\n",
       "      <td>...</td>\n",
       "      <td>...</td>\n",
       "      <td>...</td>\n",
       "      <td>...</td>\n",
       "      <td>...</td>\n",
       "      <td>...</td>\n",
       "      <td>...</td>\n",
       "      <td>...</td>\n",
       "      <td>...</td>\n",
       "      <td>...</td>\n",
       "      <td>...</td>\n",
       "      <td>...</td>\n",
       "      <td>...</td>\n",
       "      <td>...</td>\n",
       "      <td>...</td>\n",
       "      <td>...</td>\n",
       "      <td>...</td>\n",
       "      <td>...</td>\n",
       "      <td>...</td>\n",
       "      <td>...</td>\n",
       "      <td>...</td>\n",
       "    </tr>\n",
       "    <tr>\n",
       "      <td>804</td>\n",
       "      <td>805</td>\n",
       "      <td>Stakataka</td>\n",
       "      <td>https://pokemondb.net/pokedex/stakataka</td>\n",
       "      <td>Rock</td>\n",
       "      <td>Steel</td>\n",
       "      <td>5.5</td>\n",
       "      <td>820.0</td>\n",
       "      <td>61</td>\n",
       "      <td>232</td>\n",
       "      <td>326</td>\n",
       "      <td>...</td>\n",
       "      <td>186</td>\n",
       "      <td>331</td>\n",
       "      <td>13</td>\n",
       "      <td>27</td>\n",
       "      <td>137</td>\n",
       "      <td>570</td>\n",
       "      <td>1168</td>\n",
       "      <td>1989</td>\n",
       "      <td>False</td>\n",
       "      <td>7</td>\n",
       "    </tr>\n",
       "    <tr>\n",
       "      <td>805</td>\n",
       "      <td>806</td>\n",
       "      <td>Blacephalon</td>\n",
       "      <td>https://pokemondb.net/pokedex/blacephalon</td>\n",
       "      <td>Fire</td>\n",
       "      <td>Ghost</td>\n",
       "      <td>1.8</td>\n",
       "      <td>13.0</td>\n",
       "      <td>53</td>\n",
       "      <td>216</td>\n",
       "      <td>310</td>\n",
       "      <td>...</td>\n",
       "      <td>146</td>\n",
       "      <td>282</td>\n",
       "      <td>107</td>\n",
       "      <td>197</td>\n",
       "      <td>344</td>\n",
       "      <td>570</td>\n",
       "      <td>1167</td>\n",
       "      <td>1990</td>\n",
       "      <td>False</td>\n",
       "      <td>7</td>\n",
       "    </tr>\n",
       "    <tr>\n",
       "      <td>806</td>\n",
       "      <td>807</td>\n",
       "      <td>Zeraora</td>\n",
       "      <td>https://pokemondb.net/pokedex/zeraora</td>\n",
       "      <td>Electric</td>\n",
       "      <td>None</td>\n",
       "      <td>1.5</td>\n",
       "      <td>44.5</td>\n",
       "      <td>88</td>\n",
       "      <td>286</td>\n",
       "      <td>380</td>\n",
       "      <td>...</td>\n",
       "      <td>148</td>\n",
       "      <td>284</td>\n",
       "      <td>143</td>\n",
       "      <td>261</td>\n",
       "      <td>423</td>\n",
       "      <td>600</td>\n",
       "      <td>1228</td>\n",
       "      <td>2048</td>\n",
       "      <td>True</td>\n",
       "      <td>7</td>\n",
       "    </tr>\n",
       "    <tr>\n",
       "      <td>807</td>\n",
       "      <td>808</td>\n",
       "      <td>Meltan</td>\n",
       "      <td>https://pokemondb.net/pokedex/meltan</td>\n",
       "      <td>Steel</td>\n",
       "      <td>None</td>\n",
       "      <td>0.2</td>\n",
       "      <td>8.0</td>\n",
       "      <td>46</td>\n",
       "      <td>202</td>\n",
       "      <td>296</td>\n",
       "      <td>...</td>\n",
       "      <td>67</td>\n",
       "      <td>185</td>\n",
       "      <td>34</td>\n",
       "      <td>65</td>\n",
       "      <td>183</td>\n",
       "      <td>300</td>\n",
       "      <td>679</td>\n",
       "      <td>1395</td>\n",
       "      <td>True</td>\n",
       "      <td>7</td>\n",
       "    </tr>\n",
       "    <tr>\n",
       "      <td>808</td>\n",
       "      <td>809</td>\n",
       "      <td>Melmetal</td>\n",
       "      <td>https://pokemondb.net/pokedex/melmetal</td>\n",
       "      <td>Steel</td>\n",
       "      <td>None</td>\n",
       "      <td>2.5</td>\n",
       "      <td>800.0</td>\n",
       "      <td>135</td>\n",
       "      <td>380</td>\n",
       "      <td>474</td>\n",
       "      <td>...</td>\n",
       "      <td>121</td>\n",
       "      <td>251</td>\n",
       "      <td>34</td>\n",
       "      <td>65</td>\n",
       "      <td>183</td>\n",
       "      <td>600</td>\n",
       "      <td>1236</td>\n",
       "      <td>2038</td>\n",
       "      <td>True</td>\n",
       "      <td>7</td>\n",
       "    </tr>\n",
       "  </tbody>\n",
       "</table>\n",
       "<p>809 rows × 30 columns</p>\n",
       "</div>"
      ],
      "text/plain": [
       "     Pokedex Number         Name                                        URL  \\\n",
       "0                 1    Bulbasaur    https://pokemondb.net/pokedex/bulbasaur   \n",
       "1                 2      Ivysaur      https://pokemondb.net/pokedex/ivysaur   \n",
       "2                 3     Venusaur     https://pokemondb.net/pokedex/venusaur   \n",
       "3                 4   Charmander   https://pokemondb.net/pokedex/charmander   \n",
       "4                 5   Charmeleon   https://pokemondb.net/pokedex/charmeleon   \n",
       "..              ...          ...                                        ...   \n",
       "804             805    Stakataka    https://pokemondb.net/pokedex/stakataka   \n",
       "805             806  Blacephalon  https://pokemondb.net/pokedex/blacephalon   \n",
       "806             807      Zeraora      https://pokemondb.net/pokedex/zeraora   \n",
       "807             808       Meltan       https://pokemondb.net/pokedex/meltan   \n",
       "808             809     Melmetal     https://pokemondb.net/pokedex/melmetal   \n",
       "\n",
       "        Type1   Type2  Height  Weight  Base HP  Min HP  Max HP  ...  \\\n",
       "0       Grass  Poison     0.7     6.9       45     200     294  ...   \n",
       "1       Grass  Poison     1.0    13.0       60     230     324  ...   \n",
       "2       Grass  Poison     2.0   100.0       80     270     364  ...   \n",
       "3        Fire    None     0.6     8.5       39     188     282  ...   \n",
       "4        Fire    None     1.1    19.0       58     226     320  ...   \n",
       "..        ...     ...     ...     ...      ...     ...     ...  ...   \n",
       "804      Rock   Steel     5.5   820.0       61     232     326  ...   \n",
       "805      Fire   Ghost     1.8    13.0       53     216     310  ...   \n",
       "806  Electric    None     1.5    44.5       88     286     380  ...   \n",
       "807     Steel    None     0.2     8.0       46     202     296  ...   \n",
       "808     Steel    None     2.5   800.0      135     380     474  ...   \n",
       "\n",
       "     Min Sp. Defense  Max Sp. Defense  Base Speed  Min Speed  Max Speed  \\\n",
       "0                121              251          45         85        207   \n",
       "1                148              284          60        112        240   \n",
       "2                184              328          80        148        284   \n",
       "3                 94              218          65        121        251   \n",
       "4                121              251          80        148        284   \n",
       "..               ...              ...         ...        ...        ...   \n",
       "804              186              331          13         27        137   \n",
       "805              146              282         107        197        344   \n",
       "806              148              284         143        261        423   \n",
       "807               67              185          34         65        183   \n",
       "808              121              251          34         65        183   \n",
       "\n",
       "     Base Total  Min Total  Max Total  Legendary  Generation  \n",
       "0           318        711       1435      False           1  \n",
       "1           405        871       1624      False           1  \n",
       "2           525       1091       1884      False           1  \n",
       "3           309        694       1417      False           1  \n",
       "4           405        870       1624      False           1  \n",
       "..          ...        ...        ...        ...         ...  \n",
       "804         570       1168       1989      False           7  \n",
       "805         570       1167       1990      False           7  \n",
       "806         600       1228       2048       True           7  \n",
       "807         300        679       1395       True           7  \n",
       "808         600       1236       2038       True           7  \n",
       "\n",
       "[809 rows x 30 columns]"
      ]
     },
     "execution_count": 82,
     "metadata": {},
     "output_type": "execute_result"
    }
   ],
   "source": [
    "df_pokemon"
   ]
  },
  {
   "cell_type": "markdown",
   "metadata": {},
   "source": [
    "### Data export"
   ]
  },
  {
   "cell_type": "code",
   "execution_count": 81,
   "metadata": {},
   "outputs": [],
   "source": [
    "# Now that our dataset is finally complete, we export it in .csv file\n",
    "\n",
    "df_pokemon.to_csv(r'C:\\Users\\Nathan\\pokemon_dataset.csv',index=False)"
   ]
  },
  {
   "cell_type": "code",
   "execution_count": null,
   "metadata": {},
   "outputs": [],
   "source": []
  }
 ],
 "metadata": {
  "kernelspec": {
   "display_name": "Python 3",
   "language": "python",
   "name": "python3"
  },
  "language_info": {
   "codemirror_mode": {
    "name": "ipython",
    "version": 3
   },
   "file_extension": ".py",
   "mimetype": "text/x-python",
   "name": "python",
   "nbconvert_exporter": "python",
   "pygments_lexer": "ipython3",
   "version": "3.7.4"
  }
 },
 "nbformat": 4,
 "nbformat_minor": 2
}
